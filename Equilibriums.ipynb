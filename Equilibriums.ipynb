{
 "cells": [
  {
   "cell_type": "markdown",
   "metadata": {},
   "source": [
    "# Mesogens with NP | Equilibrium"
   ]
  },
  {
   "cell_type": "markdown",
   "metadata": {},
   "source": [
    "## Temperature: ### | CPU Run"
   ]
  },
  {
   "cell_type": "markdown",
   "metadata": {},
   "source": [
    "### Date: 08/01/2020 | System P = ###, Expected value of $T_c$ : ### "
   ]
  },
  {
   "cell_type": "code",
   "execution_count": null,
   "metadata": {},
   "outputs": [],
   "source": [
    "from hoomd import *\n",
    "from hoomd import md"
   ]
  },
  {
   "cell_type": "code",
   "execution_count": null,
   "metadata": {},
   "outputs": [],
   "source": [
    "temp = 6 + 0.2 * i\n",
    "press = 1.8\n",
    "init_file = \"T_CM&NP_\" + str(temp) + \"_P_\" + str(press) + \"_ramp.gsd\"\n",
    "restart_file = \"T_CM&NP_\" + str(temp) + \"_P_\" + str(press) + \"_restart.gsd\"\n",
    "log_file = \"T_\" + str(temp) + \"_P_\" + str(press) + \"_equilibrium.log\"\n",
    "gsd_file = \"T_\" + str(temp) + \"_P_\" + str(press) + \"_equilibrium.gsd\"\n",
    "directory_file = \"T_\" + str(temp) + \"_P_\" + str(press) + \"_equilibrium\""
   ]
  },
  {
   "cell_type": "code",
   "execution_count": null,
   "metadata": {},
   "outputs": [],
   "source": [
    "context.initialize(\"\")\n",
    "\n",
    "init.read_gsd(filename = init_file, frame = -1)\n",
    "\n",
    "rigid = md.constrain.rigid()\n",
    "rigid.set_param('M', types = ['A']*8, positions=[(-4,0,0),(-3,0,0),(-2,0,0),(-1,0,0),(1,0,0),(2,0,0),(3,0,0),(4,0,0)])\n",
    "rigid.create_bodies()\n",
    "\n",
    "nl = md.nlist.tree()\n",
    "lj = md.pair.lj(r_cut = 3.5, nlist = nl)\n",
    "lj.set_params(mode='shift')\n",
    "\n",
    "lj.pair_coeff.set('NP', 'NP', epsilon = 1.0, sigma = 5.0)\n",
    "lj.pair_coeff.set('M', 'M', epsilon = 1.0, sigma = 5.0)\n",
    "lj.pair_coeff.set('A', 'A', epsilon = 1.0, sigma = 5.0)\n",
    "lj.pair_coeff.set('M', 'A', epsilon = 1.0, sigma = 5.0)\n",
    "lj.pair_coeff.set('NP', 'M', epsilon = 1.0, sigma = 5.0)\n",
    "lj.pair_coeff.set('NP', 'A', epsilon = 1.0, sigma = 5.0)\n",
    "\n",
    "md.integrate.mode_standard(dt = 0.005)\n",
    "\n",
    "nanoparticles = group.type(name='NPs', type='NP')\n",
    "mesogens = group.rigid_center()\n",
    "groupNP_mes = group.union(name='NP_Mes', a = nanoparticles, b = mesogens)\n",
    "    \n",
    "npt = md.integrate.npt(group = groupNP_mes, kT = 3.3,tau = 10.0, P = temp, tauP = 10.0)\n",
    "\n",
    "gsd_restart = dump.gsd(filename = restart_file, group = groupNP_mes, truncate = True, period = 1e4, phase = 0)\n",
    "\n",
    "log = analyze.log(filename = log_file, \n",
    "                  quantities = ['num_particles','ndof','translational_ndof','rotational_ndof','potential_energy',\n",
    "                                'kinetic_energy','translational_kinetic_energy','rotational_kinetic_energy','temperature','pressure','volume'],\n",
    "                  period = 1e3,overwrite = True)\n",
    "            \n",
    "gsd = dump.gsd(gsd_file, period = 1e3, group = group.all(), overwrite = True)\n",
    "        \n",
    "run(1e4)"
   ]
  },
  {
   "cell_type": "code",
   "execution_count": null,
   "metadata": {},
   "outputs": [],
   "source": []
  },
  {
   "cell_type": "code",
   "execution_count": null,
   "metadata": {},
   "outputs": [],
   "source": []
  }
 ],
 "metadata": {
  "kernelspec": {
   "display_name": "Python 3",
   "language": "python",
   "name": "python3"
  },
  "language_info": {
   "codemirror_mode": {
    "name": "ipython",
    "version": 3
   },
   "file_extension": ".py",
   "mimetype": "text/x-python",
   "name": "python",
   "nbconvert_exporter": "python",
   "pygments_lexer": "ipython3",
   "version": "3.7.3"
  }
 },
 "nbformat": 4,
 "nbformat_minor": 4
}
