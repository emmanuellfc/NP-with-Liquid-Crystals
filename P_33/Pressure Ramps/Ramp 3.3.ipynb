{
 "cells": [
  {
   "cell_type": "markdown",
   "metadata": {},
   "source": [
    "# Mesogens with NP | Pressure Ramps"
   ]
  },
  {
   "cell_type": "markdown",
   "metadata": {},
   "source": [
    "## Pressure: 3.1 -> 3.3"
   ]
  },
  {
   "cell_type": "markdown",
   "metadata": {},
   "source": [
    "### Date: 08/01/20 | System P = 3.3, Expected value of $T_c$ : 9.91"
   ]
  },
  {
   "cell_type": "code",
   "execution_count": 1,
   "metadata": {},
   "outputs": [],
   "source": [
    "#-----Importa los paquetes esenciales para correr la simulación.\n",
    "\n",
    "from __future__ import division\n",
    "import hoomd\n",
    "import hoomd.md"
   ]
  },
  {
   "cell_type": "code",
   "execution_count": 2,
   "metadata": {},
   "outputs": [],
   "source": [
    "#-----Define important variables\n",
    "\n",
    "p_prev = 3.1;\n",
    "p_new = 3.3;\n",
    "temp = 9.0;\n",
    "steps_ramp = 1e4;\n",
    "run_time = steps_ramp;"
   ]
  },
  {
   "cell_type": "code",
   "execution_count": 3,
   "metadata": {},
   "outputs": [],
   "source": [
    "#-----Declare the file from wich we'll extract the configuration of the system.\n",
    "\n",
    "ramp_file = \"T_CM&NP_\" + str(temp) + \"_P_\" + str(p_prev) + \"_ramp.gsd\""
   ]
  },
  {
   "cell_type": "code",
   "execution_count": 4,
   "metadata": {},
   "outputs": [
    {
     "name": "stdout",
     "output_type": "stream",
     "text": [
      "HOOMD-blue 2.7.0 DOUBLE HPMC_MIXED TBB SSE SSE2 SSE3 \n",
      "Compiled: 10/02/2019\n",
      "Copyright (c) 2009-2019 The Regents of the University of Michigan.\n",
      "-----\n",
      "You are using HOOMD-blue. Please cite the following:\n",
      "* J A Anderson, C D Lorenz, and A Travesset. \"General purpose molecular dynamics\n",
      "  simulations fully implemented on graphics processing units\", Journal of\n",
      "  Computational Physics 227 (2008) 5342--5359\n",
      "* J Glaser, T D Nguyen, J A Anderson, P Liu, F Spiga, J A Millan, D C Morse, and\n",
      "  S C Glotzer. \"Strong scaling of general-purpose molecular dynamics simulations\n",
      "  on GPUs\", Computer Physics Communications 192 (2015) 97--107\n",
      "-----\n",
      "HOOMD-blue is running on the CPU\n",
      "notice(2): Group \"all\" created containing 1010 particles\n",
      "notice(2): constrain.rigid(): Creating 1000 rigid bodies (adding 8000 particles)\n",
      "-----\n",
      "You are using tree neighbor lists. Please cite the following:\n",
      "* M P Howard, J A Anderson, A Nikoubashman, S C Glotzer, and A Z\n",
      "  Panagiotopoulos. \"Efficient neighbor list calculation for molecular simulation\n",
      "  of colloidal systems using graphics processing units\", Computer Physics\n",
      "  Communications 203 (2016) 45--52\n",
      "-----\n",
      "notice(2): Group \"Nano_Particles\" created containing 10 particles\n",
      "notice(2): Group \"rigid_center\" created containing 1000 particles\n",
      "notice(2): Group \"NP_Mes\" created containing 1010 particles\n"
     ]
    }
   ],
   "source": [
    "#-----Start from a gsd file\n",
    "\n",
    "hoomd.context.initialize(\"--mode=cpu\", memory_traceback = True);\n",
    "\n",
    "#-----Select the trayectory of the center of mass of particles\n",
    "\n",
    "system = hoomd.init.read_gsd(ramp_file,frame = -1)\n",
    "\n",
    "#-----Define each rigid body type in the local coordinate system of the body.\n",
    "\n",
    "rigid = hoomd.md.constrain.rigid();\n",
    "rigid.set_param('M', \n",
    "                types=['A']*8,\n",
    "                positions=[(-4,0,0),(-3,0,0),(-2,0,0),(-1,0,0),\n",
    "                           (1,0,0),(2,0,0),(3,0,0),(4,0,0)]);\n",
    "\n",
    "#-----Instruct the rigid constraint to create the constituent particles\n",
    "\n",
    "rigid.create_bodies();\n",
    "\n",
    "#-----Define the potential energy\n",
    "\n",
    "nl = hoomd.md.nlist.tree()\n",
    "\n",
    "lj = hoomd.md.pair.lj(r_cut = 3.5, nlist=nl)\n",
    "lj.set_params(mode='shift')\n",
    "\n",
    "#-----Define interaction with species in the binary mixture\n",
    "\n",
    "lj.pair_coeff.set('NP','NP', epsilon = 1.0, sigma = 5.0);\n",
    "lj.pair_coeff.set('M' ,'M' , epsilon = 1.0, sigma = 1.0);\n",
    "lj.pair_coeff.set('A' ,'A' , epsilon = 1.0, sigma = 1.0);\n",
    "lj.pair_coeff.set('M' ,'A' , epsilon = 1.0, sigma = 1.0);\n",
    "lj.pair_coeff.set('NP','M' , epsilon = 1.0, sigma = 3.0);\n",
    "lj.pair_coeff.set('NP','A' , epsilon = 1.0, sigma = 3.0);\n",
    "\n",
    "#-----Select an standard integrator.\n",
    "\n",
    "hoomd.md.integrate.mode_standard(dt = 0.005);\n",
    "\n",
    "#------Define some groups and make their union.\n",
    "\n",
    "nanoparticles = hoomd.group.type(name = 'Nano_Particles', type = 'NP');\n",
    "mesogens = hoomd.group.rigid_center();\n",
    "groupNP_mes = hoomd.group.union(name = \"NP_Mes\", a = nanoparticles, b = mesogens);\n",
    "\n",
    "#-----Integrate using NPT\n",
    "\n",
    "pressure = hoomd.variant.linear_interp(points = [(0,p_prev), (steps_ramp, p_new)])\n",
    "npt = hoomd.md.integrate.npt(group = groupNP_mes, kT = temp, tau = 1.1, tauP = 1.0,P = pressure);\n",
    "npt.randomize_velocities(23)\n",
    "\n",
    "#-----Define los archivos en los que se guardará la información de la simulación. \n",
    "\n",
    "log_file = \"T_\" + str(temp) + \"_P_\" + str(p_new) + \"_ramp.log\"\n",
    "gsd_file = \"T_\" + str(temp) + \"_P_\" + str(p_new) + \"_ramp.gsd\" \n",
    "meso_gsd_file = \"T_CM&NP_\" + str(temp) + \"_P_\" + str(p_new) + \"_ramp.gsd\"\n",
    "\n",
    "log = hoomd.analyze.log(filename = log_file,\n",
    "                         quantities = ['num_particles',\n",
    "                                     'ndof',\n",
    "                                     'translational_ndof',\n",
    "                                     'rotational_ndof',\n",
    "                                     'potential_energy',\n",
    "                                     'kinetic_energy',\n",
    "                                     'translational_kinetic_energy',\n",
    "                                     'rotational_kinetic_energy',\n",
    "                                     'temperature',\n",
    "                                     'pressure',\n",
    "                                      'volume'],\n",
    "                         period = 1e3,\n",
    "                         overwrite = True);\n",
    "gsd = hoomd.dump.gsd(gsd_file,\n",
    "               period = 1e3,\n",
    "               group = hoomd.group.all(),\n",
    "               overwrite = True); \n",
    "meso_gsd = hoomd.dump.gsd(meso_gsd_file,\n",
    "               period = 1e3,\n",
    "               group = groupNP_mes,\n",
    "               overwrite = True);"
   ]
  },
  {
   "cell_type": "code",
   "execution_count": 5,
   "metadata": {
    "scrolled": true
   },
   "outputs": [
    {
     "name": "stdout",
     "output_type": "stream",
     "text": [
      "notice(2): -- Neighborlist exclusion statistics -- :\n",
      "notice(2): Particles with 0 exclusions             : 9010\n",
      "notice(2): Neighbors included by diameter          : no\n",
      "notice(2): Neighbors excluded when in the same body: yes\n",
      "** starting run **\n",
      "Time 00:00:10 | Step 291226 / 301000 | TPS 22.5857 | ETA 00:07:12\n",
      "Time 00:00:20 | Step 291457 / 301000 | TPS 22.9825 | ETA 00:06:55\n",
      "Time 00:00:30 | Step 291683 / 301000 | TPS 22.5626 | ETA 00:06:52\n",
      "Time 00:00:40 | Step 291903 / 301000 | TPS 21.9123 | ETA 00:06:55\n",
      "Time 00:00:50 | Step 292123 / 301000 | TPS 21.9427 | ETA 00:06:44\n",
      "Time 00:01:00 | Step 292346 / 301000 | TPS 22.2943 | ETA 00:06:28\n",
      "Time 00:01:10 | Step 292577 / 301000 | TPS 23.0636 | ETA 00:06:05\n",
      "Time 00:01:20 | Step 292813 / 301000 | TPS 23.5466 | ETA 00:05:47\n",
      "Time 00:01:30 | Step 293045 / 301000 | TPS 23.0974 | ETA 00:05:44\n",
      "Time 00:01:40 | Step 293269 / 301000 | TPS 22.3505 | ETA 00:05:45\n",
      "Time 00:01:50 | Step 293491 / 301000 | TPS 22.1315 | ETA 00:05:39\n",
      "Time 00:02:00 | Step 293709 / 301000 | TPS 21.6508 | ETA 00:05:36\n",
      "Time 00:02:10 | Step 293931 / 301000 | TPS 22.1127 | ETA 00:05:19\n",
      "Time 00:02:20 | Step 294157 / 301000 | TPS 22.5851 | ETA 00:05:02\n",
      "Time 00:02:30 | Step 294381 / 301000 | TPS 22.3577 | ETA 00:04:56\n",
      "Time 00:02:40 | Step 294593 / 301000 | TPS 21.0819 | ETA 00:05:03\n",
      "Time 00:02:50 | Step 294807 / 301000 | TPS 21.2586 | ETA 00:04:51\n",
      "Time 00:03:00 | Step 295017 / 301000 | TPS 20.9205 | ETA 00:04:45\n",
      "Time 00:03:10 | Step 295223 / 301000 | TPS 20.533 | ETA 00:04:41\n",
      "Time 00:03:20 | Step 295427 / 301000 | TPS 20.347 | ETA 00:04:33\n",
      "Time 00:03:30 | Step 295637 / 301000 | TPS 20.8996 | ETA 00:04:16\n",
      "Time 00:03:40 | Step 295859 / 301000 | TPS 22.1017 | ETA 00:03:52\n",
      "Time 00:03:50 | Step 296045 / 301000 | TPS 18.4291 | ETA 00:04:28\n",
      "Time 00:04:00 | Step 296247 / 301000 | TPS 20.0654 | ETA 00:03:56\n",
      "Time 00:04:10 | Step 296453 / 301000 | TPS 20.5909 | ETA 00:03:40\n",
      "Time 00:04:20 | Step 296643 / 301000 | TPS 18.8929 | ETA 00:03:50\n",
      "Time 00:04:31 | Step 296823 / 301000 | TPS 17.9355 | ETA 00:03:52\n",
      "Time 00:04:41 | Step 297025 / 301000 | TPS 20.1347 | ETA 00:03:17\n",
      "Time 00:04:51 | Step 297233 / 301000 | TPS 20.6639 | ETA 00:03:02\n",
      "Time 00:05:01 | Step 297445 / 301000 | TPS 21.0352 | ETA 00:02:49\n",
      "Time 00:05:11 | Step 297658 / 301000 | TPS 21.2779 | ETA 00:02:37\n",
      "Time 00:05:21 | Step 297867 / 301000 | TPS 20.8353 | ETA 00:02:30\n",
      "Time 00:05:31 | Step 298073 / 301000 | TPS 20.5643 | ETA 00:02:22\n",
      "Time 00:05:41 | Step 298278 / 301000 | TPS 20.4867 | ETA 00:02:12\n",
      "Time 00:05:51 | Step 298485 / 301000 | TPS 20.6521 | ETA 00:02:01\n",
      "Time 00:06:01 | Step 298687 / 301000 | TPS 20.1555 | ETA 00:01:54\n",
      "Time 00:06:11 | Step 298889 / 301000 | TPS 20.1279 | ETA 00:01:44\n",
      "Time 00:06:21 | Step 299093 / 301000 | TPS 20.2622 | ETA 00:01:34\n",
      "Time 00:06:31 | Step 299297 / 301000 | TPS 20.3369 | ETA 00:01:23\n",
      "Time 00:06:41 | Step 299501 / 301000 | TPS 20.3668 | ETA 00:01:13\n",
      "Time 00:06:51 | Step 299703 / 301000 | TPS 20.1503 | ETA 00:01:04\n",
      "Time 00:07:01 | Step 299913 / 301000 | TPS 20.916 | ETA 00:00:51\n",
      "Time 00:07:11 | Step 300123 / 301000 | TPS 20.9397 | ETA 00:00:41\n",
      "Time 00:07:21 | Step 300335 / 301000 | TPS 21.192 | ETA 00:00:31\n",
      "Time 00:07:31 | Step 300551 / 301000 | TPS 21.5106 | ETA 00:00:20\n",
      "Time 00:07:41 | Step 300769 / 301000 | TPS 21.7179 | ETA 00:00:10\n",
      "Time 00:07:51 | Step 300986 / 301000 | TPS 21.6808 | ETA 00:00:00\n",
      "Time 00:07:52 | Step 301000 / 301000 | TPS 21.2744 | ETA 00:00:00\n",
      "Average TPS: 21.1746\n",
      "---------\n",
      "-- Neighborlist stats:\n",
      "4900 normal updates / 101 forced updates / 0 dangerous updates\n",
      "n_neigh_min: 0 / n_neigh_max: 141 / n_neigh_avg: 62.6663\n",
      "shortest rebuild period: 1\n",
      "notice(2): Total amount of managed memory allocated through Global[Array,Vector]: 0B\n",
      "notice(2): Actual allocation sizes may be larger by up to the OS page size due to alignment.\n",
      "notice(2): List of memory allocations and last 3 functions called at time of (re-)allocation\n",
      "** run complete **\n"
     ]
    }
   ],
   "source": [
    "#-----Run the simulation.\n",
    "\n",
    "hoomd.run(run_time)"
   ]
  },
  {
   "cell_type": "code",
   "execution_count": 6,
   "metadata": {},
   "outputs": [],
   "source": [
    "#-----Get density.\n",
    "\n",
    "meta = system.get_metadata()"
   ]
  },
  {
   "cell_type": "code",
   "execution_count": 7,
   "metadata": {},
   "outputs": [],
   "source": [
    "#-----Get volume.\n",
    "\n",
    "volume = system.box.get_volume()"
   ]
  }
 ],
 "metadata": {
  "kernelspec": {
   "display_name": "Python 3",
   "language": "python",
   "name": "python3"
  },
  "language_info": {
   "codemirror_mode": {
    "name": "ipython",
    "version": 3
   },
   "file_extension": ".py",
   "mimetype": "text/x-python",
   "name": "python",
   "nbconvert_exporter": "python",
   "pygments_lexer": "ipython3",
   "version": "3.7.3"
  }
 },
 "nbformat": 4,
 "nbformat_minor": 4
}
