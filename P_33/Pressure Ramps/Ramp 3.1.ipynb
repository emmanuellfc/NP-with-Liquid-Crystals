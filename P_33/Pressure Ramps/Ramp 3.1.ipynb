{
 "cells": [
  {
   "cell_type": "markdown",
   "metadata": {},
   "source": [
    "# Mesogens with NP | Pressure Ramps"
   ]
  },
  {
   "cell_type": "markdown",
   "metadata": {},
   "source": [
    "## Pressure: 2.9 -> 3.1"
   ]
  },
  {
   "cell_type": "markdown",
   "metadata": {},
   "source": [
    "### Date: 01/07/20 | System P = 3.3, Expected value of $T_c$ : 9.91"
   ]
  },
  {
   "cell_type": "code",
   "execution_count": 1,
   "metadata": {},
   "outputs": [],
   "source": [
    "#-----Importa los paquetes esenciales para correr la simulación.\n",
    "\n",
    "from __future__ import division\n",
    "import hoomd\n",
    "import hoomd.md"
   ]
  },
  {
   "cell_type": "code",
   "execution_count": 2,
   "metadata": {},
   "outputs": [],
   "source": [
    "#-----Define important variables\n",
    "\n",
    "p_prev = 2.9;\n",
    "p_new = 3.1;\n",
    "temp = 9.0;\n",
    "steps_ramp = 1e4;\n",
    "run_time = steps_ramp;"
   ]
  },
  {
   "cell_type": "code",
   "execution_count": 3,
   "metadata": {},
   "outputs": [],
   "source": [
    "#-----Declare the file from wich we'll extract the configuration of the system.\n",
    "\n",
    "ramp_file = \"T_CM&NP_\" + str(temp) + \"_P_\" + str(p_prev) + \"_ramp.gsd\""
   ]
  },
  {
   "cell_type": "code",
   "execution_count": 4,
   "metadata": {},
   "outputs": [
    {
     "name": "stdout",
     "output_type": "stream",
     "text": [
      "HOOMD-blue 2.7.0 DOUBLE HPMC_MIXED TBB SSE SSE2 SSE3 \n",
      "Compiled: 10/02/2019\n",
      "Copyright (c) 2009-2019 The Regents of the University of Michigan.\n",
      "-----\n",
      "You are using HOOMD-blue. Please cite the following:\n",
      "* J A Anderson, C D Lorenz, and A Travesset. \"General purpose molecular dynamics\n",
      "  simulations fully implemented on graphics processing units\", Journal of\n",
      "  Computational Physics 227 (2008) 5342--5359\n",
      "* J Glaser, T D Nguyen, J A Anderson, P Liu, F Spiga, J A Millan, D C Morse, and\n",
      "  S C Glotzer. \"Strong scaling of general-purpose molecular dynamics simulations\n",
      "  on GPUs\", Computer Physics Communications 192 (2015) 97--107\n",
      "-----\n",
      "HOOMD-blue is running on the CPU\n",
      "notice(2): Group \"all\" created containing 1010 particles\n",
      "notice(2): constrain.rigid(): Creating 1000 rigid bodies (adding 8000 particles)\n",
      "-----\n",
      "You are using tree neighbor lists. Please cite the following:\n",
      "* M P Howard, J A Anderson, A Nikoubashman, S C Glotzer, and A Z\n",
      "  Panagiotopoulos. \"Efficient neighbor list calculation for molecular simulation\n",
      "  of colloidal systems using graphics processing units\", Computer Physics\n",
      "  Communications 203 (2016) 45--52\n",
      "-----\n",
      "notice(2): Group \"Nano_Particles\" created containing 10 particles\n",
      "notice(2): Group \"rigid_center\" created containing 1000 particles\n",
      "notice(2): Group \"NP_Mes\" created containing 1010 particles\n"
     ]
    }
   ],
   "source": [
    "#-----Start from a gsd file\n",
    "\n",
    "hoomd.context.initialize(\"--mode=cpu\", memory_traceback = True);\n",
    "\n",
    "#-----Select the trayectory of the center of mass of particles\n",
    "\n",
    "system = hoomd.init.read_gsd(ramp_file,frame = -1)\n",
    "\n",
    "#-----Define each rigid body type in the local coordinate system of the body.\n",
    "\n",
    "rigid = hoomd.md.constrain.rigid();\n",
    "rigid.set_param('M', \n",
    "                types=['A']*8,\n",
    "                positions=[(-4,0,0),(-3,0,0),(-2,0,0),(-1,0,0),\n",
    "                           (1,0,0),(2,0,0),(3,0,0),(4,0,0)]);\n",
    "\n",
    "#-----Instruct the rigid constraint to create the constituent particles\n",
    "\n",
    "rigid.create_bodies();\n",
    "\n",
    "#-----Define the potential energy\n",
    "\n",
    "nl = hoomd.md.nlist.tree()\n",
    "\n",
    "lj = hoomd.md.pair.lj(r_cut = 3.5, nlist=nl)\n",
    "lj.set_params(mode='shift')\n",
    "\n",
    "#-----Define interaction with species in the binary mixture\n",
    "\n",
    "lj.pair_coeff.set('NP','NP', epsilon = 1.0, sigma = 5.0);\n",
    "lj.pair_coeff.set('M' ,'M' , epsilon = 1.0, sigma = 1.0);\n",
    "lj.pair_coeff.set('A' ,'A' , epsilon = 1.0, sigma = 1.0);\n",
    "lj.pair_coeff.set('M' ,'A' , epsilon = 1.0, sigma = 1.0);\n",
    "lj.pair_coeff.set('NP','M' , epsilon = 1.0, sigma = 3.0);\n",
    "lj.pair_coeff.set('NP','A' , epsilon = 1.0, sigma = 3.0);\n",
    "\n",
    "#-----Select an standard integrator.\n",
    "\n",
    "hoomd.md.integrate.mode_standard(dt = 0.005);\n",
    "\n",
    "#------Define some groups and make their union.\n",
    "\n",
    "nanoparticles = hoomd.group.type(name = 'Nano_Particles', type = 'NP');\n",
    "mesogens = hoomd.group.rigid_center();\n",
    "groupNP_mes = hoomd.group.union(name = \"NP_Mes\", a = nanoparticles, b = mesogens);\n",
    "\n",
    "#-----Integrate using NPT\n",
    "\n",
    "pressure = hoomd.variant.linear_interp(points = [(0,p_prev), (steps_ramp, p_new)])\n",
    "npt = hoomd.md.integrate.npt(group = groupNP_mes, kT = temp, tau = 1.5, tauP = 2.5, P = pressure);\n",
    "npt.randomize_velocities(23)\n",
    "\n",
    "#-----Define los archivos en los que se guardará la información de la simulación. \n",
    "\n",
    "log_file = \"T_\" + str(temp) + \"_P_\" + str(p_new) + \"_ramp.log\"\n",
    "gsd_file = \"T_\" + str(temp) + \"_P_\" + str(p_new) + \"_ramp.gsd\" \n",
    "meso_gsd_file = \"T_CM&NP_\" + str(temp) + \"_P_\" + str(p_new) + \"_ramp.gsd\"\n",
    "\n",
    "log = hoomd.analyze.log(filename = log_file,\n",
    "                         quantities = ['num_particles',\n",
    "                                     'ndof',\n",
    "                                     'translational_ndof',\n",
    "                                     'rotational_ndof',\n",
    "                                     'potential_energy',\n",
    "                                     'kinetic_energy',\n",
    "                                     'translational_kinetic_energy',\n",
    "                                     'rotational_kinetic_energy',\n",
    "                                     'temperature',\n",
    "                                     'pressure',\n",
    "                                      'volume'],\n",
    "                         period = 1e3,\n",
    "                         overwrite = True);\n",
    "gsd = hoomd.dump.gsd(gsd_file,\n",
    "               period = 1e3,\n",
    "               group = hoomd.group.all(),\n",
    "               overwrite = True); \n",
    "meso_gsd = hoomd.dump.gsd(meso_gsd_file,\n",
    "               period = 1e3,\n",
    "               group = groupNP_mes,\n",
    "               overwrite = True);"
   ]
  },
  {
   "cell_type": "code",
   "execution_count": 5,
   "metadata": {
    "scrolled": true
   },
   "outputs": [
    {
     "name": "stdout",
     "output_type": "stream",
     "text": [
      "notice(2): -- Neighborlist exclusion statistics -- :\n",
      "notice(2): Particles with 0 exclusions             : 9010\n",
      "notice(2): Neighbors included by diameter          : no\n",
      "notice(2): Neighbors excluded when in the same body: yes\n",
      "** starting run **\n",
      "Time 00:00:10 | Step 282194 / 292000 | TPS 19.3835 | ETA 00:08:25\n",
      "Time 00:00:20 | Step 282373 / 292000 | TPS 17.8526 | ETA 00:08:59\n",
      "Time 00:00:30 | Step 282558 / 292000 | TPS 18.4891 | ETA 00:08:30\n",
      "Time 00:00:40 | Step 282744 / 292000 | TPS 18.5839 | ETA 00:08:18\n",
      "Time 00:00:50 | Step 282921 / 292000 | TPS 17.6509 | ETA 00:08:34\n",
      "Time 00:01:00 | Step 283098 / 292000 | TPS 17.6071 | ETA 00:08:25\n",
      "Time 00:01:10 | Step 283258 / 292000 | TPS 15.9906 | ETA 00:09:06\n",
      "Time 00:01:20 | Step 283425 / 292000 | TPS 16.577 | ETA 00:08:37\n",
      "Time 00:01:30 | Step 283585 / 292000 | TPS 15.8354 | ETA 00:08:51\n",
      "Time 00:01:40 | Step 283758 / 292000 | TPS 17.2288 | ETA 00:07:58\n",
      "Time 00:01:50 | Step 283939 / 292000 | TPS 18.0605 | ETA 00:07:26\n",
      "Time 00:02:00 | Step 284119 / 292000 | TPS 17.9958 | ETA 00:07:17\n",
      "Time 00:02:10 | Step 284305 / 292000 | TPS 18.5815 | ETA 00:06:54\n",
      "Time 00:02:20 | Step 284499 / 292000 | TPS 19.3133 | ETA 00:06:28\n",
      "Time 00:02:30 | Step 284694 / 292000 | TPS 19.4998 | ETA 00:06:14\n",
      "Time 00:02:40 | Step 284891 / 292000 | TPS 19.6454 | ETA 00:06:01\n",
      "Time 00:02:50 | Step 285085 / 292000 | TPS 19.3438 | ETA 00:05:57\n",
      "Time 00:03:00 | Step 285271 / 292000 | TPS 18.5481 | ETA 00:06:02\n",
      "Time 00:03:10 | Step 285479 / 292000 | TPS 20.7177 | ETA 00:05:14\n",
      "Time 00:03:20 | Step 285697 / 292000 | TPS 21.6963 | ETA 00:04:50\n",
      "Time 00:03:30 | Step 285917 / 292000 | TPS 21.9463 | ETA 00:04:37\n",
      "Time 00:03:40 | Step 286125 / 292000 | TPS 20.7034 | ETA 00:04:43\n",
      "Time 00:03:50 | Step 286338 / 292000 | TPS 21.2835 | ETA 00:04:26\n",
      "Time 00:04:00 | Step 286573 / 292000 | TPS 23.4633 | ETA 00:03:51\n",
      "Time 00:04:10 | Step 286812 / 292000 | TPS 23.8857 | ETA 00:03:37\n",
      "Time 00:04:20 | Step 287043 / 292000 | TPS 23.0702 | ETA 00:03:34\n",
      "Time 00:04:30 | Step 287275 / 292000 | TPS 23.1131 | ETA 00:03:24\n",
      "Time 00:04:40 | Step 287499 / 292000 | TPS 22.3319 | ETA 00:03:21\n",
      "Time 00:04:50 | Step 287717 / 292000 | TPS 21.768 | ETA 00:03:16\n",
      "Time 00:05:00 | Step 287935 / 292000 | TPS 21.6694 | ETA 00:03:07\n",
      "Time 00:05:10 | Step 288153 / 292000 | TPS 21.7831 | ETA 00:02:56\n",
      "Time 00:05:20 | Step 288355 / 292000 | TPS 20.1517 | ETA 00:03:00\n",
      "Time 00:05:30 | Step 288561 / 292000 | TPS 20.5652 | ETA 00:02:47\n",
      "Time 00:05:40 | Step 288773 / 292000 | TPS 21.1185 | ETA 00:02:32\n",
      "Time 00:05:50 | Step 288990 / 292000 | TPS 21.6849 | ETA 00:02:18\n",
      "Time 00:06:01 | Step 289207 / 292000 | TPS 21.5741 | ETA 00:02:09\n",
      "Time 00:06:11 | Step 289424 / 292000 | TPS 21.6783 | ETA 00:01:58\n",
      "Time 00:06:21 | Step 289635 / 292000 | TPS 20.949 | ETA 00:01:52\n",
      "Time 00:06:31 | Step 289841 / 292000 | TPS 20.4777 | ETA 00:01:45\n",
      "Time 00:06:41 | Step 290055 / 292000 | TPS 21.3997 | ETA 00:01:30\n",
      "Time 00:06:51 | Step 290275 / 292000 | TPS 21.8778 | ETA 00:01:18\n",
      "Time 00:07:01 | Step 290497 / 292000 | TPS 22.1014 | ETA 00:01:08\n",
      "Time 00:07:11 | Step 290715 / 292000 | TPS 21.6423 | ETA 00:00:59\n",
      "Time 00:07:21 | Step 290943 / 292000 | TPS 22.7242 | ETA 00:00:46\n",
      "Time 00:07:31 | Step 291174 / 292000 | TPS 23.0897 | ETA 00:00:35\n",
      "Time 00:07:41 | Step 291403 / 292000 | TPS 22.8551 | ETA 00:00:26\n",
      "Time 00:07:51 | Step 291626 / 292000 | TPS 22.2702 | ETA 00:00:16\n",
      "Time 00:08:01 | Step 291847 / 292000 | TPS 22.0462 | ETA 00:00:06\n",
      "Time 00:08:08 | Step 292000 / 292000 | TPS 21.787 | ETA 00:00:00\n",
      "Average TPS: 20.4729\n",
      "---------\n",
      "-- Neighborlist stats:\n",
      "4903 normal updates / 101 forced updates / 0 dangerous updates\n",
      "n_neigh_min: 0 / n_neigh_max: 142 / n_neigh_avg: 61.6039\n",
      "shortest rebuild period: 1\n",
      "notice(2): Total amount of managed memory allocated through Global[Array,Vector]: 0B\n",
      "notice(2): Actual allocation sizes may be larger by up to the OS page size due to alignment.\n",
      "notice(2): List of memory allocations and last 3 functions called at time of (re-)allocation\n",
      "** run complete **\n"
     ]
    }
   ],
   "source": [
    "#-----Run the simulation.\n",
    "\n",
    "hoomd.run(run_time)"
   ]
  },
  {
   "cell_type": "code",
   "execution_count": 6,
   "metadata": {},
   "outputs": [],
   "source": [
    "#-----Get density.\n",
    "\n",
    "meta = system.get_metadata()"
   ]
  },
  {
   "cell_type": "code",
   "execution_count": 7,
   "metadata": {},
   "outputs": [],
   "source": [
    "#-----Get volume.\n",
    "\n",
    "volume = system.box.get_volume()"
   ]
  }
 ],
 "metadata": {
  "kernelspec": {
   "display_name": "Python 3",
   "language": "python",
   "name": "python3"
  },
  "language_info": {
   "codemirror_mode": {
    "name": "ipython",
    "version": 3
   },
   "file_extension": ".py",
   "mimetype": "text/x-python",
   "name": "python",
   "nbconvert_exporter": "python",
   "pygments_lexer": "ipython3",
   "version": "3.7.3"
  }
 },
 "nbformat": 4,
 "nbformat_minor": 4
}
