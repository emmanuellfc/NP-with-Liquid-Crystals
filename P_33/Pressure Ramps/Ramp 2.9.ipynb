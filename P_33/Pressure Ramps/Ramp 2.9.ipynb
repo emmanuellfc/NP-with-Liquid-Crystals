{
 "cells": [
  {
   "cell_type": "markdown",
   "metadata": {},
   "source": [
    "# Mesogens with NP | Pressure Ramps"
   ]
  },
  {
   "cell_type": "markdown",
   "metadata": {},
   "source": [
    "## Pressure: 2.7 -> 2.9"
   ]
  },
  {
   "cell_type": "markdown",
   "metadata": {},
   "source": [
    "### Date: 01/07/20 | System P = 3.3, Expected value of $T_c$ : 9.91"
   ]
  },
  {
   "cell_type": "code",
   "execution_count": 1,
   "metadata": {},
   "outputs": [],
   "source": [
    "#-----Importa los paquetes esenciales para correr la simulación.\n",
    "\n",
    "from __future__ import division\n",
    "import hoomd\n",
    "import hoomd.md"
   ]
  },
  {
   "cell_type": "code",
   "execution_count": 2,
   "metadata": {},
   "outputs": [],
   "source": [
    "#-----Define important variables\n",
    "\n",
    "p_prev = 2.7;\n",
    "p_new = 2.9;\n",
    "temp = 9.0;\n",
    "steps_ramp = 1e4;\n",
    "run_time = steps_ramp;"
   ]
  },
  {
   "cell_type": "code",
   "execution_count": 3,
   "metadata": {},
   "outputs": [],
   "source": [
    "#-----Declare the file from wich we'll extract the configuration of the system.\n",
    "\n",
    "ramp_file = \"T_CM&NP_\" + str(temp) + \"_P_\" + str(p_prev) + \"_ramp.gsd\""
   ]
  },
  {
   "cell_type": "code",
   "execution_count": 4,
   "metadata": {},
   "outputs": [
    {
     "name": "stdout",
     "output_type": "stream",
     "text": [
      "HOOMD-blue 2.7.0 DOUBLE HPMC_MIXED TBB SSE SSE2 SSE3 \n",
      "Compiled: 10/02/2019\n",
      "Copyright (c) 2009-2019 The Regents of the University of Michigan.\n",
      "-----\n",
      "You are using HOOMD-blue. Please cite the following:\n",
      "* J A Anderson, C D Lorenz, and A Travesset. \"General purpose molecular dynamics\n",
      "  simulations fully implemented on graphics processing units\", Journal of\n",
      "  Computational Physics 227 (2008) 5342--5359\n",
      "* J Glaser, T D Nguyen, J A Anderson, P Liu, F Spiga, J A Millan, D C Morse, and\n",
      "  S C Glotzer. \"Strong scaling of general-purpose molecular dynamics simulations\n",
      "  on GPUs\", Computer Physics Communications 192 (2015) 97--107\n",
      "-----\n",
      "HOOMD-blue is running on the CPU\n",
      "notice(2): Group \"all\" created containing 1010 particles\n",
      "notice(2): constrain.rigid(): Creating 1000 rigid bodies (adding 8000 particles)\n",
      "-----\n",
      "You are using tree neighbor lists. Please cite the following:\n",
      "* M P Howard, J A Anderson, A Nikoubashman, S C Glotzer, and A Z\n",
      "  Panagiotopoulos. \"Efficient neighbor list calculation for molecular simulation\n",
      "  of colloidal systems using graphics processing units\", Computer Physics\n",
      "  Communications 203 (2016) 45--52\n",
      "-----\n",
      "notice(2): Group \"Nano_Particles\" created containing 10 particles\n",
      "notice(2): Group \"rigid_center\" created containing 1000 particles\n",
      "notice(2): Group \"NP_Mes\" created containing 1010 particles\n"
     ]
    }
   ],
   "source": [
    "#-----Start from a gsd file\n",
    "\n",
    "hoomd.context.initialize(\"--mode=cpu\", memory_traceback = True);\n",
    "\n",
    "#-----Select the trayectory of the center of mass of particles\n",
    "\n",
    "system = hoomd.init.read_gsd(ramp_file,frame = -1)\n",
    "\n",
    "#-----Define each rigid body type in the local coordinate system of the body.\n",
    "\n",
    "rigid = hoomd.md.constrain.rigid();\n",
    "rigid.set_param('M', \n",
    "                types=['A']*8,\n",
    "                positions=[(-4,0,0),(-3,0,0),(-2,0,0),(-1,0,0),\n",
    "                           (1,0,0),(2,0,0),(3,0,0),(4,0,0)]);\n",
    "\n",
    "#-----Instruct the rigid constraint to create the constituent particles\n",
    "\n",
    "rigid.create_bodies();\n",
    "\n",
    "#-----Define the potential energy\n",
    "\n",
    "nl = hoomd.md.nlist.tree()\n",
    "\n",
    "lj = hoomd.md.pair.lj(r_cut = 3.5, nlist=nl)\n",
    "lj.set_params(mode='shift')\n",
    "\n",
    "#-----Define interaction with species in the binary mixture\n",
    "\n",
    "lj.pair_coeff.set('NP','NP', epsilon = 1.0, sigma = 5.0);\n",
    "lj.pair_coeff.set('M' ,'M' , epsilon = 1.0, sigma = 1.0);\n",
    "lj.pair_coeff.set('A' ,'A' , epsilon = 1.0, sigma = 1.0);\n",
    "lj.pair_coeff.set('M' ,'A' , epsilon = 1.0, sigma = 1.0);\n",
    "lj.pair_coeff.set('NP','M' , epsilon = 1.0, sigma = 3.0);\n",
    "lj.pair_coeff.set('NP','A' , epsilon = 1.0, sigma = 3.0);\n",
    "\n",
    "#-----Select an standard integrator.\n",
    "\n",
    "hoomd.md.integrate.mode_standard(dt = 0.005);\n",
    "\n",
    "#------Define some groups and make their union.\n",
    "\n",
    "nanoparticles = hoomd.group.type(name = 'Nano_Particles', type = 'NP');\n",
    "mesogens = hoomd.group.rigid_center();\n",
    "groupNP_mes = hoomd.group.union(name = \"NP_Mes\", a = nanoparticles, b = mesogens);\n",
    "\n",
    "#-----Integrate using NPT\n",
    "\n",
    "pressure = hoomd.variant.linear_interp(points = [(0,p_prev), (steps_ramp, p_new)])\n",
    "npt = hoomd.md.integrate.npt(group = groupNP_mes, kT = temp, tau = 1.5, tauP = 1.5, P = pressure);\n",
    "npt.randomize_velocities(23)\n",
    "\n",
    "#-----Define los archivos en los que se guardará la información de la simulación. \n",
    "\n",
    "log_file = \"T_\" + str(temp) + \"_P_\" + str(p_new) + \"_ramp.log\"\n",
    "gsd_file = \"T_\" + str(temp) + \"_P_\" + str(p_new) + \"_ramp.gsd\" \n",
    "meso_gsd_file = \"T_CM&NP_\" + str(temp) + \"_P_\" + str(p_new) + \"_ramp.gsd\"\n",
    "\n",
    "log = hoomd.analyze.log(filename = log_file,\n",
    "                         quantities = ['num_particles',\n",
    "                                     'ndof',\n",
    "                                     'translational_ndof',\n",
    "                                     'rotational_ndof',\n",
    "                                     'potential_energy',\n",
    "                                     'kinetic_energy',\n",
    "                                     'translational_kinetic_energy',\n",
    "                                     'rotational_kinetic_energy',\n",
    "                                     'temperature',\n",
    "                                     'pressure',\n",
    "                                      'volume'],\n",
    "                         period = 1e3,\n",
    "                         overwrite = True);\n",
    "gsd = hoomd.dump.gsd(gsd_file,\n",
    "               period = 1e3,\n",
    "               group = hoomd.group.all(),\n",
    "               overwrite = True); \n",
    "meso_gsd = hoomd.dump.gsd(meso_gsd_file,\n",
    "               period = 1e3,\n",
    "               group = groupNP_mes,\n",
    "               overwrite = True);"
   ]
  },
  {
   "cell_type": "code",
   "execution_count": 5,
   "metadata": {
    "scrolled": true
   },
   "outputs": [
    {
     "name": "stdout",
     "output_type": "stream",
     "text": [
      "notice(2): -- Neighborlist exclusion statistics -- :\n",
      "notice(2): Particles with 0 exclusions             : 9010\n",
      "notice(2): Neighbors included by diameter          : no\n",
      "notice(2): Neighbors excluded when in the same body: yes\n",
      "** starting run **\n",
      "Time 00:00:10 | Step 273167 / 283000 | TPS 16.5709 | ETA 00:09:53\n",
      "Time 00:00:20 | Step 273341 / 283000 | TPS 17.3417 | ETA 00:09:16\n",
      "Time 00:00:30 | Step 273519 / 283000 | TPS 17.7924 | ETA 00:08:52\n",
      "Time 00:00:40 | Step 273696 / 283000 | TPS 17.6765 | ETA 00:08:46\n",
      "Time 00:00:50 | Step 273879 / 283000 | TPS 18.1284 | ETA 00:08:23\n",
      "Time 00:01:00 | Step 274055 / 283000 | TPS 17.5399 | ETA 00:08:29\n",
      "Time 00:01:10 | Step 274239 / 283000 | TPS 18.3488 | ETA 00:07:57\n",
      "Time 00:01:20 | Step 274419 / 283000 | TPS 17.9849 | ETA 00:07:57\n",
      "Time 00:01:30 | Step 274595 / 283000 | TPS 17.567 | ETA 00:07:58\n",
      "Time 00:01:40 | Step 274769 / 283000 | TPS 17.2686 | ETA 00:07:56\n",
      "Time 00:01:50 | Step 274941 / 283000 | TPS 17.072 | ETA 00:07:52\n",
      "Time 00:02:00 | Step 275111 / 283000 | TPS 16.9358 | ETA 00:07:45\n",
      "Time 00:02:10 | Step 275282 / 283000 | TPS 17.0801 | ETA 00:07:31\n",
      "Time 00:02:20 | Step 275459 / 283000 | TPS 17.6806 | ETA 00:07:06\n",
      "Time 00:02:30 | Step 275635 / 283000 | TPS 17.5423 | ETA 00:06:59\n",
      "Time 00:02:40 | Step 275816 / 283000 | TPS 18.0884 | ETA 00:06:37\n",
      "Time 00:02:50 | Step 275995 / 283000 | TPS 17.7624 | ETA 00:06:34\n",
      "Time 00:03:00 | Step 276168 / 283000 | TPS 17.2888 | ETA 00:06:35\n",
      "Time 00:03:10 | Step 276333 / 283000 | TPS 16.4279 | ETA 00:06:45\n",
      "Time 00:03:20 | Step 276503 / 283000 | TPS 16.9867 | ETA 00:06:22\n",
      "Time 00:03:30 | Step 276673 / 283000 | TPS 16.9884 | ETA 00:06:12\n",
      "Time 00:03:40 | Step 276847 / 283000 | TPS 17.2695 | ETA 00:05:56\n",
      "Time 00:03:50 | Step 277025 / 283000 | TPS 17.7231 | ETA 00:05:37\n",
      "Time 00:04:00 | Step 277199 / 283000 | TPS 17.3658 | ETA 00:05:34\n",
      "Time 00:04:10 | Step 277359 / 283000 | TPS 15.9577 | ETA 00:05:53\n",
      "Time 00:04:20 | Step 277515 / 283000 | TPS 15.5432 | ETA 00:05:52\n",
      "Time 00:04:31 | Step 277677 / 283000 | TPS 16.0397 | ETA 00:05:31\n",
      "Time 00:04:41 | Step 277839 / 283000 | TPS 16.0353 | ETA 00:05:21\n",
      "Time 00:04:51 | Step 277999 / 283000 | TPS 15.9978 | ETA 00:05:12\n",
      "Time 00:05:01 | Step 278159 / 283000 | TPS 15.9625 | ETA 00:05:03\n",
      "Time 00:05:11 | Step 278323 / 283000 | TPS 16.3712 | ETA 00:04:45\n",
      "Time 00:05:21 | Step 278482 / 283000 | TPS 15.8913 | ETA 00:04:44\n",
      "Time 00:05:31 | Step 278636 / 283000 | TPS 15.3803 | ETA 00:04:43\n",
      "Time 00:05:41 | Step 278794 / 283000 | TPS 15.7364 | ETA 00:04:27\n",
      "Time 00:05:51 | Step 278947 / 283000 | TPS 15.236 | ETA 00:04:26\n",
      "Time 00:06:01 | Step 279105 / 283000 | TPS 15.7451 | ETA 00:04:07\n",
      "Time 00:06:11 | Step 279267 / 283000 | TPS 16.1162 | ETA 00:03:51\n",
      "Time 00:06:21 | Step 279426 / 283000 | TPS 15.8918 | ETA 00:03:44\n",
      "Time 00:06:31 | Step 279580 / 283000 | TPS 15.3677 | ETA 00:03:42\n",
      "Time 00:06:41 | Step 279745 / 283000 | TPS 16.434 | ETA 00:03:18\n",
      "Time 00:06:51 | Step 279921 / 283000 | TPS 17.4527 | ETA 00:02:56\n",
      "Time 00:07:01 | Step 280087 / 283000 | TPS 16.5482 | ETA 00:02:56\n",
      "Time 00:07:11 | Step 280259 / 283000 | TPS 17.1861 | ETA 00:02:39\n",
      "Time 00:07:21 | Step 280431 / 283000 | TPS 17.179 | ETA 00:02:29\n",
      "Time 00:07:31 | Step 280609 / 283000 | TPS 17.6496 | ETA 00:02:15\n",
      "Time 00:07:41 | Step 280787 / 283000 | TPS 17.6365 | ETA 00:02:05\n",
      "Time 00:07:51 | Step 280967 / 283000 | TPS 17.8803 | ETA 00:01:53\n",
      "Time 00:08:01 | Step 281147 / 283000 | TPS 17.922 | ETA 00:01:43\n",
      "Time 00:08:11 | Step 281305 / 283000 | TPS 15.6833 | ETA 00:01:48\n",
      "Time 00:08:21 | Step 281447 / 283000 | TPS 14.1591 | ETA 00:01:49\n",
      "Time 00:08:31 | Step 281616 / 283000 | TPS 16.8762 | ETA 00:01:22\n",
      "Time 00:08:42 | Step 281797 / 283000 | TPS 17.943 | ETA 00:01:07\n",
      "Time 00:08:52 | Step 281985 / 283000 | TPS 18.6507 | ETA 00:00:54\n",
      "Time 00:09:02 | Step 282154 / 283000 | TPS 16.8448 | ETA 00:00:50\n",
      "Time 00:09:12 | Step 282343 / 283000 | TPS 18.7586 | ETA 00:00:35\n",
      "Time 00:09:22 | Step 282526 / 283000 | TPS 18.2703 | ETA 00:00:25\n",
      "Time 00:09:32 | Step 282699 / 283000 | TPS 17.162 | ETA 00:00:17\n",
      "Time 00:09:42 | Step 282872 / 283000 | TPS 17.2881 | ETA 00:00:07\n",
      "Time 00:09:49 | Step 283000 / 283000 | TPS 17.3179 | ETA 00:00:00\n",
      "Average TPS: 16.9572\n",
      "---------\n",
      "-- Neighborlist stats:\n",
      "4931 normal updates / 101 forced updates / 0 dangerous updates\n",
      "n_neigh_min: 0 / n_neigh_max: 132 / n_neigh_avg: 58.1274\n",
      "shortest rebuild period: 1\n",
      "notice(2): Total amount of managed memory allocated through Global[Array,Vector]: 0B\n",
      "notice(2): Actual allocation sizes may be larger by up to the OS page size due to alignment.\n",
      "notice(2): List of memory allocations and last 3 functions called at time of (re-)allocation\n",
      "** run complete **\n"
     ]
    }
   ],
   "source": [
    "#-----Run the simulation.\n",
    "\n",
    "hoomd.run(run_time)"
   ]
  },
  {
   "cell_type": "code",
   "execution_count": 6,
   "metadata": {},
   "outputs": [],
   "source": [
    "#-----Get density.\n",
    "\n",
    "meta = system.get_metadata()"
   ]
  },
  {
   "cell_type": "code",
   "execution_count": 7,
   "metadata": {},
   "outputs": [],
   "source": [
    "#-----Get volume.\n",
    "\n",
    "volume = system.box.get_volume()"
   ]
  }
 ],
 "metadata": {
  "kernelspec": {
   "display_name": "Python 3",
   "language": "python",
   "name": "python3"
  },
  "language_info": {
   "codemirror_mode": {
    "name": "ipython",
    "version": 3
   },
   "file_extension": ".py",
   "mimetype": "text/x-python",
   "name": "python",
   "nbconvert_exporter": "python",
   "pygments_lexer": "ipython3",
   "version": "3.7.3"
  }
 },
 "nbformat": 4,
 "nbformat_minor": 4
}
