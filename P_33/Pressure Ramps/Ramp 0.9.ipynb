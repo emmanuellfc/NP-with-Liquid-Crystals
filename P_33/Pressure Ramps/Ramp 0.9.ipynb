{
 "cells": [
  {
   "cell_type": "markdown",
   "metadata": {},
   "source": [
    "# Mesogens with NP | Pressure Ramps"
   ]
  },
  {
   "cell_type": "markdown",
   "metadata": {},
   "source": [
    "## Pressure: 0.7 -> 0.9"
   ]
  },
  {
   "cell_type": "markdown",
   "metadata": {},
   "source": [
    "### Date: 12/11/19 | System P = 3.3, Expected value of $T_c$ : 9.91"
   ]
  },
  {
   "cell_type": "code",
   "execution_count": 1,
   "metadata": {},
   "outputs": [],
   "source": [
    "#-----Importa los paquetes esenciales para correr la simulación.\n",
    "\n",
    "from __future__ import division\n",
    "import hoomd\n",
    "import hoomd.md"
   ]
  },
  {
   "cell_type": "code",
   "execution_count": 2,
   "metadata": {},
   "outputs": [],
   "source": [
    "#-----Define important variables\n",
    "\n",
    "p_prev = 0.7;\n",
    "p_new = 0.9;\n",
    "temp = 9.0;\n",
    "steps_ramp = 2.5e4;\n",
    "run_time = steps_ramp;"
   ]
  },
  {
   "cell_type": "code",
   "execution_count": 3,
   "metadata": {},
   "outputs": [],
   "source": [
    "#-----Declare the file from wich we'll extract the configuration of the system.\n",
    "\n",
    "ramp_file = \"T_CM&NP_\" + str(temp) + \"_P_\" + str(p_prev) + \"_ramp.gsd\""
   ]
  },
  {
   "cell_type": "code",
   "execution_count": 4,
   "metadata": {},
   "outputs": [
    {
     "name": "stdout",
     "output_type": "stream",
     "text": [
      "HOOMD-blue 2.8.1 DOUBLE HPMC_MIXED TBB SSE SSE2 SSE3 \n",
      "Compiled: 11/26/2019\n",
      "Copyright (c) 2009-2019 The Regents of the University of Michigan.\n",
      "-----\n",
      "You are using HOOMD-blue. Please cite the following:\n",
      "* J A Anderson, C D Lorenz, and A Travesset. \"General purpose molecular dynamics\n",
      "  simulations fully implemented on graphics processing units\", Journal of\n",
      "  Computational Physics 227 (2008) 5342--5359\n",
      "* J Glaser, T D Nguyen, J A Anderson, P Lui, F Spiga, J A Millan, D C Morse, and\n",
      "  S C Glotzer. \"Strong scaling of general-purpose molecular dynamics simulations\n",
      "  on GPUs\", Computer Physics Communications 192 (2015) 97--107\n",
      "-----\n",
      "HOOMD-blue is running on the CPU\n",
      "notice(2): Group \"all\" created containing 1010 particles\n",
      "notice(2): constrain.rigid(): Creating 1000 rigid bodies (adding 8000 particles)\n",
      "-----\n",
      "You are using tree neighbor lists. Please cite the following:\n",
      "* M P Howard, J A Anderson, A Nikoubashman, S C Glotzer, and A Z\n",
      "  Panagiotopoulos. \"Efficient neighbor list calculation for molecular simulation\n",
      "  of colloidal systems using graphics processing units\", Computer Physics\n",
      "  Communications 203 (2016) 45--52\n",
      "-----\n",
      "notice(2): Group \"Nano_Particles\" created containing 10 particles\n",
      "notice(2): Group \"rigid_center\" created containing 1000 particles\n",
      "notice(2): Group \"NP_Mes\" created containing 1010 particles\n"
     ]
    }
   ],
   "source": [
    "#-----Start from a gsd file\n",
    "\n",
    "hoomd.context.initialize(\"--mode=cpu\", memory_traceback = True);\n",
    "\n",
    "#-----Select the trayectory of the center of mass of particles\n",
    "\n",
    "system = hoomd.init.read_gsd(ramp_file,frame = -1)\n",
    "\n",
    "#-----Define each rigid body type in the local coordinate system of the body.\n",
    "\n",
    "rigid = hoomd.md.constrain.rigid();\n",
    "rigid.set_param('M', \n",
    "                types=['A']*8,\n",
    "                positions=[(-4,0,0),(-3,0,0),(-2,0,0),(-1,0,0),\n",
    "                           (1,0,0),(2,0,0),(3,0,0),(4,0,0)]);\n",
    "\n",
    "#-----Instruct the rigid constraint to create the constituent particles\n",
    "\n",
    "rigid.create_bodies();\n",
    "\n",
    "#-----Define the potential energy\n",
    "\n",
    "nl = hoomd.md.nlist.tree()\n",
    "\n",
    "lj = hoomd.md.pair.lj(r_cut = 3.5, nlist=nl)\n",
    "lj.set_params(mode='shift')\n",
    "\n",
    "#-----Define interaction with species in the binary mixture\n",
    "\n",
    "lj.pair_coeff.set('NP','NP', epsilon = 1.0, sigma = 5.0);\n",
    "lj.pair_coeff.set('M' ,'M' , epsilon = 1.0, sigma = 1.0);\n",
    "lj.pair_coeff.set('A' ,'A' , epsilon = 1.0, sigma = 1.0);\n",
    "lj.pair_coeff.set('M' ,'A' , epsilon = 1.0, sigma = 1.0);\n",
    "lj.pair_coeff.set('NP','M' , epsilon = 1.0, sigma = 3.0);\n",
    "lj.pair_coeff.set('NP','A' , epsilon = 1.0, sigma = 3.0);\n",
    "\n",
    "#-----Select an standard integrator.\n",
    "\n",
    "hoomd.md.integrate.mode_standard(dt = 0.005);\n",
    "\n",
    "#------Define some groups and make their union.\n",
    "\n",
    "nanoparticles = hoomd.group.type(name = 'Nano_Particles', type = 'NP');\n",
    "mesogens = hoomd.group.rigid_center();\n",
    "groupNP_mes = hoomd.group.union(name = \"NP_Mes\", a = nanoparticles, b = mesogens);\n",
    "\n",
    "#-----Integrate using NPT\n",
    "\n",
    "pressure = hoomd.variant.linear_interp(points = [(0,p_prev), (steps_ramp, p_new)])\n",
    "npt = hoomd.md.integrate.npt(group = groupNP_mes, kT = temp, tau = 1.5, tauP = 1.5, P = pressure);\n",
    "npt.randomize_velocities(seed = 42)\n",
    "\n",
    "#-----Define los archivos en los que se guardará la información de la simulación. \n",
    "\n",
    "log_file = \"T_\" + str(temp) + \"_P_\" + str(p_new) + \"_ramp.log\"\n",
    "gsd_file = \"T_\" + str(temp) + \"_P_\" + str(p_new) + \"_ramp.gsd\" \n",
    "meso_gsd_file = \"T_CM&NP_\" + str(temp) + \"_P_\" + str(p_new) + \"_ramp.gsd\"\n",
    "\n",
    "log = hoomd.analyze.log(filename = log_file,\n",
    "                         quantities = ['num_particles',\n",
    "                                     'ndof',\n",
    "                                     'translational_ndof',\n",
    "                                     'rotational_ndof',\n",
    "                                     'potential_energy',\n",
    "                                     'kinetic_energy',\n",
    "                                     'translational_kinetic_energy',\n",
    "                                     'rotational_kinetic_energy',\n",
    "                                     'temperature',\n",
    "                                     'pressure',\n",
    "                                      'volume'],\n",
    "                         period = 1e3,\n",
    "                         overwrite = True);\n",
    "gsd = hoomd.dump.gsd(gsd_file,\n",
    "               period = 1e3,\n",
    "               group = hoomd.group.all(),\n",
    "               overwrite = True); \n",
    "meso_gsd = hoomd.dump.gsd(meso_gsd_file,\n",
    "               period = 1e3,\n",
    "               group = groupNP_mes,\n",
    "               overwrite = True);"
   ]
  },
  {
   "cell_type": "code",
   "execution_count": 5,
   "metadata": {
    "scrolled": true
   },
   "outputs": [
    {
     "name": "stdout",
     "output_type": "stream",
     "text": [
      "notice(2): -- Neighborlist exclusion statistics -- :\n",
      "notice(2): Particles with 0 exclusions             : 9010\n",
      "notice(2): Neighbors included by diameter          : no\n",
      "notice(2): Neighbors excluded when in the same body: yes\n",
      "** starting run **\n",
      "Time 00:00:10 | Step 73321 / 98000 | TPS 32.0941 | ETA 00:12:48\n",
      "Time 00:00:20 | Step 73647 / 98000 | TPS 32.5545 | ETA 00:12:28\n",
      "Time 00:00:30 | Step 73977 / 98000 | TPS 32.9828 | ETA 00:12:08\n",
      "Time 00:00:40 | Step 74287 / 98000 | TPS 30.916 | ETA 00:12:47\n",
      "Time 00:00:50 | Step 74625 / 98000 | TPS 33.7073 | ETA 00:11:33\n",
      "Time 00:01:00 | Step 74991 / 98000 | TPS 36.5527 | ETA 00:10:29\n",
      "Time 00:01:10 | Step 75352 / 98000 | TPS 36.099 | ETA 00:10:27\n",
      "Time 00:01:20 | Step 75704 / 98000 | TPS 35.1648 | ETA 00:10:34\n",
      "Time 00:01:30 | Step 76045 / 98000 | TPS 33.9471 | ETA 00:10:46\n",
      "Time 00:01:40 | Step 76370 / 98000 | TPS 32.498 | ETA 00:11:05\n",
      "Time 00:01:50 | Step 76663 / 98000 | TPS 29.2008 | ETA 00:12:10\n",
      "Time 00:02:00 | Step 76963 / 98000 | TPS 29.9243 | ETA 00:11:43\n",
      "Time 00:02:10 | Step 77297 / 98000 | TPS 33.2845 | ETA 00:10:22\n",
      "Time 00:02:20 | Step 77617 / 98000 | TPS 31.9612 | ETA 00:10:37\n",
      "Time 00:02:30 | Step 77971 / 98000 | TPS 35.2769 | ETA 00:09:27\n",
      "Time 00:02:40 | Step 78322 / 98000 | TPS 35.0942 | ETA 00:09:20\n",
      "Time 00:02:50 | Step 78679 / 98000 | TPS 35.5319 | ETA 00:09:03\n",
      "Time 00:03:00 | Step 79011 / 98000 | TPS 33.1744 | ETA 00:09:32\n",
      "Time 00:03:10 | Step 79349 / 98000 | TPS 33.785 | ETA 00:09:12\n",
      "Time 00:03:20 | Step 79687 / 98000 | TPS 33.7482 | ETA 00:09:02\n",
      "Time 00:03:30 | Step 80019 / 98000 | TPS 33.1766 | ETA 00:09:01\n",
      "Time 00:03:40 | Step 80350 / 98000 | TPS 33.0977 | ETA 00:08:53\n",
      "Time 00:03:50 | Step 80681 / 98000 | TPS 32.9461 | ETA 00:08:45\n",
      "Time 00:04:00 | Step 81019 / 98000 | TPS 33.7001 | ETA 00:08:23\n",
      "Time 00:04:10 | Step 81357 / 98000 | TPS 33.7745 | ETA 00:08:12\n",
      "Time 00:04:20 | Step 81695 / 98000 | TPS 33.7556 | ETA 00:08:03\n",
      "Time 00:04:30 | Step 82029 / 98000 | TPS 33.2793 | ETA 00:07:59\n",
      "Time 00:04:40 | Step 82359 / 98000 | TPS 32.8622 | ETA 00:07:55\n",
      "Time 00:04:50 | Step 82691 / 98000 | TPS 33.1922 | ETA 00:07:41\n",
      "Time 00:05:00 | Step 83030 / 98000 | TPS 33.881 | ETA 00:07:21\n",
      "Time 00:05:10 | Step 83349 / 98000 | TPS 31.828 | ETA 00:07:40\n",
      "Time 00:05:20 | Step 83687 / 98000 | TPS 33.6476 | ETA 00:07:05\n",
      "Time 00:05:30 | Step 84013 / 98000 | TPS 32.461 | ETA 00:07:10\n",
      "Time 00:05:40 | Step 84339 / 98000 | TPS 32.4928 | ETA 00:07:00\n",
      "Time 00:05:50 | Step 84665 / 98000 | TPS 32.5404 | ETA 00:06:49\n",
      "Time 00:06:00 | Step 84999 / 98000 | TPS 33.2378 | ETA 00:06:31\n",
      "Time 00:06:10 | Step 85299 / 98000 | TPS 29.9736 | ETA 00:07:03\n",
      "Time 00:06:20 | Step 85629 / 98000 | TPS 32.8434 | ETA 00:06:16\n",
      "Time 00:06:30 | Step 85913 / 98000 | TPS 28.38 | ETA 00:07:05\n",
      "Time 00:06:40 | Step 86226 / 98000 | TPS 31.2781 | ETA 00:06:16\n",
      "Time 00:06:50 | Step 86569 / 98000 | TPS 34.2592 | ETA 00:05:33\n",
      "Time 00:07:00 | Step 86917 / 98000 | TPS 34.711 | ETA 00:05:19\n",
      "Time 00:07:10 | Step 87251 / 98000 | TPS 33.3607 | ETA 00:05:22\n",
      "Time 00:07:20 | Step 87559 / 98000 | TPS 30.7682 | ETA 00:05:39\n",
      "Time 00:07:30 | Step 87789 / 98000 | TPS 22.9488 | ETA 00:07:24\n",
      "Time 00:07:41 | Step 88077 / 98000 | TPS 28.637 | ETA 00:05:46\n",
      "Time 00:07:51 | Step 88377 / 98000 | TPS 29.893 | ETA 00:05:21\n",
      "Time 00:08:01 | Step 88645 / 98000 | TPS 26.7098 | ETA 00:05:50\n",
      "Time 00:08:11 | Step 88945 / 98000 | TPS 29.8894 | ETA 00:05:02\n",
      "Time 00:08:21 | Step 89280 / 98000 | TPS 33.4884 | ETA 00:04:20\n",
      "Time 00:08:31 | Step 89617 / 98000 | TPS 33.5883 | ETA 00:04:09\n",
      "Time 00:08:41 | Step 89947 / 98000 | TPS 32.8775 | ETA 00:04:04\n",
      "Time 00:08:51 | Step 90269 / 98000 | TPS 32.1911 | ETA 00:04:00\n",
      "Time 00:09:01 | Step 90597 / 98000 | TPS 32.6316 | ETA 00:03:46\n",
      "Time 00:09:11 | Step 90943 / 98000 | TPS 34.5071 | ETA 00:03:24\n",
      "Time 00:09:21 | Step 91271 / 98000 | TPS 32.6509 | ETA 00:03:26\n",
      "Time 00:09:31 | Step 91590 / 98000 | TPS 31.8891 | ETA 00:03:21\n",
      "Time 00:09:41 | Step 91893 / 98000 | TPS 30.1837 | ETA 00:03:22\n",
      "Time 00:09:51 | Step 92179 / 98000 | TPS 28.5925 | ETA 00:03:23\n",
      "Time 00:10:01 | Step 92467 / 98000 | TPS 28.6605 | ETA 00:03:13\n",
      "Time 00:10:11 | Step 92733 / 98000 | TPS 26.5686 | ETA 00:03:18\n",
      "Time 00:10:21 | Step 93071 / 98000 | TPS 33.6487 | ETA 00:02:26\n",
      "Time 00:10:31 | Step 93401 / 98000 | TPS 32.9415 | ETA 00:02:19\n",
      "Time 00:10:41 | Step 93741 / 98000 | TPS 33.9249 | ETA 00:02:05\n",
      "Time 00:10:51 | Step 94075 / 98000 | TPS 33.3005 | ETA 00:01:57\n",
      "Time 00:11:01 | Step 94407 / 98000 | TPS 33.1441 | ETA 00:01:48\n",
      "Time 00:11:11 | Step 94743 / 98000 | TPS 33.5 | ETA 00:01:37\n",
      "Time 00:11:21 | Step 95079 / 98000 | TPS 33.4521 | ETA 00:01:27\n",
      "Time 00:11:31 | Step 95417 / 98000 | TPS 33.7682 | ETA 00:01:16\n",
      "Time 00:11:41 | Step 95743 / 98000 | TPS 32.5136 | ETA 00:01:09\n",
      "Time 00:11:51 | Step 96069 / 98000 | TPS 32.4451 | ETA 00:00:59\n",
      "Time 00:12:01 | Step 96397 / 98000 | TPS 32.7934 | ETA 00:00:48\n",
      "Time 00:12:11 | Step 96728 / 98000 | TPS 33.0918 | ETA 00:00:38\n",
      "Time 00:12:21 | Step 97055 / 98000 | TPS 32.5925 | ETA 00:00:28\n",
      "Time 00:12:31 | Step 97385 / 98000 | TPS 32.9276 | ETA 00:00:18\n",
      "Time 00:12:41 | Step 97712 / 98000 | TPS 32.6795 | ETA 00:00:08\n",
      "Time 00:12:50 | Step 98000 / 98000 | TPS 32.8143 | ETA 00:00:00\n",
      "Average TPS: 32.4457\n",
      "---------\n",
      "-- Neighborlist stats:\n",
      "12279 normal updates / 251 forced updates / 0 dangerous updates\n",
      "n_neigh_min: 0 / n_neigh_max: 87 / n_neigh_avg: 34.2719\n",
      "shortest rebuild period: 1\n",
      "notice(2): Total amount of managed memory allocated through Global[Array,Vector]: 0B\n",
      "notice(2): Actual allocation sizes may be larger by up to the OS page size due to alignment.\n",
      "notice(2): List of memory allocations and last 3 functions called at time of (re-)allocation\n",
      "** run complete **\n"
     ]
    }
   ],
   "source": [
    "#-----Run the simulation.\n",
    "\n",
    "hoomd.run(run_time)"
   ]
  },
  {
   "cell_type": "code",
   "execution_count": 6,
   "metadata": {},
   "outputs": [],
   "source": [
    "#-----Get density.\n",
    "\n",
    "meta = system.get_metadata()"
   ]
  },
  {
   "cell_type": "code",
   "execution_count": 7,
   "metadata": {},
   "outputs": [],
   "source": [
    "#-----Get volume.\n",
    "\n",
    "volume = system.box.get_volume()"
   ]
  }
 ],
 "metadata": {
  "kernelspec": {
   "display_name": "Python 3",
   "language": "python",
   "name": "python3"
  },
  "language_info": {
   "codemirror_mode": {
    "name": "ipython",
    "version": 3
   },
   "file_extension": ".py",
   "mimetype": "text/x-python",
   "name": "python",
   "nbconvert_exporter": "python",
   "pygments_lexer": "ipython3",
   "version": "3.7.3"
  }
 },
 "nbformat": 4,
 "nbformat_minor": 4
}
