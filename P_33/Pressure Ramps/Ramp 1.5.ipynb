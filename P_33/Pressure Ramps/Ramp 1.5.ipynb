{
 "cells": [
  {
   "cell_type": "markdown",
   "metadata": {},
   "source": [
    "# Mesogens with NP | Pressure Ramps"
   ]
  },
  {
   "cell_type": "markdown",
   "metadata": {},
   "source": [
    "## Pressure: 1.3 -> 1.5"
   ]
  },
  {
   "cell_type": "markdown",
   "metadata": {},
   "source": [
    "### Date: 12/12/19 | System P = 3.3, Expected value of $T_c$ : 9.91"
   ]
  },
  {
   "cell_type": "code",
   "execution_count": 1,
   "metadata": {},
   "outputs": [],
   "source": [
    "#-----Importa los paquetes esenciales para correr la simulación.\n",
    "\n",
    "from __future__ import division\n",
    "import hoomd\n",
    "import hoomd.md"
   ]
  },
  {
   "cell_type": "code",
   "execution_count": 2,
   "metadata": {},
   "outputs": [],
   "source": [
    "#-----Define important variables\n",
    "\n",
    "p_prev = 1.3;\n",
    "p_new = 1.5;\n",
    "temp = 9.0;\n",
    "steps_ramp = 2e4;\n",
    "run_time = steps_ramp;"
   ]
  },
  {
   "cell_type": "code",
   "execution_count": 3,
   "metadata": {},
   "outputs": [],
   "source": [
    "#-----Declare the file from wich we'll extract the configuration of the system.\n",
    "\n",
    "ramp_file = \"T_CM&NP_\" + str(temp) + \"_P_\" + str(p_prev) + \"_ramp.gsd\""
   ]
  },
  {
   "cell_type": "code",
   "execution_count": 4,
   "metadata": {},
   "outputs": [
    {
     "name": "stdout",
     "output_type": "stream",
     "text": [
      "HOOMD-blue 2.7.0 DOUBLE HPMC_MIXED TBB SSE SSE2 SSE3 \n",
      "Compiled: 10/02/2019\n",
      "Copyright (c) 2009-2019 The Regents of the University of Michigan.\n",
      "-----\n",
      "You are using HOOMD-blue. Please cite the following:\n",
      "* J A Anderson, C D Lorenz, and A Travesset. \"General purpose molecular dynamics\n",
      "  simulations fully implemented on graphics processing units\", Journal of\n",
      "  Computational Physics 227 (2008) 5342--5359\n",
      "* J Glaser, T D Nguyen, J A Anderson, P Liu, F Spiga, J A Millan, D C Morse, and\n",
      "  S C Glotzer. \"Strong scaling of general-purpose molecular dynamics simulations\n",
      "  on GPUs\", Computer Physics Communications 192 (2015) 97--107\n",
      "-----\n",
      "HOOMD-blue is running on the CPU\n",
      "notice(2): Group \"all\" created containing 1010 particles\n",
      "notice(2): constrain.rigid(): Creating 1000 rigid bodies (adding 8000 particles)\n",
      "-----\n",
      "You are using tree neighbor lists. Please cite the following:\n",
      "* M P Howard, J A Anderson, A Nikoubashman, S C Glotzer, and A Z\n",
      "  Panagiotopoulos. \"Efficient neighbor list calculation for molecular simulation\n",
      "  of colloidal systems using graphics processing units\", Computer Physics\n",
      "  Communications 203 (2016) 45--52\n",
      "-----\n",
      "notice(2): Group \"Nano_Particles\" created containing 10 particles\n",
      "notice(2): Group \"rigid_center\" created containing 1000 particles\n",
      "notice(2): Group \"NP_Mes\" created containing 1010 particles\n"
     ]
    }
   ],
   "source": [
    "#-----Start from a gsd file\n",
    "\n",
    "hoomd.context.initialize(\"--mode=cpu\", memory_traceback = True);\n",
    "\n",
    "#-----Select the trayectory of the center of mass of particles\n",
    "\n",
    "system = hoomd.init.read_gsd(ramp_file,frame = -1)\n",
    "\n",
    "#-----Define each rigid body type in the local coordinate system of the body.\n",
    "\n",
    "rigid = hoomd.md.constrain.rigid();\n",
    "rigid.set_param('M', \n",
    "                types=['A']*8,\n",
    "                positions=[(-4,0,0),(-3,0,0),(-2,0,0),(-1,0,0),\n",
    "                           (1,0,0),(2,0,0),(3,0,0),(4,0,0)]);\n",
    "\n",
    "#-----Instruct the rigid constraint to create the constituent particles\n",
    "\n",
    "rigid.create_bodies();\n",
    "\n",
    "#-----Define the potential energy\n",
    "\n",
    "nl = hoomd.md.nlist.tree()\n",
    "\n",
    "lj = hoomd.md.pair.lj(r_cut = 3.5, nlist=nl)\n",
    "lj.set_params(mode='shift')\n",
    "\n",
    "#-----Define interaction with species in the binary mixture\n",
    "\n",
    "lj.pair_coeff.set('NP','NP', epsilon = 1.0, sigma = 5.0);\n",
    "lj.pair_coeff.set('M' ,'M' , epsilon = 1.0, sigma = 1.0);\n",
    "lj.pair_coeff.set('A' ,'A' , epsilon = 1.0, sigma = 1.0);\n",
    "lj.pair_coeff.set('M' ,'A' , epsilon = 1.0, sigma = 1.0);\n",
    "lj.pair_coeff.set('NP','M' , epsilon = 1.0, sigma = 3.0);\n",
    "lj.pair_coeff.set('NP','A' , epsilon = 1.0, sigma = 3.0);\n",
    "\n",
    "#-----Select an standard integrator.\n",
    "\n",
    "hoomd.md.integrate.mode_standard(dt = 0.005);\n",
    "\n",
    "#------Define some groups and make their union.\n",
    "\n",
    "nanoparticles = hoomd.group.type(name = 'Nano_Particles', type = 'NP');\n",
    "mesogens = hoomd.group.rigid_center();\n",
    "groupNP_mes = hoomd.group.union(name = \"NP_Mes\", a = nanoparticles, b = mesogens);\n",
    "\n",
    "#-----Integrate using NPT\n",
    "\n",
    "pressure = hoomd.variant.linear_interp(points = [(0,p_prev), (steps_ramp, p_new)])\n",
    "npt = hoomd.md.integrate.npt(group = groupNP_mes, kT = temp, tau = 3.0, tauP = 3.0, P = pressure);\n",
    "npt.randomize_velocities(seed = 42)\n",
    "\n",
    "#-----Define los archivos en los que se guardará la información de la simulación. \n",
    "\n",
    "log_file = \"T_\" + str(temp) + \"_P_\" + str(p_new) + \"_ramp.log\"\n",
    "gsd_file = \"T_\" + str(temp) + \"_P_\" + str(p_new) + \"_ramp.gsd\" \n",
    "meso_gsd_file = \"T_CM&NP_\" + str(temp) + \"_P_\" + str(p_new) + \"_ramp.gsd\"\n",
    "\n",
    "log = hoomd.analyze.log(filename = log_file,\n",
    "                         quantities = ['num_particles',\n",
    "                                     'ndof',\n",
    "                                     'translational_ndof',\n",
    "                                     'rotational_ndof',\n",
    "                                     'potential_energy',\n",
    "                                     'kinetic_energy',\n",
    "                                     'translational_kinetic_energy',\n",
    "                                     'rotational_kinetic_energy',\n",
    "                                     'temperature',\n",
    "                                     'pressure',\n",
    "                                      'volume'],\n",
    "                         period = 1e3,\n",
    "                         overwrite = True);\n",
    "gsd = hoomd.dump.gsd(gsd_file,\n",
    "               period = 1e3,\n",
    "               group = hoomd.group.all(),\n",
    "               overwrite = True); \n",
    "meso_gsd = hoomd.dump.gsd(meso_gsd_file,\n",
    "               period = 1e3,\n",
    "               group = groupNP_mes,\n",
    "               overwrite = True);"
   ]
  },
  {
   "cell_type": "code",
   "execution_count": 5,
   "metadata": {
    "scrolled": true
   },
   "outputs": [
    {
     "name": "stdout",
     "output_type": "stream",
     "text": [
      "notice(2): -- Neighborlist exclusion statistics -- :\n",
      "notice(2): Particles with 0 exclusions             : 9010\n",
      "notice(2): Neighbors included by diameter          : no\n",
      "notice(2): Neighbors excluded when in the same body: yes\n",
      "** starting run **\n",
      "Time 00:00:10 | Step 140253 / 160000 | TPS 25.2627 | ETA 00:13:01\n",
      "Time 00:00:20 | Step 140567 / 160000 | TPS 31.3183 | ETA 00:10:20\n",
      "Time 00:00:30 | Step 140862 / 160000 | TPS 29.3526 | ETA 00:10:52\n",
      "Time 00:00:40 | Step 141161 / 160000 | TPS 29.7293 | ETA 00:10:33\n",
      "Time 00:00:50 | Step 141467 / 160000 | TPS 30.5506 | ETA 00:10:06\n",
      "Time 00:01:00 | Step 141765 / 160000 | TPS 29.6632 | ETA 00:10:14\n",
      "Time 00:01:10 | Step 142065 / 160000 | TPS 29.9773 | ETA 00:09:58\n",
      "Time 00:01:20 | Step 142359 / 160000 | TPS 29.3739 | ETA 00:10:00\n",
      "Time 00:01:30 | Step 142663 / 160000 | TPS 30.2697 | ETA 00:09:32\n",
      "Time 00:01:40 | Step 142963 / 160000 | TPS 29.9877 | ETA 00:09:28\n",
      "Time 00:01:50 | Step 143257 / 160000 | TPS 29.3276 | ETA 00:09:30\n",
      "Time 00:02:00 | Step 143558 / 160000 | TPS 30.0847 | ETA 00:09:06\n",
      "Time 00:02:10 | Step 143855 / 160000 | TPS 29.5679 | ETA 00:09:06\n",
      "Time 00:02:20 | Step 144155 / 160000 | TPS 29.9199 | ETA 00:08:49\n",
      "Time 00:02:30 | Step 144455 / 160000 | TPS 29.9505 | ETA 00:08:39\n",
      "Time 00:02:40 | Step 144753 / 160000 | TPS 29.6912 | ETA 00:08:33\n",
      "Time 00:02:50 | Step 145038 / 160000 | TPS 28.4822 | ETA 00:08:45\n",
      "Time 00:03:00 | Step 145323 / 160000 | TPS 28.409 | ETA 00:08:36\n",
      "Time 00:03:10 | Step 145625 / 160000 | TPS 30.1975 | ETA 00:07:56\n",
      "Time 00:03:20 | Step 145927 / 160000 | TPS 30.1824 | ETA 00:07:46\n",
      "Time 00:03:30 | Step 146227 / 160000 | TPS 29.8917 | ETA 00:07:40\n",
      "Time 00:03:40 | Step 146529 / 160000 | TPS 30.0472 | ETA 00:07:28\n",
      "Time 00:03:50 | Step 146825 / 160000 | TPS 29.4418 | ETA 00:07:27\n",
      "Time 00:04:00 | Step 147125 / 160000 | TPS 29.9123 | ETA 00:07:10\n",
      "Time 00:04:10 | Step 147421 / 160000 | TPS 29.5701 | ETA 00:07:05\n",
      "Time 00:04:20 | Step 147714 / 160000 | TPS 29.2775 | ETA 00:06:59\n",
      "Time 00:04:30 | Step 148009 / 160000 | TPS 29.4951 | ETA 00:06:46\n",
      "Time 00:04:40 | Step 148303 / 160000 | TPS 29.2853 | ETA 00:06:39\n",
      "Time 00:04:50 | Step 148591 / 160000 | TPS 28.7857 | ETA 00:06:36\n",
      "Time 00:05:00 | Step 148886 / 160000 | TPS 29.4832 | ETA 00:06:16\n",
      "Time 00:05:10 | Step 149177 / 160000 | TPS 29.0248 | ETA 00:06:12\n",
      "Time 00:05:20 | Step 149469 / 160000 | TPS 29.1166 | ETA 00:06:01\n",
      "Time 00:05:30 | Step 149756 / 160000 | TPS 28.6863 | ETA 00:05:57\n",
      "Time 00:05:40 | Step 150049 / 160000 | TPS 29.2844 | ETA 00:05:39\n",
      "Time 00:05:50 | Step 150337 / 160000 | TPS 28.6808 | ETA 00:05:36\n",
      "Time 00:06:00 | Step 150623 / 160000 | TPS 28.4966 | ETA 00:05:29\n",
      "Time 00:06:10 | Step 150913 / 160000 | TPS 28.901 | ETA 00:05:14\n",
      "Time 00:06:20 | Step 151195 / 160000 | TPS 28.1583 | ETA 00:05:12\n",
      "Time 00:06:30 | Step 151480 / 160000 | TPS 28.4911 | ETA 00:04:59\n",
      "Time 00:06:40 | Step 151771 / 160000 | TPS 29.0541 | ETA 00:04:43\n",
      "Time 00:06:50 | Step 152061 / 160000 | TPS 28.9993 | ETA 00:04:33\n",
      "Time 00:07:00 | Step 152355 / 160000 | TPS 29.3282 | ETA 00:04:20\n",
      "Time 00:07:11 | Step 152647 / 160000 | TPS 29.0957 | ETA 00:04:12\n",
      "Time 00:07:21 | Step 152941 / 160000 | TPS 29.2446 | ETA 00:04:01\n",
      "Time 00:07:31 | Step 153231 / 160000 | TPS 28.9305 | ETA 00:03:53\n",
      "Time 00:07:41 | Step 153521 / 160000 | TPS 28.8642 | ETA 00:03:44\n",
      "Time 00:07:51 | Step 153807 / 160000 | TPS 28.4915 | ETA 00:03:37\n",
      "Time 00:08:01 | Step 154092 / 160000 | TPS 28.4749 | ETA 00:03:27\n",
      "Time 00:08:11 | Step 154317 / 160000 | TPS 22.4641 | ETA 00:04:12\n",
      "Time 00:08:21 | Step 154591 / 160000 | TPS 27.3152 | ETA 00:03:18\n",
      "Time 00:08:31 | Step 154869 / 160000 | TPS 27.7623 | ETA 00:03:04\n",
      "Time 00:08:41 | Step 155151 / 160000 | TPS 28.1783 | ETA 00:02:52\n",
      "Time 00:08:51 | Step 155435 / 160000 | TPS 28.3063 | ETA 00:02:41\n",
      "Time 00:09:01 | Step 155703 / 160000 | TPS 26.7059 | ETA 00:02:40\n",
      "Time 00:09:11 | Step 155953 / 160000 | TPS 24.9182 | ETA 00:02:42\n",
      "Time 00:09:21 | Step 156240 / 160000 | TPS 28.699 | ETA 00:02:11\n",
      "Time 00:09:31 | Step 156521 / 160000 | TPS 28.078 | ETA 00:02:03\n",
      "Time 00:09:41 | Step 156799 / 160000 | TPS 27.6698 | ETA 00:01:55\n",
      "Time 00:09:51 | Step 157077 / 160000 | TPS 27.7695 | ETA 00:01:45\n",
      "Time 00:10:01 | Step 157359 / 160000 | TPS 28.0475 | ETA 00:01:34\n",
      "Time 00:10:11 | Step 157643 / 160000 | TPS 28.3326 | ETA 00:01:23\n",
      "Time 00:10:21 | Step 157924 / 160000 | TPS 28.0902 | ETA 00:01:13\n",
      "Time 00:10:31 | Step 158201 / 160000 | TPS 27.6779 | ETA 00:01:04\n",
      "Time 00:10:41 | Step 158483 / 160000 | TPS 28.163 | ETA 00:00:53\n",
      "Time 00:10:51 | Step 158767 / 160000 | TPS 28.2354 | ETA 00:00:43\n",
      "Time 00:11:01 | Step 159049 / 160000 | TPS 28.1906 | ETA 00:00:33\n",
      "Time 00:11:11 | Step 159333 / 160000 | TPS 28.3124 | ETA 00:00:23\n",
      "Time 00:11:21 | Step 159617 / 160000 | TPS 28.3172 | ETA 00:00:13\n",
      "Time 00:11:31 | Step 159895 / 160000 | TPS 27.7186 | ETA 00:00:03\n",
      "Time 00:11:35 | Step 160000 / 160000 | TPS 24.9995 | ETA 00:00:00\n",
      "Average TPS: 28.742\n",
      "---------\n",
      "-- Neighborlist stats:\n",
      "9806 normal updates / 201 forced updates / 0 dangerous updates\n",
      "n_neigh_min: 0 / n_neigh_max: 105 / n_neigh_avg: 43.1352\n",
      "shortest rebuild period: 1\n",
      "notice(2): Total amount of managed memory allocated through Global[Array,Vector]: 0B\n",
      "notice(2): Actual allocation sizes may be larger by up to the OS page size due to alignment.\n",
      "notice(2): List of memory allocations and last 3 functions called at time of (re-)allocation\n",
      "** run complete **\n"
     ]
    }
   ],
   "source": [
    "#-----Run the simulation.\n",
    "\n",
    "hoomd.run(run_time)"
   ]
  },
  {
   "cell_type": "code",
   "execution_count": 6,
   "metadata": {},
   "outputs": [],
   "source": [
    "#-----Get density.\n",
    "\n",
    "meta = system.get_metadata()"
   ]
  },
  {
   "cell_type": "code",
   "execution_count": 7,
   "metadata": {},
   "outputs": [],
   "source": [
    "#-----Get volume.\n",
    "\n",
    "volume = system.box.get_volume()"
   ]
  }
 ],
 "metadata": {
  "kernelspec": {
   "display_name": "Python 3",
   "language": "python",
   "name": "python3"
  },
  "language_info": {
   "codemirror_mode": {
    "name": "ipython",
    "version": 3
   },
   "file_extension": ".py",
   "mimetype": "text/x-python",
   "name": "python",
   "nbconvert_exporter": "python",
   "pygments_lexer": "ipython3",
   "version": "3.7.3"
  }
 },
 "nbformat": 4,
 "nbformat_minor": 4
}
