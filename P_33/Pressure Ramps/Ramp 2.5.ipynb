{
 "cells": [
  {
   "cell_type": "markdown",
   "metadata": {},
   "source": [
    "# Mesogens with NP | Pressure Ramps"
   ]
  },
  {
   "cell_type": "markdown",
   "metadata": {},
   "source": [
    "## Pressure: 2.3-> 2.5"
   ]
  },
  {
   "cell_type": "markdown",
   "metadata": {},
   "source": [
    "### Date: 12/17/19 | System P = 3.3, Expected value of $T_c$ : 9.91"
   ]
  },
  {
   "cell_type": "code",
   "execution_count": 1,
   "metadata": {},
   "outputs": [],
   "source": [
    "#-----Importa los paquetes esenciales para correr la simulación.\n",
    "\n",
    "from __future__ import division\n",
    "import hoomd\n",
    "import hoomd.md"
   ]
  },
  {
   "cell_type": "code",
   "execution_count": 2,
   "metadata": {},
   "outputs": [],
   "source": [
    "#-----Define important variables\n",
    "\n",
    "p_prev = 2.3;\n",
    "p_new = 2.5;\n",
    "temp = 9.0;\n",
    "steps_ramp = 1.5e4;\n",
    "run_time = steps_ramp;"
   ]
  },
  {
   "cell_type": "code",
   "execution_count": 3,
   "metadata": {},
   "outputs": [],
   "source": [
    "#-----Declare the file from wich we'll extract the configuration of the system.\n",
    "\n",
    "ramp_file = \"T_CM&NP_\" + str(temp) + \"_P_\" + str(p_prev) + \"_ramp.gsd\""
   ]
  },
  {
   "cell_type": "code",
   "execution_count": 4,
   "metadata": {},
   "outputs": [
    {
     "name": "stdout",
     "output_type": "stream",
     "text": [
      "HOOMD-blue 2.7.0 DOUBLE HPMC_MIXED TBB SSE SSE2 SSE3 \n",
      "Compiled: 10/02/2019\n",
      "Copyright (c) 2009-2019 The Regents of the University of Michigan.\n",
      "-----\n",
      "You are using HOOMD-blue. Please cite the following:\n",
      "* J A Anderson, C D Lorenz, and A Travesset. \"General purpose molecular dynamics\n",
      "  simulations fully implemented on graphics processing units\", Journal of\n",
      "  Computational Physics 227 (2008) 5342--5359\n",
      "* J Glaser, T D Nguyen, J A Anderson, P Liu, F Spiga, J A Millan, D C Morse, and\n",
      "  S C Glotzer. \"Strong scaling of general-purpose molecular dynamics simulations\n",
      "  on GPUs\", Computer Physics Communications 192 (2015) 97--107\n",
      "-----\n",
      "HOOMD-blue is running on the CPU\n",
      "notice(2): Group \"all\" created containing 1010 particles\n",
      "notice(2): constrain.rigid(): Creating 1000 rigid bodies (adding 8000 particles)\n",
      "-----\n",
      "You are using tree neighbor lists. Please cite the following:\n",
      "* M P Howard, J A Anderson, A Nikoubashman, S C Glotzer, and A Z\n",
      "  Panagiotopoulos. \"Efficient neighbor list calculation for molecular simulation\n",
      "  of colloidal systems using graphics processing units\", Computer Physics\n",
      "  Communications 203 (2016) 45--52\n",
      "-----\n",
      "notice(2): Group \"Nano_Particles\" created containing 10 particles\n",
      "notice(2): Group \"rigid_center\" created containing 1000 particles\n",
      "notice(2): Group \"NP_Mes\" created containing 1010 particles\n"
     ]
    }
   ],
   "source": [
    "#-----Start from a gsd file\n",
    "\n",
    "hoomd.context.initialize(\"--mode=cpu\", memory_traceback = True);\n",
    "\n",
    "#-----Select the trayectory of the center of mass of particles\n",
    "\n",
    "system = hoomd.init.read_gsd(ramp_file,frame = -1)\n",
    "\n",
    "#-----Define each rigid body type in the local coordinate system of the body.\n",
    "\n",
    "rigid = hoomd.md.constrain.rigid();\n",
    "rigid.set_param('M', \n",
    "                types=['A']*8,\n",
    "                positions=[(-4,0,0),(-3,0,0),(-2,0,0),(-1,0,0),\n",
    "                           (1,0,0),(2,0,0),(3,0,0),(4,0,0)]);\n",
    "\n",
    "#-----Instruct the rigid constraint to create the constituent particles\n",
    "\n",
    "rigid.create_bodies();\n",
    "\n",
    "#-----Define the potential energy\n",
    "\n",
    "nl = hoomd.md.nlist.tree()\n",
    "\n",
    "lj = hoomd.md.pair.lj(r_cut = 3.5, nlist=nl)\n",
    "lj.set_params(mode='shift')\n",
    "\n",
    "#-----Define interaction with species in the binary mixture\n",
    "\n",
    "lj.pair_coeff.set('NP','NP', epsilon = 1.0, sigma = 5.0);\n",
    "lj.pair_coeff.set('M' ,'M' , epsilon = 1.0, sigma = 1.0);\n",
    "lj.pair_coeff.set('A' ,'A' , epsilon = 1.0, sigma = 1.0);\n",
    "lj.pair_coeff.set('M' ,'A' , epsilon = 1.0, sigma = 1.0);\n",
    "lj.pair_coeff.set('NP','M' , epsilon = 1.0, sigma = 3.0);\n",
    "lj.pair_coeff.set('NP','A' , epsilon = 1.0, sigma = 3.0);\n",
    "\n",
    "#-----Select an standard integrator.\n",
    "\n",
    "hoomd.md.integrate.mode_standard(dt = 0.005);\n",
    "\n",
    "#------Define some groups and make their union.\n",
    "\n",
    "nanoparticles = hoomd.group.type(name = 'Nano_Particles', type = 'NP');\n",
    "mesogens = hoomd.group.rigid_center();\n",
    "groupNP_mes = hoomd.group.union(name = \"NP_Mes\", a = nanoparticles, b = mesogens);\n",
    "\n",
    "#-----Integrate using NPT\n",
    "\n",
    "pressure = hoomd.variant.linear_interp(points = [(0,p_prev), (steps_ramp, p_new)])\n",
    "npt = hoomd.md.integrate.npt(group = groupNP_mes, kT = temp, tau = 1.0, tauP = 1.0, P = pressure);\n",
    "npt.randomize_velocities(23)\n",
    "\n",
    "#-----Define los archivos en los que se guardará la información de la simulación. \n",
    "\n",
    "log_file = \"T_\" + str(temp) + \"_P_\" + str(p_new) + \"_ramp.log\"\n",
    "gsd_file = \"T_\" + str(temp) + \"_P_\" + str(p_new) + \"_ramp.gsd\" \n",
    "meso_gsd_file = \"T_CM&NP_\" + str(temp) + \"_P_\" + str(p_new) + \"_ramp.gsd\"\n",
    "\n",
    "log = hoomd.analyze.log(filename = log_file,\n",
    "                         quantities = ['num_particles',\n",
    "                                     'ndof',\n",
    "                                     'translational_ndof',\n",
    "                                     'rotational_ndof',\n",
    "                                     'potential_energy',\n",
    "                                     'kinetic_energy',\n",
    "                                     'translational_kinetic_energy',\n",
    "                                     'rotational_kinetic_energy',\n",
    "                                     'temperature',\n",
    "                                     'pressure',\n",
    "                                      'volume'],\n",
    "                         period = 1e3,\n",
    "                         overwrite = True);\n",
    "gsd = hoomd.dump.gsd(gsd_file,\n",
    "               period = 1e3,\n",
    "               group = hoomd.group.all(),\n",
    "               overwrite = True); \n",
    "meso_gsd = hoomd.dump.gsd(meso_gsd_file,\n",
    "               period = 1e3,\n",
    "               group = groupNP_mes,\n",
    "               overwrite = True);"
   ]
  },
  {
   "cell_type": "code",
   "execution_count": 5,
   "metadata": {
    "scrolled": true
   },
   "outputs": [
    {
     "name": "stdout",
     "output_type": "stream",
     "text": [
      "notice(2): -- Neighborlist exclusion statistics -- :\n",
      "notice(2): Particles with 0 exclusions             : 9010\n",
      "notice(2): Neighbors included by diameter          : no\n",
      "notice(2): Neighbors excluded when in the same body: yes\n",
      "** starting run **\n",
      "Time 00:00:10 | Step 250241 / 265000 | TPS 24.0217 | ETA 00:10:14\n",
      "Time 00:00:20 | Step 250489 / 265000 | TPS 24.7031 | ETA 00:09:47\n",
      "Time 00:00:30 | Step 250734 / 265000 | TPS 24.484 | ETA 00:09:42\n",
      "Time 00:00:40 | Step 250977 / 265000 | TPS 24.2006 | ETA 00:09:39\n",
      "Time 00:00:50 | Step 251225 / 265000 | TPS 24.6764 | ETA 00:09:18\n",
      "Time 00:01:00 | Step 251475 / 265000 | TPS 24.8832 | ETA 00:09:03\n",
      "Time 00:01:10 | Step 251725 / 265000 | TPS 24.8499 | ETA 00:08:54\n",
      "Time 00:01:20 | Step 251974 / 265000 | TPS 24.8859 | ETA 00:08:43\n",
      "Time 00:01:30 | Step 252215 / 265000 | TPS 23.9623 | ETA 00:08:53\n",
      "Time 00:01:40 | Step 252461 / 265000 | TPS 24.5381 | ETA 00:08:31\n",
      "Time 00:01:50 | Step 252709 / 265000 | TPS 24.7611 | ETA 00:08:16\n",
      "Time 00:02:00 | Step 252959 / 265000 | TPS 24.9828 | ETA 00:08:01\n",
      "Time 00:02:10 | Step 253199 / 265000 | TPS 23.8388 | ETA 00:08:15\n",
      "Time 00:02:20 | Step 253445 / 265000 | TPS 24.481 | ETA 00:07:51\n",
      "Time 00:02:30 | Step 253683 / 265000 | TPS 23.7627 | ETA 00:07:56\n",
      "Time 00:02:40 | Step 253921 / 265000 | TPS 23.7242 | ETA 00:07:46\n",
      "Time 00:02:50 | Step 254158 / 265000 | TPS 23.6892 | ETA 00:07:37\n",
      "Time 00:03:00 | Step 254373 / 265000 | TPS 21.43 | ETA 00:08:15\n",
      "Time 00:03:10 | Step 254602 / 265000 | TPS 22.8822 | ETA 00:07:34\n",
      "Time 00:03:20 | Step 254825 / 265000 | TPS 22.2261 | ETA 00:07:37\n",
      "Time 00:03:30 | Step 255049 / 265000 | TPS 22.3725 | ETA 00:07:24\n",
      "Time 00:03:40 | Step 255271 / 265000 | TPS 22.0307 | ETA 00:07:21\n",
      "Time 00:03:50 | Step 255495 / 265000 | TPS 22.3508 | ETA 00:07:05\n",
      "Time 00:04:00 | Step 255713 / 265000 | TPS 21.6844 | ETA 00:07:08\n",
      "Time 00:04:10 | Step 255951 / 265000 | TPS 23.6604 | ETA 00:06:22\n",
      "Time 00:04:20 | Step 256179 / 265000 | TPS 22.7957 | ETA 00:06:26\n",
      "Time 00:04:30 | Step 256403 / 265000 | TPS 22.3933 | ETA 00:06:23\n",
      "Time 00:04:40 | Step 256624 / 265000 | TPS 21.9516 | ETA 00:06:21\n",
      "Time 00:04:51 | Step 256847 / 265000 | TPS 22.2105 | ETA 00:06:07\n",
      "Time 00:05:01 | Step 257065 / 265000 | TPS 21.6614 | ETA 00:06:06\n",
      "Time 00:05:11 | Step 257271 / 265000 | TPS 20.4605 | ETA 00:06:17\n",
      "Time 00:05:21 | Step 257496 / 265000 | TPS 22.4799 | ETA 00:05:33\n",
      "Time 00:05:31 | Step 257709 / 265000 | TPS 21.1638 | ETA 00:05:44\n",
      "Time 00:05:41 | Step 257931 / 265000 | TPS 22.1123 | ETA 00:05:19\n",
      "Time 00:05:51 | Step 258157 / 265000 | TPS 22.492 | ETA 00:05:04\n",
      "Time 00:06:01 | Step 258379 / 265000 | TPS 22.1998 | ETA 00:04:58\n",
      "Time 00:06:11 | Step 258607 / 265000 | TPS 22.6586 | ETA 00:04:42\n",
      "Time 00:06:21 | Step 258821 / 265000 | TPS 21.3541 | ETA 00:04:49\n",
      "Time 00:06:31 | Step 259041 / 265000 | TPS 21.9364 | ETA 00:04:31\n",
      "Time 00:06:41 | Step 259277 / 265000 | TPS 23.4529 | ETA 00:04:04\n",
      "Time 00:06:51 | Step 259515 / 265000 | TPS 23.6651 | ETA 00:03:51\n",
      "Time 00:07:01 | Step 259743 / 265000 | TPS 22.6893 | ETA 00:03:51\n",
      "Time 00:07:11 | Step 259971 / 265000 | TPS 22.6799 | ETA 00:03:41\n",
      "Time 00:07:21 | Step 260181 / 265000 | TPS 20.9382 | ETA 00:03:50\n",
      "Time 00:07:31 | Step 260415 / 265000 | TPS 23.337 | ETA 00:03:16\n",
      "Time 00:07:41 | Step 260649 / 265000 | TPS 23.3606 | ETA 00:03:06\n",
      "Time 00:07:51 | Step 260893 / 265000 | TPS 24.2768 | ETA 00:02:49\n",
      "Time 00:08:01 | Step 261140 / 265000 | TPS 24.6877 | ETA 00:02:36\n",
      "Time 00:08:11 | Step 261373 / 265000 | TPS 23.2099 | ETA 00:02:36\n",
      "Time 00:08:21 | Step 261587 / 265000 | TPS 21.2923 | ETA 00:02:40\n",
      "Time 00:08:31 | Step 261803 / 265000 | TPS 21.5544 | ETA 00:02:28\n",
      "Time 00:08:41 | Step 262033 / 265000 | TPS 22.845 | ETA 00:02:09\n",
      "Time 00:08:51 | Step 262264 / 265000 | TPS 23.0695 | ETA 00:01:58\n",
      "Time 00:09:02 | Step 262495 / 265000 | TPS 22.9613 | ETA 00:01:49\n",
      "Time 00:09:12 | Step 262723 / 265000 | TPS 22.7702 | ETA 00:01:39\n",
      "Time 00:09:22 | Step 262949 / 265000 | TPS 22.4883 | ETA 00:01:31\n",
      "Time 00:09:32 | Step 263175 / 265000 | TPS 22.5224 | ETA 00:01:21\n",
      "Time 00:09:42 | Step 263409 / 265000 | TPS 23.2476 | ETA 00:01:08\n",
      "Time 00:09:52 | Step 263639 / 265000 | TPS 22.9617 | ETA 00:00:59\n",
      "Time 00:10:02 | Step 263876 / 265000 | TPS 23.6728 | ETA 00:00:47\n",
      "Time 00:10:12 | Step 264114 / 265000 | TPS 23.7766 | ETA 00:00:37\n",
      "Time 00:10:22 | Step 264353 / 265000 | TPS 23.7412 | ETA 00:00:27\n",
      "Time 00:10:32 | Step 264592 / 265000 | TPS 23.8772 | ETA 00:00:17\n",
      "Time 00:10:42 | Step 264827 / 265000 | TPS 23.4142 | ETA 00:00:07\n",
      "Time 00:10:49 | Step 265000 / 265000 | TPS 23.004 | ETA 00:00:00\n",
      "Average TPS: 23.0837\n",
      "---------\n",
      "-- Neighborlist stats:\n",
      "7376 normal updates / 151 forced updates / 0 dangerous updates\n",
      "n_neigh_min: 0 / n_neigh_max: 126 / n_neigh_avg: 55.3353\n",
      "shortest rebuild period: 1\n",
      "notice(2): Total amount of managed memory allocated through Global[Array,Vector]: 0B\n",
      "notice(2): Actual allocation sizes may be larger by up to the OS page size due to alignment.\n",
      "notice(2): List of memory allocations and last 3 functions called at time of (re-)allocation\n",
      "** run complete **\n"
     ]
    }
   ],
   "source": [
    "#-----Run the simulation.\n",
    "\n",
    "hoomd.run(run_time)"
   ]
  },
  {
   "cell_type": "code",
   "execution_count": 6,
   "metadata": {},
   "outputs": [],
   "source": [
    "#-----Get density.\n",
    "\n",
    "meta = system.get_metadata()"
   ]
  },
  {
   "cell_type": "code",
   "execution_count": 7,
   "metadata": {},
   "outputs": [],
   "source": [
    "#-----Get volume.\n",
    "\n",
    "volume = system.box.get_volume()"
   ]
  }
 ],
 "metadata": {
  "kernelspec": {
   "display_name": "Python 3",
   "language": "python",
   "name": "python3"
  },
  "language_info": {
   "codemirror_mode": {
    "name": "ipython",
    "version": 3
   },
   "file_extension": ".py",
   "mimetype": "text/x-python",
   "name": "python",
   "nbconvert_exporter": "python",
   "pygments_lexer": "ipython3",
   "version": "3.7.3"
  }
 },
 "nbformat": 4,
 "nbformat_minor": 4
}
