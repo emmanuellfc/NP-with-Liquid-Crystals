{
 "cells": [
  {
   "cell_type": "markdown",
   "metadata": {},
   "source": [
    "# Mesogens with NP | Temperature Ramps"
   ]
  },
  {
   "cell_type": "markdown",
   "metadata": {},
   "source": [
    "## Temperature: 6.0 -> 6.2 | CPU Run"
   ]
  },
  {
   "cell_type": "markdown",
   "metadata": {},
   "source": [
    "### Date: 12/09/2019 | System P = 1.8, Expected value of $T_c$ : 7.09 "
   ]
  },
  {
   "cell_type": "code",
   "execution_count": 1,
   "metadata": {},
   "outputs": [],
   "source": [
    "#-----Import essential packages.\n",
    "\n",
    "from __future__ import division\n",
    "import hoomd\n",
    "import hoomd.md"
   ]
  },
  {
   "cell_type": "code",
   "execution_count": 2,
   "metadata": {},
   "outputs": [],
   "source": [
    "#-----Define important variables.\n",
    "\n",
    "press = 2.9;\n",
    "t_0   = 8.0; \n",
    "t_1   = 7.0;\n",
    "steps_ramp = 1.5e4;"
   ]
  },
  {
   "cell_type": "code",
   "execution_count": 3,
   "metadata": {},
   "outputs": [],
   "source": [
    "#-----Declare the file from wich we'll extract the configuration of the system.\n",
    "\n",
    "ramp_file = \"T_CM&NP_\" + str(t_0) + \"_P_\" + str(press) + \"_ramp.gsd\""
   ]
  },
  {
   "cell_type": "code",
   "execution_count": 4,
   "metadata": {},
   "outputs": [
    {
     "name": "stdout",
     "output_type": "stream",
     "text": [
      "HOOMD-blue 2.7.0 DOUBLE HPMC_MIXED TBB SSE SSE2 SSE3 \n",
      "Compiled: 10/02/2019\n",
      "Copyright (c) 2009-2019 The Regents of the University of Michigan.\n",
      "-----\n",
      "You are using HOOMD-blue. Please cite the following:\n",
      "* J A Anderson, C D Lorenz, and A Travesset. \"General purpose molecular dynamics\n",
      "  simulations fully implemented on graphics processing units\", Journal of\n",
      "  Computational Physics 227 (2008) 5342--5359\n",
      "* J Glaser, T D Nguyen, J A Anderson, P Liu, F Spiga, J A Millan, D C Morse, and\n",
      "  S C Glotzer. \"Strong scaling of general-purpose molecular dynamics simulations\n",
      "  on GPUs\", Computer Physics Communications 192 (2015) 97--107\n",
      "-----\n",
      "HOOMD-blue is running on the CPU\n",
      "notice(2): Group \"all\" created containing 1010 particles\n",
      "notice(2): constrain.rigid(): Creating 1000 rigid bodies (adding 8000 particles)\n",
      "-----\n",
      "You are using tree neighbor lists. Please cite the following:\n",
      "* M P Howard, J A Anderson, A Nikoubashman, S C Glotzer, and A Z\n",
      "  Panagiotopoulos. \"Efficient neighbor list calculation for molecular simulation\n",
      "  of colloidal systems using graphics processing units\", Computer Physics\n",
      "  Communications 203 (2016) 45--52\n",
      "-----\n",
      "notice(2): Group \"Nano_Particles\" created containing 10 particles\n",
      "notice(2): Group \"rigid_center\" created containing 1000 particles\n",
      "notice(2): Group \"NP_Mes\" created containing 1010 particles\n"
     ]
    }
   ],
   "source": [
    "#-----Declare a simulation context.\n",
    "\n",
    "hoomd.context.initialize(\"--mode=cpu\", memory_traceback = True);\n",
    "\n",
    "#-----Initialize from a .gsd file.\n",
    "\n",
    "system = hoomd.init.read_gsd(ramp_file, frame = -1);\n",
    "\n",
    "#-----Define each mesogen in the local frame of reference of each rigid body.\n",
    "\n",
    "rigid = hoomd.md.constrain.rigid();\n",
    "rigid.set_param('M', \n",
    "                types = ['A']*8,\n",
    "                positions = [(-4,0,0),(-3,0,0),(-2,0,0),(-1,0,0),\n",
    "                           (1,0,0),(2,0,0),(3,0,0),(4,0,0)]);\n",
    "\n",
    "#-----Create the mesogens.\n",
    "\n",
    "rigid.create_bodies();\n",
    "\n",
    "#-----Define the potential energy.\n",
    "\n",
    "nl = hoomd.md.nlist.tree(r_buff = 3.5, check_period = 1);\n",
    "\n",
    "lj = hoomd.md.pair.lj(r_cut = 3.5, nlist = nl)\n",
    "lj.set_params(mode = 'shift')\n",
    "\n",
    "#-----Declare interactions.\n",
    "\n",
    "lj.pair_coeff.set('NP','NP', epsilon = 1.0, sigma = 5.0);\n",
    "lj.pair_coeff.set('M' ,'M' , epsilon = 1.0, sigma = 1.0);\n",
    "lj.pair_coeff.set('A' ,'A' , epsilon = 1.0, sigma = 1.0);\n",
    "lj.pair_coeff.set('M' ,'A' , epsilon = 1.0, sigma = 1.0);\n",
    "lj.pair_coeff.set('NP','M' , epsilon = 1.0, sigma = 3.0);\n",
    "lj.pair_coeff.set('NP','A' , epsilon = 1.0, sigma = 3.0);\n",
    "\n",
    "#-----Select an standard integrator.\n",
    "\n",
    "hoomd.md.integrate.mode_standard(dt = 0.005);\n",
    "\n",
    "#------Define some groups and make their union.\n",
    "\n",
    "nanoparticles = hoomd.group.type(name = 'Nano_Particles', type = 'NP');\n",
    "mesogens = hoomd.group.rigid_center();\n",
    "groupNP_mes = hoomd.group.union(name = \"NP_Mes\", a = nanoparticles, b = mesogens);\n",
    "\n",
    "#----Integrate using an NPT integrator.\n",
    "\n",
    "temp = hoomd.variant.linear_interp(points = [(0,t_0), (steps_ramp, t_1)]);\n",
    "\n",
    "npt = hoomd.md.integrate.npt(group = groupNP_mes, kT = temp, tau = 0.5, tauP = 0.4, P = press);\n",
    "npt.randomize_velocities(seed=42)\n",
    "\n",
    "#-----Save .log y .gsd data.\n",
    "\n",
    "log_file = \"T_\" + str(t_1) + \"_P_\" + str(press) + \"_ramp.log\"\n",
    "gsd_file = \"T_\" + str(t_1) + \"_P_\" + str(press) + \"_ramp.gsd\" \n",
    "meso_gsd_file = \"T_CM&NP_\" + str(t_1) + \"_P_\" + str(press) + \"_ramp.gsd\"\n",
    "\n",
    "log = hoomd.analyze.log(filename = log_file,\n",
    "                         quantities = ['num_particles',\n",
    "                                     'ndof',\n",
    "                                     'translational_ndof',\n",
    "                                     'rotational_ndof',\n",
    "                                     'potential_energy',\n",
    "                                     'kinetic_energy',\n",
    "                                     'translational_kinetic_energy',\n",
    "                                     'rotational_kinetic_energy',\n",
    "                                     'temperature',\n",
    "                                     'pressure',\n",
    "                                      'volume'],\n",
    "                         period = 1e3,\n",
    "                         overwrite = True);\n",
    "gsd = hoomd.dump.gsd(gsd_file,\n",
    "               period = 1e3,\n",
    "               group = hoomd.group.all(),\n",
    "               overwrite = True); \n",
    "meso_gsd = hoomd.dump.gsd(meso_gsd_file,\n",
    "               period = 1e3,\n",
    "               group = groupNP_mes,\n",
    "               overwrite = True); "
   ]
  },
  {
   "cell_type": "code",
   "execution_count": 5,
   "metadata": {
    "scrolled": true
   },
   "outputs": [
    {
     "name": "stdout",
     "output_type": "stream",
     "text": [
      "notice(2): -- Neighborlist exclusion statistics -- :\n",
      "notice(2): Particles with 0 exclusions             : 9010\n",
      "notice(2): Neighbors included by diameter          : no\n",
      "notice(2): Neighbors excluded when in the same body: yes\n",
      "** starting run **\n",
      "Time 00:00:10 | Step 296188 / 311000 | TPS 18.7361 | ETA 00:13:10\n",
      "Time 00:00:20 | Step 296401 / 311000 | TPS 20.9094 | ETA 00:11:38\n",
      "Time 00:00:30 | Step 296620 / 311000 | TPS 21.8823 | ETA 00:10:57\n",
      "Time 00:00:40 | Step 296816 / 311000 | TPS 19.5535 | ETA 00:12:05\n",
      "Time 00:00:50 | Step 297008 / 311000 | TPS 19.1713 | ETA 00:12:09\n",
      "Time 00:01:00 | Step 297204 / 311000 | TPS 19.5641 | ETA 00:11:45\n",
      "Time 00:01:10 | Step 297392 / 311000 | TPS 18.1208 | ETA 00:12:30\n",
      "Time 00:01:20 | Step 297580 / 311000 | TPS 18.7957 | ETA 00:11:53\n",
      "Time 00:01:30 | Step 297788 / 311000 | TPS 20.7355 | ETA 00:10:37\n",
      "Time 00:01:40 | Step 297969 / 311000 | TPS 18.0828 | ETA 00:12:00\n",
      "Time 00:01:50 | Step 298165 / 311000 | TPS 19.5818 | ETA 00:10:55\n",
      "Time 00:02:01 | Step 298367 / 311000 | TPS 19.6657 | ETA 00:10:42\n",
      "Time 00:02:11 | Step 298563 / 311000 | TPS 19.5769 | ETA 00:10:35\n",
      "Time 00:02:21 | Step 298752 / 311000 | TPS 18.8588 | ETA 00:10:49\n",
      "Time 00:02:31 | Step 298950 / 311000 | TPS 19.4096 | ETA 00:10:20\n",
      "Time 00:02:41 | Step 299150 / 311000 | TPS 19.9669 | ETA 00:09:53\n",
      "Time 00:02:51 | Step 299344 / 311000 | TPS 19.3268 | ETA 00:10:03\n",
      "Time 00:03:01 | Step 299524 / 311000 | TPS 17.8649 | ETA 00:10:42\n",
      "Time 00:03:11 | Step 299716 / 311000 | TPS 19.1861 | ETA 00:09:48\n",
      "Time 00:03:21 | Step 299908 / 311000 | TPS 19.1468 | ETA 00:09:39\n",
      "Time 00:03:31 | Step 300101 / 311000 | TPS 19.0338 | ETA 00:09:32\n",
      "Time 00:03:41 | Step 300296 / 311000 | TPS 19.4482 | ETA 00:09:10\n",
      "Time 00:03:51 | Step 300486 / 311000 | TPS 18.9087 | ETA 00:09:16\n",
      "Time 00:04:01 | Step 300667 / 311000 | TPS 18.0782 | ETA 00:09:31\n",
      "Time 00:04:11 | Step 300853 / 311000 | TPS 18.5262 | ETA 00:09:07\n",
      "Time 00:04:21 | Step 301042 / 311000 | TPS 18.8371 | ETA 00:08:48\n",
      "Time 00:04:31 | Step 301226 / 311000 | TPS 18.3857 | ETA 00:08:51\n",
      "Time 00:04:41 | Step 301412 / 311000 | TPS 18.5499 | ETA 00:08:36\n",
      "Time 00:04:51 | Step 301595 / 311000 | TPS 18.2849 | ETA 00:08:34\n",
      "Time 00:05:01 | Step 301778 / 311000 | TPS 17.9702 | ETA 00:08:33\n",
      "Time 00:05:12 | Step 301973 / 311000 | TPS 19.1021 | ETA 00:07:52\n",
      "Time 00:05:22 | Step 302158 / 311000 | TPS 18.4737 | ETA 00:07:58\n",
      "Time 00:05:32 | Step 302341 / 311000 | TPS 18.2973 | ETA 00:07:53\n",
      "Time 00:05:42 | Step 302527 / 311000 | TPS 18.4108 | ETA 00:07:40\n",
      "Time 00:05:52 | Step 302721 / 311000 | TPS 18.8479 | ETA 00:07:19\n",
      "Time 00:06:02 | Step 302911 / 311000 | TPS 18.9982 | ETA 00:07:05\n",
      "Time 00:06:12 | Step 303108 / 311000 | TPS 19.6856 | ETA 00:06:40\n",
      "Time 00:06:22 | Step 303305 / 311000 | TPS 19.6368 | ETA 00:06:31\n",
      "Time 00:06:32 | Step 303501 / 311000 | TPS 19.4655 | ETA 00:06:25\n",
      "Time 00:06:42 | Step 303701 / 311000 | TPS 19.5222 | ETA 00:06:13\n",
      "Time 00:06:52 | Step 303898 / 311000 | TPS 19.6854 | ETA 00:06:00\n",
      "Time 00:07:03 | Step 304099 / 311000 | TPS 19.6298 | ETA 00:05:51\n",
      "Time 00:07:13 | Step 304300 / 311000 | TPS 20.0473 | ETA 00:05:34\n",
      "Time 00:07:23 | Step 304506 / 311000 | TPS 20.5867 | ETA 00:05:15\n",
      "Time 00:07:33 | Step 304709 / 311000 | TPS 20.2291 | ETA 00:05:10\n",
      "Time 00:07:43 | Step 304917 / 311000 | TPS 20.7895 | ETA 00:04:52\n",
      "Time 00:07:53 | Step 305120 / 311000 | TPS 20.2536 | ETA 00:04:50\n",
      "Time 00:08:03 | Step 305325 / 311000 | TPS 20.2044 | ETA 00:04:40\n",
      "Time 00:08:13 | Step 305532 / 311000 | TPS 20.6072 | ETA 00:04:25\n",
      "Time 00:08:23 | Step 305741 / 311000 | TPS 20.8741 | ETA 00:04:11\n",
      "Time 00:08:33 | Step 305947 / 311000 | TPS 20.4539 | ETA 00:04:07\n",
      "Time 00:08:43 | Step 306156 / 311000 | TPS 20.8179 | ETA 00:03:52\n",
      "Time 00:08:53 | Step 306369 / 311000 | TPS 21.2366 | ETA 00:03:38\n",
      "Time 00:09:03 | Step 306577 / 311000 | TPS 20.2868 | ETA 00:03:38\n",
      "Time 00:09:13 | Step 306779 / 311000 | TPS 20.184 | ETA 00:03:29\n",
      "Time 00:09:23 | Step 306974 / 311000 | TPS 19.4264 | ETA 00:03:27\n",
      "Time 00:09:33 | Step 307184 / 311000 | TPS 20.9998 | ETA 00:03:01\n",
      "Time 00:09:43 | Step 307388 / 311000 | TPS 20.3892 | ETA 00:02:57\n",
      "Time 00:09:53 | Step 307586 / 311000 | TPS 19.7863 | ETA 00:02:52\n",
      "Time 00:10:03 | Step 307782 / 311000 | TPS 19.5938 | ETA 00:02:44\n",
      "Time 00:10:13 | Step 307984 / 311000 | TPS 20.1574 | ETA 00:02:29\n",
      "Time 00:10:23 | Step 308193 / 311000 | TPS 20.8779 | ETA 00:02:14\n",
      "Time 00:10:33 | Step 308385 / 311000 | TPS 19.1344 | ETA 00:02:16\n",
      "Time 00:10:44 | Step 308587 / 311000 | TPS 20.1458 | ETA 00:01:59\n",
      "Time 00:10:54 | Step 308779 / 311000 | TPS 18.9333 | ETA 00:01:57\n",
      "Time 00:11:04 | Step 308980 / 311000 | TPS 19.7947 | ETA 00:01:42\n",
      "Time 00:11:14 | Step 309171 / 311000 | TPS 19.0966 | ETA 00:01:35\n",
      "Time 00:11:24 | Step 309352 / 311000 | TPS 17.9731 | ETA 00:01:31\n",
      "Time 00:11:34 | Step 309534 / 311000 | TPS 18.1534 | ETA 00:01:20\n",
      "Time 00:11:44 | Step 309721 / 311000 | TPS 18.3955 | ETA 00:01:09\n",
      "Time 00:11:54 | Step 309917 / 311000 | TPS 19.5335 | ETA 00:00:55\n",
      "Time 00:12:04 | Step 310101 / 311000 | TPS 18.2798 | ETA 00:00:49\n",
      "Time 00:12:14 | Step 310299 / 311000 | TPS 19.7237 | ETA 00:00:35\n",
      "Time 00:12:24 | Step 310483 / 311000 | TPS 18.3985 | ETA 00:00:28\n",
      "Time 00:12:34 | Step 310668 / 311000 | TPS 18.0741 | ETA 00:00:18\n",
      "Time 00:12:44 | Step 310854 / 311000 | TPS 18.5815 | ETA 00:00:07\n",
      "Time 00:12:52 | Step 311000 / 311000 | TPS 18.9022 | ETA 00:00:00\n",
      "Average TPS: 19.4138\n",
      "---------\n",
      "-- Neighborlist stats:\n",
      "556 normal updates / 151 forced updates / 0 dangerous updates\n",
      "n_neigh_min: 0 / n_neigh_max: 906 / n_neigh_avg: 438.465\n",
      "shortest rebuild period: 12\n",
      "notice(2): Total amount of managed memory allocated through Global[Array,Vector]: 0B\n",
      "notice(2): Actual allocation sizes may be larger by up to the OS page size due to alignment.\n",
      "notice(2): List of memory allocations and last 3 functions called at time of (re-)allocation\n",
      "** run complete **\n"
     ]
    }
   ],
   "source": [
    "#-----Run the simulation.\n",
    "\n",
    "hoomd.run(steps_ramp)"
   ]
  },
  {
   "cell_type": "code",
   "execution_count": 6,
   "metadata": {},
   "outputs": [
    {
     "data": {
      "text/plain": [
       "OrderedDict([('box', <hoomd.data.boxdim at 0x7f2fbc8df8d0>),\n",
       "             ('particles', <hoomd.data.particle_data at 0x7f2fbc80dac8>),\n",
       "             ('number_density', 0.6028443219333094),\n",
       "             ('bonds', <hoomd.data.bond_data at 0x7f2fbc80db38>),\n",
       "             ('angles', <hoomd.data.angle_data at 0x7f2fbc80dba8>),\n",
       "             ('dihedrals', <hoomd.data.dihedral_data at 0x7f2fbc80dc18>),\n",
       "             ('impropers', <hoomd.data.dihedral_data at 0x7f2fbc80dc88>),\n",
       "             ('constraints', <hoomd.data.constraint_data at 0x7f2fbc80dcf8>),\n",
       "             ('pairs', <hoomd.data.bond_data at 0x7f2fbc80dd68>),\n",
       "             ('timestep', 311000)])"
      ]
     },
     "execution_count": 6,
     "metadata": {},
     "output_type": "execute_result"
    }
   ],
   "source": [
    "#-----Get density.\n",
    "\n",
    "system.get_metadata()"
   ]
  },
  {
   "cell_type": "code",
   "execution_count": 7,
   "metadata": {},
   "outputs": [
    {
     "data": {
      "text/plain": [
       "14945.815482022148"
      ]
     },
     "execution_count": 7,
     "metadata": {},
     "output_type": "execute_result"
    }
   ],
   "source": [
    "#-----Get volume.\n",
    "\n",
    "system.box.get_volume()"
   ]
  }
 ],
 "metadata": {
  "kernelspec": {
   "display_name": "Python 3",
   "language": "python",
   "name": "python3"
  },
  "language_info": {
   "codemirror_mode": {
    "name": "ipython",
    "version": 3
   },
   "file_extension": ".py",
   "mimetype": "text/x-python",
   "name": "python",
   "nbconvert_exporter": "python",
   "pygments_lexer": "ipython3",
   "version": "3.7.3"
  }
 },
 "nbformat": 4,
 "nbformat_minor": 4
}
