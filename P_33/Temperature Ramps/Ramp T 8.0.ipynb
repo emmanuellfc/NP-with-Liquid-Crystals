{
 "cells": [
  {
   "cell_type": "markdown",
   "metadata": {},
   "source": [
    "# Mesogens with NP | Temperature Ramps"
   ]
  },
  {
   "cell_type": "markdown",
   "metadata": {},
   "source": [
    "## Temperature: 6.0 -> 6.2 | CPU Run"
   ]
  },
  {
   "cell_type": "markdown",
   "metadata": {},
   "source": [
    "### Date: 12/09/2019 | System P = 1.8, Expected value of $T_c$ : 7.09 "
   ]
  },
  {
   "cell_type": "code",
   "execution_count": 1,
   "metadata": {},
   "outputs": [],
   "source": [
    "#-----Import essential packages.\n",
    "\n",
    "from __future__ import division\n",
    "import hoomd\n",
    "import hoomd.md"
   ]
  },
  {
   "cell_type": "code",
   "execution_count": 2,
   "metadata": {},
   "outputs": [],
   "source": [
    "#-----Define important variables.\n",
    "\n",
    "press = 2.9;\n",
    "t_0   = 9.0; \n",
    "t_1   = 8.0;\n",
    "steps_ramp = 1.5e4;"
   ]
  },
  {
   "cell_type": "code",
   "execution_count": 3,
   "metadata": {},
   "outputs": [],
   "source": [
    "#-----Declare the file from wich we'll extract the configuration of the system.\n",
    "\n",
    "ramp_file = \"T_CM&NP_\" + str(t_0) + \"_P_\" + str(press) + \"_ramp.gsd\""
   ]
  },
  {
   "cell_type": "code",
   "execution_count": 4,
   "metadata": {},
   "outputs": [
    {
     "name": "stdout",
     "output_type": "stream",
     "text": [
      "HOOMD-blue 2.7.0 DOUBLE HPMC_MIXED TBB SSE SSE2 SSE3 \n",
      "Compiled: 10/02/2019\n",
      "Copyright (c) 2009-2019 The Regents of the University of Michigan.\n",
      "-----\n",
      "You are using HOOMD-blue. Please cite the following:\n",
      "* J A Anderson, C D Lorenz, and A Travesset. \"General purpose molecular dynamics\n",
      "  simulations fully implemented on graphics processing units\", Journal of\n",
      "  Computational Physics 227 (2008) 5342--5359\n",
      "* J Glaser, T D Nguyen, J A Anderson, P Liu, F Spiga, J A Millan, D C Morse, and\n",
      "  S C Glotzer. \"Strong scaling of general-purpose molecular dynamics simulations\n",
      "  on GPUs\", Computer Physics Communications 192 (2015) 97--107\n",
      "-----\n",
      "HOOMD-blue is running on the CPU\n",
      "notice(2): Group \"all\" created containing 1010 particles\n",
      "notice(2): constrain.rigid(): Creating 1000 rigid bodies (adding 8000 particles)\n",
      "-----\n",
      "You are using tree neighbor lists. Please cite the following:\n",
      "* M P Howard, J A Anderson, A Nikoubashman, S C Glotzer, and A Z\n",
      "  Panagiotopoulos. \"Efficient neighbor list calculation for molecular simulation\n",
      "  of colloidal systems using graphics processing units\", Computer Physics\n",
      "  Communications 203 (2016) 45--52\n",
      "-----\n",
      "notice(2): Group \"Nano_Particles\" created containing 10 particles\n",
      "notice(2): Group \"rigid_center\" created containing 1000 particles\n",
      "notice(2): Group \"NP_Mes\" created containing 1010 particles\n"
     ]
    }
   ],
   "source": [
    "#-----Declare a simulation context.\n",
    "\n",
    "hoomd.context.initialize(\"--mode=cpu\", memory_traceback = True);\n",
    "\n",
    "#-----Initialize from a .gsd file.\n",
    "\n",
    "system = hoomd.init.read_gsd(ramp_file, frame = -1);\n",
    "\n",
    "#-----Define each mesogen in the local frame of reference of each rigid body.\n",
    "\n",
    "rigid = hoomd.md.constrain.rigid();\n",
    "rigid.set_param('M', \n",
    "                types = ['A']*8,\n",
    "                positions = [(-4,0,0),(-3,0,0),(-2,0,0),(-1,0,0),\n",
    "                           (1,0,0),(2,0,0),(3,0,0),(4,0,0)]);\n",
    "\n",
    "#-----Create the mesogens.\n",
    "\n",
    "rigid.create_bodies();\n",
    "\n",
    "#-----Define the potential energy.\n",
    "\n",
    "nl = hoomd.md.nlist.tree(r_buff = 3.5, check_period = 1);\n",
    "\n",
    "lj = hoomd.md.pair.lj(r_cut = 3.5, nlist = nl)\n",
    "lj.set_params(mode = 'shift')\n",
    "\n",
    "#-----Declare interactions.\n",
    "\n",
    "lj.pair_coeff.set('NP','NP', epsilon = 1.0, sigma = 5.0);\n",
    "lj.pair_coeff.set('M' ,'M' , epsilon = 1.0, sigma = 1.0);\n",
    "lj.pair_coeff.set('A' ,'A' , epsilon = 1.0, sigma = 1.0);\n",
    "lj.pair_coeff.set('M' ,'A' , epsilon = 1.0, sigma = 1.0);\n",
    "lj.pair_coeff.set('NP','M' , epsilon = 1.0, sigma = 3.0);\n",
    "lj.pair_coeff.set('NP','A' , epsilon = 1.0, sigma = 3.0);\n",
    "\n",
    "#-----Select an standard integrator.\n",
    "\n",
    "hoomd.md.integrate.mode_standard(dt = 0.005);\n",
    "\n",
    "#------Define some groups and make their union.\n",
    "\n",
    "nanoparticles = hoomd.group.type(name = 'Nano_Particles', type = 'NP');\n",
    "mesogens = hoomd.group.rigid_center();\n",
    "groupNP_mes = hoomd.group.union(name = \"NP_Mes\", a = nanoparticles, b = mesogens);\n",
    "\n",
    "#----Integrate using an NPT integrator.\n",
    "\n",
    "temp = hoomd.variant.linear_interp(points = [(0,t_0), (steps_ramp, t_1)]);\n",
    "\n",
    "npt = hoomd.md.integrate.npt(group = groupNP_mes, kT = temp, tau = 0.5, tauP = 0.4, P = press);\n",
    "npt.randomize_velocities(seed=42)\n",
    "\n",
    "#-----Save .log y .gsd data.\n",
    "\n",
    "log_file = \"T_\" + str(t_1) + \"_P_\" + str(press) + \"_ramp.log\"\n",
    "gsd_file = \"T_\" + str(t_1) + \"_P_\" + str(press) + \"_ramp.gsd\" \n",
    "meso_gsd_file = \"T_CM&NP_\" + str(t_1) + \"_P_\" + str(press) + \"_ramp.gsd\"\n",
    "\n",
    "log = hoomd.analyze.log(filename = log_file,\n",
    "                         quantities = ['num_particles',\n",
    "                                     'ndof',\n",
    "                                     'translational_ndof',\n",
    "                                     'rotational_ndof',\n",
    "                                     'potential_energy',\n",
    "                                     'kinetic_energy',\n",
    "                                     'translational_kinetic_energy',\n",
    "                                     'rotational_kinetic_energy',\n",
    "                                     'temperature',\n",
    "                                     'pressure',\n",
    "                                      'volume'],\n",
    "                         period = 1e3,\n",
    "                         overwrite = True);\n",
    "gsd = hoomd.dump.gsd(gsd_file,\n",
    "               period = 1e3,\n",
    "               group = hoomd.group.all(),\n",
    "               overwrite = True); \n",
    "meso_gsd = hoomd.dump.gsd(meso_gsd_file,\n",
    "               period = 1e3,\n",
    "               group = groupNP_mes,\n",
    "               overwrite = True); "
   ]
  },
  {
   "cell_type": "code",
   "execution_count": 5,
   "metadata": {
    "scrolled": true
   },
   "outputs": [
    {
     "name": "stdout",
     "output_type": "stream",
     "text": [
      "notice(2): -- Neighborlist exclusion statistics -- :\n",
      "notice(2): Particles with 0 exclusions             : 9010\n",
      "notice(2): Neighbors included by diameter          : no\n",
      "notice(2): Neighbors excluded when in the same body: yes\n",
      "** starting run **\n",
      "Time 00:00:10 | Step 282190 / 297000 | TPS 18.9637 | ETA 00:13:00\n",
      "Time 00:00:20 | Step 282401 / 297000 | TPS 20.9933 | ETA 00:11:35\n",
      "Time 00:00:30 | Step 282605 / 297000 | TPS 20.3849 | ETA 00:11:46\n",
      "Time 00:00:40 | Step 282824 / 297000 | TPS 21.8856 | ETA 00:10:47\n",
      "Time 00:00:50 | Step 283039 / 297000 | TPS 21.4871 | ETA 00:10:49\n",
      "Time 00:01:00 | Step 283245 / 297000 | TPS 20.5686 | ETA 00:11:08\n",
      "Time 00:01:10 | Step 283462 / 297000 | TPS 21.6892 | ETA 00:10:24\n",
      "Time 00:01:20 | Step 283691 / 297000 | TPS 22.4902 | ETA 00:09:51\n",
      "Time 00:01:30 | Step 283901 / 297000 | TPS 20.9862 | ETA 00:10:24\n",
      "Time 00:01:40 | Step 284123 / 297000 | TPS 22.159 | ETA 00:09:41\n",
      "Time 00:01:50 | Step 284332 / 297000 | TPS 20.8934 | ETA 00:10:06\n",
      "Time 00:02:00 | Step 284544 / 297000 | TPS 21.16 | ETA 00:09:48\n",
      "Time 00:02:10 | Step 284758 / 297000 | TPS 21.069 | ETA 00:09:41\n",
      "Time 00:02:20 | Step 284982 / 297000 | TPS 21.896 | ETA 00:09:08\n",
      "Time 00:02:30 | Step 285198 / 297000 | TPS 21.54 | ETA 00:09:07\n",
      "Time 00:02:40 | Step 285401 / 297000 | TPS 20.2926 | ETA 00:09:31\n",
      "Time 00:02:50 | Step 285635 / 297000 | TPS 23.3604 | ETA 00:08:06\n",
      "Time 00:03:00 | Step 285861 / 297000 | TPS 22.5631 | ETA 00:08:13\n",
      "Time 00:03:10 | Step 286094 / 297000 | TPS 23.2726 | ETA 00:07:48\n",
      "Time 00:03:20 | Step 286315 / 297000 | TPS 22.0669 | ETA 00:08:04\n",
      "Time 00:03:30 | Step 286535 / 297000 | TPS 21.9578 | ETA 00:07:56\n",
      "Time 00:03:40 | Step 286763 / 297000 | TPS 22.7927 | ETA 00:07:29\n",
      "Time 00:03:50 | Step 286990 / 297000 | TPS 22.6291 | ETA 00:07:22\n",
      "Time 00:04:00 | Step 287218 / 297000 | TPS 22.7807 | ETA 00:07:09\n",
      "Time 00:04:10 | Step 287444 / 297000 | TPS 22.5693 | ETA 00:07:03\n",
      "Time 00:04:20 | Step 287674 / 297000 | TPS 22.952 | ETA 00:06:46\n",
      "Time 00:04:30 | Step 287895 / 297000 | TPS 22.0813 | ETA 00:06:52\n",
      "Time 00:04:40 | Step 288118 / 297000 | TPS 22.2656 | ETA 00:06:38\n",
      "Time 00:04:50 | Step 288342 / 297000 | TPS 22.3732 | ETA 00:06:26\n",
      "Time 00:05:00 | Step 288575 / 297000 | TPS 23.2962 | ETA 00:06:01\n",
      "Time 00:05:11 | Step 288802 / 297000 | TPS 22.6364 | ETA 00:06:02\n",
      "Time 00:05:21 | Step 289016 / 297000 | TPS 21.3858 | ETA 00:06:13\n",
      "Time 00:05:31 | Step 289223 / 297000 | TPS 20.333 | ETA 00:06:22\n",
      "Time 00:05:41 | Step 289437 / 297000 | TPS 21.3491 | ETA 00:05:54\n",
      "Time 00:05:51 | Step 289652 / 297000 | TPS 21.4894 | ETA 00:05:41\n",
      "Time 00:06:01 | Step 289867 / 297000 | TPS 21.0845 | ETA 00:05:38\n",
      "Time 00:06:11 | Step 290076 / 297000 | TPS 20.7525 | ETA 00:05:33\n",
      "Time 00:06:21 | Step 290289 / 297000 | TPS 21.2567 | ETA 00:05:15\n",
      "Time 00:06:31 | Step 290501 / 297000 | TPS 21.0556 | ETA 00:05:08\n",
      "Time 00:06:41 | Step 290721 / 297000 | TPS 21.9565 | ETA 00:04:45\n",
      "Time 00:06:51 | Step 290942 / 297000 | TPS 22.0613 | ETA 00:04:34\n",
      "Time 00:07:01 | Step 291157 / 297000 | TPS 21.4798 | ETA 00:04:32\n",
      "Time 00:07:11 | Step 291373 / 297000 | TPS 21.5404 | ETA 00:04:21\n",
      "Time 00:07:21 | Step 291593 / 297000 | TPS 21.9701 | ETA 00:04:06\n",
      "Time 00:07:31 | Step 291809 / 297000 | TPS 21.5282 | ETA 00:04:01\n",
      "Time 00:07:41 | Step 292022 / 297000 | TPS 21.228 | ETA 00:03:54\n",
      "Time 00:07:51 | Step 292240 / 297000 | TPS 21.2885 | ETA 00:03:43\n",
      "Time 00:08:02 | Step 292448 / 297000 | TPS 20.5658 | ETA 00:03:41\n",
      "Time 00:08:12 | Step 292665 / 297000 | TPS 21.6806 | ETA 00:03:19\n",
      "Time 00:08:22 | Step 292874 / 297000 | TPS 20.8727 | ETA 00:03:17\n",
      "Time 00:08:32 | Step 293090 / 297000 | TPS 21.1082 | ETA 00:03:05\n",
      "Time 00:08:42 | Step 293301 / 297000 | TPS 20.9837 | ETA 00:02:56\n",
      "Time 00:08:52 | Step 293520 / 297000 | TPS 21.8274 | ETA 00:02:39\n",
      "Time 00:09:02 | Step 293725 / 297000 | TPS 20.4659 | ETA 00:02:40\n",
      "Time 00:09:12 | Step 293936 / 297000 | TPS 21.0384 | ETA 00:02:25\n",
      "Time 00:09:22 | Step 294148 / 297000 | TPS 21.1985 | ETA 00:02:14\n",
      "Time 00:09:32 | Step 294360 / 297000 | TPS 21.1927 | ETA 00:02:04\n",
      "Time 00:09:42 | Step 294568 / 297000 | TPS 20.7725 | ETA 00:01:57\n",
      "Time 00:09:52 | Step 294777 / 297000 | TPS 20.825 | ETA 00:01:46\n",
      "Time 00:10:02 | Step 294989 / 297000 | TPS 21.1711 | ETA 00:01:34\n",
      "Time 00:10:12 | Step 295213 / 297000 | TPS 22.3836 | ETA 00:01:19\n",
      "Time 00:10:22 | Step 295436 / 297000 | TPS 22.2766 | ETA 00:01:10\n",
      "Time 00:10:32 | Step 295647 / 297000 | TPS 21.0507 | ETA 00:01:04\n",
      "Time 00:10:42 | Step 295863 / 297000 | TPS 21.5699 | ETA 00:00:52\n",
      "Time 00:10:52 | Step 296077 / 297000 | TPS 21.369 | ETA 00:00:43\n",
      "Time 00:11:02 | Step 296292 / 297000 | TPS 21.2559 | ETA 00:00:33\n",
      "Time 00:11:13 | Step 296501 / 297000 | TPS 20.1455 | ETA 00:00:24\n",
      "Time 00:11:23 | Step 296712 / 297000 | TPS 21.0874 | ETA 00:00:13\n",
      "Time 00:11:33 | Step 296921 / 297000 | TPS 20.4806 | ETA 00:00:03\n",
      "Time 00:11:36 | Step 297000 / 297000 | TPS 21.664 | ETA 00:00:00\n",
      "Average TPS: 21.5228\n",
      "---------\n",
      "-- Neighborlist stats:\n",
      "641 normal updates / 151 forced updates / 0 dangerous updates\n",
      "n_neigh_min: 0 / n_neigh_max: 799 / n_neigh_avg: 384.82\n",
      "shortest rebuild period: 14\n",
      "notice(2): Total amount of managed memory allocated through Global[Array,Vector]: 0B\n",
      "notice(2): Actual allocation sizes may be larger by up to the OS page size due to alignment.\n",
      "notice(2): List of memory allocations and last 3 functions called at time of (re-)allocation\n",
      "** run complete **\n"
     ]
    }
   ],
   "source": [
    "#-----Run the simulation.\n",
    "\n",
    "hoomd.run(steps_ramp)"
   ]
  },
  {
   "cell_type": "code",
   "execution_count": 6,
   "metadata": {},
   "outputs": [
    {
     "data": {
      "text/plain": [
       "OrderedDict([('box', <hoomd.data.boxdim at 0x7f7194097cc0>),\n",
       "             ('particles', <hoomd.data.particle_data at 0x7f7193fdf828>),\n",
       "             ('number_density', 0.5273114346310568),\n",
       "             ('bonds', <hoomd.data.bond_data at 0x7f7193fdf8d0>),\n",
       "             ('angles', <hoomd.data.angle_data at 0x7f7193fdf940>),\n",
       "             ('dihedrals', <hoomd.data.dihedral_data at 0x7f7193fdf9b0>),\n",
       "             ('impropers', <hoomd.data.dihedral_data at 0x7f7193fdfa20>),\n",
       "             ('constraints', <hoomd.data.constraint_data at 0x7f7193fdfa90>),\n",
       "             ('pairs', <hoomd.data.bond_data at 0x7f7193fdfb00>),\n",
       "             ('timestep', 297000)])"
      ]
     },
     "execution_count": 6,
     "metadata": {},
     "output_type": "execute_result"
    }
   ],
   "source": [
    "#-----Get density.\n",
    "\n",
    "system.get_metadata()"
   ]
  },
  {
   "cell_type": "code",
   "execution_count": 7,
   "metadata": {},
   "outputs": [
    {
     "data": {
      "text/plain": [
       "17086.67669288077"
      ]
     },
     "execution_count": 7,
     "metadata": {},
     "output_type": "execute_result"
    }
   ],
   "source": [
    "#-----Get volume.\n",
    "\n",
    "system.box.get_volume()"
   ]
  }
 ],
 "metadata": {
  "kernelspec": {
   "display_name": "Python 3",
   "language": "python",
   "name": "python3"
  },
  "language_info": {
   "codemirror_mode": {
    "name": "ipython",
    "version": 3
   },
   "file_extension": ".py",
   "mimetype": "text/x-python",
   "name": "python",
   "nbconvert_exporter": "python",
   "pygments_lexer": "ipython3",
   "version": "3.7.3"
  }
 },
 "nbformat": 4,
 "nbformat_minor": 4
}
