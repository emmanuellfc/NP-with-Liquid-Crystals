{
 "cells": [
  {
   "cell_type": "markdown",
   "metadata": {},
   "source": [
    "# Mesogens with NP | Pressure Ramps"
   ]
  },
  {
   "cell_type": "markdown",
   "metadata": {},
   "source": [
    "## Pressure: 1.7 -> 1.9"
   ]
  },
  {
   "cell_type": "markdown",
   "metadata": {},
   "source": [
    "### Date: 12/12/19 | System P = 3.3, Expected value of $T_c$ : 9.91"
   ]
  },
  {
   "cell_type": "code",
   "execution_count": 1,
   "metadata": {},
   "outputs": [],
   "source": [
    "#-----Importa los paquetes esenciales para correr la simulación.\n",
    "\n",
    "from __future__ import division\n",
    "import hoomd\n",
    "import hoomd.md"
   ]
  },
  {
   "cell_type": "code",
   "execution_count": 2,
   "metadata": {},
   "outputs": [],
   "source": [
    "#-----Define important variables\n",
    "\n",
    "p_prev = 1.7;\n",
    "p_new = 1.9;\n",
    "temp = 9.0;\n",
    "steps_ramp = 2e4;\n",
    "run_time = steps_ramp;"
   ]
  },
  {
   "cell_type": "code",
   "execution_count": 3,
   "metadata": {},
   "outputs": [],
   "source": [
    "#-----Declare the file from wich we'll extract the configuration of the system.\n",
    "\n",
    "ramp_file = \"T_CM&NP_\" + str(temp) + \"_P_\" + str(p_prev) + \"_ramp.gsd\""
   ]
  },
  {
   "cell_type": "code",
   "execution_count": 4,
   "metadata": {},
   "outputs": [
    {
     "name": "stdout",
     "output_type": "stream",
     "text": [
      "HOOMD-blue 2.7.0 DOUBLE HPMC_MIXED TBB SSE SSE2 SSE3 \n",
      "Compiled: 10/02/2019\n",
      "Copyright (c) 2009-2019 The Regents of the University of Michigan.\n",
      "-----\n",
      "You are using HOOMD-blue. Please cite the following:\n",
      "* J A Anderson, C D Lorenz, and A Travesset. \"General purpose molecular dynamics\n",
      "  simulations fully implemented on graphics processing units\", Journal of\n",
      "  Computational Physics 227 (2008) 5342--5359\n",
      "* J Glaser, T D Nguyen, J A Anderson, P Liu, F Spiga, J A Millan, D C Morse, and\n",
      "  S C Glotzer. \"Strong scaling of general-purpose molecular dynamics simulations\n",
      "  on GPUs\", Computer Physics Communications 192 (2015) 97--107\n",
      "-----\n",
      "HOOMD-blue is running on the CPU\n",
      "notice(2): Group \"all\" created containing 1010 particles\n",
      "notice(2): constrain.rigid(): Creating 1000 rigid bodies (adding 8000 particles)\n",
      "-----\n",
      "You are using tree neighbor lists. Please cite the following:\n",
      "* M P Howard, J A Anderson, A Nikoubashman, S C Glotzer, and A Z\n",
      "  Panagiotopoulos. \"Efficient neighbor list calculation for molecular simulation\n",
      "  of colloidal systems using graphics processing units\", Computer Physics\n",
      "  Communications 203 (2016) 45--52\n",
      "-----\n",
      "notice(2): Group \"Nano_Particles\" created containing 10 particles\n",
      "notice(2): Group \"rigid_center\" created containing 1000 particles\n",
      "notice(2): Group \"NP_Mes\" created containing 1010 particles\n"
     ]
    }
   ],
   "source": [
    "#-----Start from a gsd file\n",
    "\n",
    "hoomd.context.initialize(\"--mode=cpu\", memory_traceback = True);\n",
    "\n",
    "#-----Select the trayectory of the center of mass of particles\n",
    "\n",
    "system = hoomd.init.read_gsd(ramp_file,frame = -1)\n",
    "\n",
    "#-----Define each rigid body type in the local coordinate system of the body.\n",
    "\n",
    "rigid = hoomd.md.constrain.rigid();\n",
    "rigid.set_param('M', \n",
    "                types=['A']*8,\n",
    "                positions=[(-4,0,0),(-3,0,0),(-2,0,0),(-1,0,0),\n",
    "                           (1,0,0),(2,0,0),(3,0,0),(4,0,0)]);\n",
    "\n",
    "#-----Instruct the rigid constraint to create the constituent particles\n",
    "\n",
    "rigid.create_bodies();\n",
    "\n",
    "#-----Define the potential energy\n",
    "\n",
    "nl = hoomd.md.nlist.tree()\n",
    "\n",
    "lj = hoomd.md.pair.lj(r_cut = 3.5, nlist=nl)\n",
    "lj.set_params(mode='shift')\n",
    "\n",
    "#-----Define interaction with species in the binary mixture\n",
    "\n",
    "lj.pair_coeff.set('NP','NP', epsilon = 1.0, sigma = 5.0);\n",
    "lj.pair_coeff.set('M' ,'M' , epsilon = 1.0, sigma = 1.0);\n",
    "lj.pair_coeff.set('A' ,'A' , epsilon = 1.0, sigma = 1.0);\n",
    "lj.pair_coeff.set('M' ,'A' , epsilon = 1.0, sigma = 1.0);\n",
    "lj.pair_coeff.set('NP','M' , epsilon = 1.0, sigma = 3.0);\n",
    "lj.pair_coeff.set('NP','A' , epsilon = 1.0, sigma = 3.0);\n",
    "\n",
    "#-----Select an standard integrator.\n",
    "\n",
    "hoomd.md.integrate.mode_standard(dt = 0.005);\n",
    "\n",
    "#------Define some groups and make their union.\n",
    "\n",
    "nanoparticles = hoomd.group.type(name = 'Nano_Particles', type = 'NP');\n",
    "mesogens = hoomd.group.rigid_center();\n",
    "groupNP_mes = hoomd.group.union(name = \"NP_Mes\", a = nanoparticles, b = mesogens);\n",
    "\n",
    "#-----Integrate using NPT\n",
    "\n",
    "pressure = hoomd.variant.linear_interp(points = [(0,p_prev), (steps_ramp, p_new)])\n",
    "npt = hoomd.md.integrate.npt(group = groupNP_mes, kT = temp, tau = 2.5, tauP = 2.5, P = pressure);\n",
    "npt.randomize_velocities(seed = 42)\n",
    "\n",
    "#-----Define los archivos en los que se guardará la información de la simulación. \n",
    "\n",
    "log_file = \"T_\" + str(temp) + \"_P_\" + str(p_new) + \"_ramp.log\"\n",
    "gsd_file = \"T_\" + str(temp) + \"_P_\" + str(p_new) + \"_ramp.gsd\" \n",
    "meso_gsd_file = \"T_CM&NP_\" + str(temp) + \"_P_\" + str(p_new) + \"_ramp.gsd\"\n",
    "\n",
    "log = hoomd.analyze.log(filename = log_file,\n",
    "                         quantities = ['num_particles',\n",
    "                                     'ndof',\n",
    "                                     'translational_ndof',\n",
    "                                     'rotational_ndof',\n",
    "                                     'potential_energy',\n",
    "                                     'kinetic_energy',\n",
    "                                     'translational_kinetic_energy',\n",
    "                                     'rotational_kinetic_energy',\n",
    "                                     'temperature',\n",
    "                                     'pressure',\n",
    "                                      'volume'],\n",
    "                         period = 1e3,\n",
    "                         overwrite = True);\n",
    "gsd = hoomd.dump.gsd(gsd_file,\n",
    "               period = 1e3,\n",
    "               group = hoomd.group.all(),\n",
    "               overwrite = True); \n",
    "meso_gsd = hoomd.dump.gsd(meso_gsd_file,\n",
    "               period = 1e3,\n",
    "               group = groupNP_mes,\n",
    "               overwrite = True);"
   ]
  },
  {
   "cell_type": "code",
   "execution_count": 5,
   "metadata": {
    "scrolled": true
   },
   "outputs": [
    {
     "name": "stdout",
     "output_type": "stream",
     "text": [
      "notice(2): -- Neighborlist exclusion statistics -- :\n",
      "notice(2): Particles with 0 exclusions             : 9010\n",
      "notice(2): Neighbors included by diameter          : no\n",
      "notice(2): Neighbors excluded when in the same body: yes\n",
      "** starting run **\n",
      "Time 00:00:10 | Step 178278 / 198000 | TPS 27.7767 | ETA 00:11:50\n",
      "Time 00:00:20 | Step 178563 / 198000 | TPS 28.4897 | ETA 00:11:22\n",
      "Time 00:00:30 | Step 178839 / 198000 | TPS 27.5989 | ETA 00:11:34\n",
      "Time 00:00:40 | Step 179125 / 198000 | TPS 28.5403 | ETA 00:11:01\n",
      "Time 00:00:50 | Step 179395 / 198000 | TPS 26.919 | ETA 00:11:31\n",
      "Time 00:01:00 | Step 179659 / 198000 | TPS 26.3535 | ETA 00:11:35\n",
      "Time 00:01:10 | Step 179915 / 198000 | TPS 25.406 | ETA 00:11:51\n",
      "Time 00:01:20 | Step 180161 / 198000 | TPS 24.487 | ETA 00:12:08\n",
      "Time 00:01:30 | Step 180401 / 198000 | TPS 23.9395 | ETA 00:12:15\n",
      "Time 00:01:40 | Step 180633 / 198000 | TPS 23.1451 | ETA 00:12:30\n",
      "Time 00:01:50 | Step 180883 / 198000 | TPS 24.939 | ETA 00:11:26\n",
      "Time 00:02:00 | Step 181143 / 198000 | TPS 25.8418 | ETA 00:10:52\n",
      "Time 00:02:10 | Step 181410 / 198000 | TPS 26.69 | ETA 00:10:21\n",
      "Time 00:02:20 | Step 181685 / 198000 | TPS 27.4081 | ETA 00:09:55\n",
      "Time 00:02:30 | Step 181966 / 198000 | TPS 28.0797 | ETA 00:09:31\n",
      "Time 00:02:40 | Step 182244 / 198000 | TPS 27.7709 | ETA 00:09:27\n",
      "Time 00:02:50 | Step 182522 / 198000 | TPS 27.7718 | ETA 00:09:17\n",
      "Time 00:03:00 | Step 182770 / 198000 | TPS 24.7764 | ETA 00:10:14\n",
      "Time 00:03:10 | Step 183047 / 198000 | TPS 27.6789 | ETA 00:09:00\n",
      "Time 00:03:20 | Step 183315 / 198000 | TPS 26.7797 | ETA 00:09:08\n",
      "Time 00:03:30 | Step 183580 / 198000 | TPS 26.4704 | ETA 00:09:04\n",
      "Time 00:03:40 | Step 183842 / 198000 | TPS 26.0695 | ETA 00:09:03\n",
      "Time 00:03:50 | Step 184099 / 198000 | TPS 25.6374 | ETA 00:09:02\n",
      "Time 00:04:00 | Step 184361 / 198000 | TPS 26.1845 | ETA 00:08:40\n",
      "Time 00:04:10 | Step 184627 / 198000 | TPS 26.4461 | ETA 00:08:25\n",
      "Time 00:04:20 | Step 184895 / 198000 | TPS 26.6969 | ETA 00:08:10\n",
      "Time 00:04:30 | Step 185169 / 198000 | TPS 27.3286 | ETA 00:07:49\n",
      "Time 00:04:40 | Step 185451 / 198000 | TPS 28.0356 | ETA 00:07:27\n",
      "Time 00:04:50 | Step 185727 / 198000 | TPS 27.557 | ETA 00:07:25\n",
      "Time 00:05:00 | Step 186015 / 198000 | TPS 28.7496 | ETA 00:06:56\n",
      "Time 00:05:10 | Step 186296 / 198000 | TPS 27.9399 | ETA 00:06:58\n",
      "Time 00:05:20 | Step 186575 / 198000 | TPS 27.8486 | ETA 00:06:50\n",
      "Time 00:05:30 | Step 186839 / 198000 | TPS 26.3325 | ETA 00:07:03\n",
      "Time 00:05:40 | Step 187105 / 198000 | TPS 26.5501 | ETA 00:06:50\n",
      "Time 00:05:50 | Step 187370 / 198000 | TPS 26.4933 | ETA 00:06:41\n",
      "Time 00:06:00 | Step 187633 / 198000 | TPS 26.1939 | ETA 00:06:35\n",
      "Time 00:06:10 | Step 187893 / 198000 | TPS 25.8439 | ETA 00:06:31\n",
      "Time 00:06:21 | Step 188155 / 198000 | TPS 26.0439 | ETA 00:06:18\n",
      "Time 00:06:31 | Step 188419 / 198000 | TPS 26.3753 | ETA 00:06:03\n",
      "Time 00:06:41 | Step 188691 / 198000 | TPS 27.085 | ETA 00:05:43\n",
      "Time 00:06:51 | Step 188968 / 198000 | TPS 27.6376 | ETA 00:05:26\n",
      "Time 00:07:01 | Step 189251 / 198000 | TPS 28.2559 | ETA 00:05:09\n",
      "Time 00:07:11 | Step 189541 / 198000 | TPS 28.9606 | ETA 00:04:52\n",
      "Time 00:07:21 | Step 189831 / 198000 | TPS 28.8371 | ETA 00:04:43\n",
      "Time 00:07:31 | Step 190111 / 198000 | TPS 27.9412 | ETA 00:04:42\n",
      "Time 00:07:41 | Step 190382 / 198000 | TPS 27.0831 | ETA 00:04:41\n",
      "Time 00:07:51 | Step 190649 / 198000 | TPS 26.5623 | ETA 00:04:36\n",
      "Time 00:08:01 | Step 190909 / 198000 | TPS 25.9104 | ETA 00:04:33\n",
      "Time 00:08:11 | Step 191167 / 198000 | TPS 25.7374 | ETA 00:04:25\n",
      "Time 00:08:21 | Step 191427 / 198000 | TPS 25.9207 | ETA 00:04:13\n",
      "Time 00:08:31 | Step 191689 / 198000 | TPS 26.1864 | ETA 00:04:01\n",
      "Time 00:08:41 | Step 191951 / 198000 | TPS 26.1476 | ETA 00:03:51\n",
      "Time 00:08:51 | Step 192220 / 198000 | TPS 26.8935 | ETA 00:03:34\n",
      "Time 00:09:01 | Step 192501 / 198000 | TPS 27.9513 | ETA 00:03:16\n",
      "Time 00:09:11 | Step 192787 / 198000 | TPS 28.4798 | ETA 00:03:03\n",
      "Time 00:09:21 | Step 193077 / 198000 | TPS 28.865 | ETA 00:02:50\n",
      "Time 00:09:31 | Step 193365 / 198000 | TPS 28.7062 | ETA 00:02:41\n",
      "Time 00:09:41 | Step 193647 / 198000 | TPS 28.1081 | ETA 00:02:34\n",
      "Time 00:09:51 | Step 193917 / 198000 | TPS 26.935 | ETA 00:02:31\n",
      "Time 00:10:01 | Step 194181 / 198000 | TPS 26.2734 | ETA 00:02:25\n",
      "Time 00:10:11 | Step 194441 / 198000 | TPS 25.9158 | ETA 00:02:17\n",
      "Time 00:10:21 | Step 194700 / 198000 | TPS 25.8757 | ETA 00:02:07\n",
      "Time 00:10:31 | Step 194955 / 198000 | TPS 25.4352 | ETA 00:01:59\n",
      "Time 00:10:41 | Step 195215 / 198000 | TPS 25.8852 | ETA 00:01:47\n",
      "Time 00:10:51 | Step 195479 / 198000 | TPS 26.2971 | ETA 00:01:35\n",
      "Time 00:11:01 | Step 195751 / 198000 | TPS 27.1018 | ETA 00:01:22\n",
      "Time 00:11:11 | Step 196029 / 198000 | TPS 27.7258 | ETA 00:01:11\n",
      "Time 00:11:21 | Step 196313 / 198000 | TPS 28.2532 | ETA 00:00:59\n",
      "Time 00:11:31 | Step 196601 / 198000 | TPS 28.7238 | ETA 00:00:48\n",
      "Time 00:11:41 | Step 196885 / 198000 | TPS 28.3926 | ETA 00:00:39\n",
      "Time 00:11:51 | Step 197163 / 198000 | TPS 27.7555 | ETA 00:00:30\n",
      "Time 00:12:02 | Step 197433 / 198000 | TPS 26.8985 | ETA 00:00:21\n",
      "Time 00:12:12 | Step 197695 / 198000 | TPS 26.1924 | ETA 00:00:11\n",
      "Time 00:12:22 | Step 197954 / 198000 | TPS 25.7915 | ETA 00:00:01\n",
      "Time 00:12:23 | Step 198000 / 198000 | TPS 26.0651 | ETA 00:00:00\n",
      "Average TPS: 26.8885\n",
      "---------\n",
      "-- Neighborlist stats:\n",
      "9850 normal updates / 201 forced updates / 0 dangerous updates\n",
      "n_neigh_min: 0 / n_neigh_max: 121 / n_neigh_avg: 52.4073\n",
      "shortest rebuild period: 1\n",
      "notice(2): Total amount of managed memory allocated through Global[Array,Vector]: 0B\n",
      "notice(2): Actual allocation sizes may be larger by up to the OS page size due to alignment.\n",
      "notice(2): List of memory allocations and last 3 functions called at time of (re-)allocation\n",
      "** run complete **\n"
     ]
    }
   ],
   "source": [
    "#-----Run the simulation.\n",
    "\n",
    "hoomd.run(run_time)"
   ]
  },
  {
   "cell_type": "code",
   "execution_count": 6,
   "metadata": {},
   "outputs": [],
   "source": [
    "#-----Get density.\n",
    "\n",
    "meta = system.get_metadata()"
   ]
  },
  {
   "cell_type": "code",
   "execution_count": 7,
   "metadata": {},
   "outputs": [],
   "source": [
    "#-----Get volume.\n",
    "\n",
    "volume = system.box.get_volume()"
   ]
  }
 ],
 "metadata": {
  "kernelspec": {
   "display_name": "Python 3",
   "language": "python",
   "name": "python3"
  },
  "language_info": {
   "codemirror_mode": {
    "name": "ipython",
    "version": 3
   },
   "file_extension": ".py",
   "mimetype": "text/x-python",
   "name": "python",
   "nbconvert_exporter": "python",
   "pygments_lexer": "ipython3",
   "version": "3.7.3"
  }
 },
 "nbformat": 4,
 "nbformat_minor": 4
}
