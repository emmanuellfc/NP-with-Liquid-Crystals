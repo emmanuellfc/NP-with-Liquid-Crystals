{
 "cells": [
  {
   "cell_type": "markdown",
   "metadata": {},
   "source": [
    "# Mesogens with NP | Pressure Ramps"
   ]
  },
  {
   "cell_type": "markdown",
   "metadata": {},
   "source": [
    "## Pressure: 1.1 -> 1.3"
   ]
  },
  {
   "cell_type": "markdown",
   "metadata": {},
   "source": [
    "### Date: 12/11/19 | System P = 3.3, Expected value of $T_c$ : 9.91"
   ]
  },
  {
   "cell_type": "code",
   "execution_count": 6,
   "metadata": {},
   "outputs": [],
   "source": [
    "#-----Importa los paquetes esenciales para correr la simulación.\n",
    "\n",
    "from __future__ import division\n",
    "import hoomd\n",
    "import hoomd.md"
   ]
  },
  {
   "cell_type": "code",
   "execution_count": 7,
   "metadata": {},
   "outputs": [],
   "source": [
    "#-----Define important variables\n",
    "\n",
    "p_prev = 1.1;\n",
    "p_new = 1.3;\n",
    "temp = 9.0;\n",
    "steps_ramp = 2e4;\n",
    "run_time = steps_ramp;"
   ]
  },
  {
   "cell_type": "code",
   "execution_count": 8,
   "metadata": {},
   "outputs": [],
   "source": [
    "#-----Declare the file from wich we'll extract the configuration of the system.\n",
    "\n",
    "ramp_file = \"T_CM&NP_\" + str(temp) + \"_P_\" + str(p_prev) + \"_ramp.gsd\""
   ]
  },
  {
   "cell_type": "code",
   "execution_count": 9,
   "metadata": {},
   "outputs": [
    {
     "name": "stdout",
     "output_type": "stream",
     "text": [
      "notice(2): Group \"all\" created containing 1010 particles\n",
      "notice(2): constrain.rigid(): Creating 1000 rigid bodies (adding 8000 particles)\n",
      "-----\n",
      "You are using tree neighbor lists. Please cite the following:\n",
      "* M P Howard, J A Anderson, A Nikoubashman, S C Glotzer, and A Z\n",
      "  Panagiotopoulos. \"Efficient neighbor list calculation for molecular simulation\n",
      "  of colloidal systems using graphics processing units\", Computer Physics\n",
      "  Communications 203 (2016) 45--52\n",
      "-----\n",
      "notice(2): Group \"Nano_Particles\" created containing 10 particles\n",
      "notice(2): Group \"rigid_center\" created containing 1000 particles\n",
      "notice(2): Group \"NP_Mes\" created containing 1010 particles\n"
     ]
    }
   ],
   "source": [
    "#-----Start from a gsd file\n",
    "\n",
    "hoomd.context.initialize(\"--mode=cpu\", memory_traceback = True);\n",
    "\n",
    "#-----Select the trayectory of the center of mass of particles\n",
    "\n",
    "system = hoomd.init.read_gsd(ramp_file,frame = -1)\n",
    "\n",
    "#-----Define each rigid body type in the local coordinate system of the body.\n",
    "\n",
    "rigid = hoomd.md.constrain.rigid();\n",
    "rigid.set_param('M', \n",
    "                types=['A']*8,\n",
    "                positions=[(-4,0,0),(-3,0,0),(-2,0,0),(-1,0,0),\n",
    "                           (1,0,0),(2,0,0),(3,0,0),(4,0,0)]);\n",
    "\n",
    "#-----Instruct the rigid constraint to create the constituent particles\n",
    "\n",
    "rigid.create_bodies();\n",
    "\n",
    "#-----Define the potential energy\n",
    "\n",
    "nl = hoomd.md.nlist.tree()\n",
    "\n",
    "lj = hoomd.md.pair.lj(r_cut = 3.5, nlist=nl)\n",
    "lj.set_params(mode='shift')\n",
    "\n",
    "#-----Define interaction with species in the binary mixture\n",
    "\n",
    "lj.pair_coeff.set('NP','NP', epsilon = 1.0, sigma = 5.0);\n",
    "lj.pair_coeff.set('M' ,'M' , epsilon = 1.0, sigma = 1.0);\n",
    "lj.pair_coeff.set('A' ,'A' , epsilon = 1.0, sigma = 1.0);\n",
    "lj.pair_coeff.set('M' ,'A' , epsilon = 1.0, sigma = 1.0);\n",
    "lj.pair_coeff.set('NP','M' , epsilon = 1.0, sigma = 3.0);\n",
    "lj.pair_coeff.set('NP','A' , epsilon = 1.0, sigma = 3.0);\n",
    "\n",
    "#-----Select an standard integrator.\n",
    "\n",
    "hoomd.md.integrate.mode_standard(dt = 0.005);\n",
    "\n",
    "#------Define some groups and make their union.\n",
    "\n",
    "nanoparticles = hoomd.group.type(name = 'Nano_Particles', type = 'NP');\n",
    "mesogens = hoomd.group.rigid_center();\n",
    "groupNP_mes = hoomd.group.union(name = \"NP_Mes\", a = nanoparticles, b = mesogens);\n",
    "\n",
    "#-----Integrate using NPT\n",
    "\n",
    "pressure = hoomd.variant.linear_interp(points = [(0,p_prev), (steps_ramp, p_new)])\n",
    "npt = hoomd.md.integrate.npt(group = groupNP_mes, kT = temp, tau = 2.0, tauP = 2.0, P = pressure);\n",
    "npt.randomize_velocities(seed = 42)\n",
    "\n",
    "#-----Define los archivos en los que se guardará la información de la simulación. \n",
    "\n",
    "log_file = \"T_\" + str(temp) + \"_P_\" + str(p_new) + \"_ramp.log\"\n",
    "gsd_file = \"T_\" + str(temp) + \"_P_\" + str(p_new) + \"_ramp.gsd\" \n",
    "meso_gsd_file = \"T_CM&NP_\" + str(temp) + \"_P_\" + str(p_new) + \"_ramp.gsd\"\n",
    "\n",
    "log = hoomd.analyze.log(filename = log_file,\n",
    "                         quantities = ['num_particles',\n",
    "                                     'ndof',\n",
    "                                     'translational_ndof',\n",
    "                                     'rotational_ndof',\n",
    "                                     'potential_energy',\n",
    "                                     'kinetic_energy',\n",
    "                                     'translational_kinetic_energy',\n",
    "                                     'rotational_kinetic_energy',\n",
    "                                     'temperature',\n",
    "                                     'pressure',\n",
    "                                      'volume'],\n",
    "                         period = 1e3,\n",
    "                         overwrite = True);\n",
    "gsd = hoomd.dump.gsd(gsd_file,\n",
    "               period = 1e3,\n",
    "               group = hoomd.group.all(),\n",
    "               overwrite = True); \n",
    "meso_gsd = hoomd.dump.gsd(meso_gsd_file,\n",
    "               period = 1e3,\n",
    "               group = groupNP_mes,\n",
    "               overwrite = True);"
   ]
  },
  {
   "cell_type": "code",
   "execution_count": 10,
   "metadata": {
    "scrolled": true
   },
   "outputs": [
    {
     "name": "stdout",
     "output_type": "stream",
     "text": [
      "notice(2): -- Neighborlist exclusion statistics -- :\n",
      "notice(2): Particles with 0 exclusions             : 9010\n",
      "notice(2): Neighbors included by diameter          : no\n",
      "notice(2): Neighbors excluded when in the same body: yes\n",
      "** starting run **\n",
      "Time 00:00:10 | Step 121285 / 141000 | TPS 28.3624 | ETA 00:11:35\n",
      "Time 00:00:20 | Step 121575 / 141000 | TPS 28.9472 | ETA 00:11:11\n",
      "Time 00:00:30 | Step 121831 / 141000 | TPS 25.5328 | ETA 00:12:30\n",
      "Time 00:00:40 | Step 122113 / 141000 | TPS 28.0958 | ETA 00:11:12\n",
      "Time 00:00:50 | Step 122377 / 141000 | TPS 26.3007 | ETA 00:11:48\n",
      "Time 00:01:00 | Step 122647 / 141000 | TPS 26.9595 | ETA 00:11:20\n",
      "Time 00:01:10 | Step 122933 / 141000 | TPS 28.5089 | ETA 00:10:33\n",
      "Time 00:01:20 | Step 123195 / 141000 | TPS 26.1676 | ETA 00:11:20\n",
      "Time 00:01:30 | Step 123453 / 141000 | TPS 25.6903 | ETA 00:11:23\n",
      "Time 00:01:40 | Step 123731 / 141000 | TPS 27.7461 | ETA 00:10:22\n",
      "Time 00:01:50 | Step 123999 / 141000 | TPS 26.7889 | ETA 00:10:34\n",
      "Time 00:02:00 | Step 124286 / 141000 | TPS 28.6733 | ETA 00:09:42\n",
      "Time 00:02:10 | Step 124582 / 141000 | TPS 29.5776 | ETA 00:09:15\n",
      "Time 00:02:20 | Step 124875 / 141000 | TPS 29.1961 | ETA 00:09:12\n",
      "Time 00:02:30 | Step 125170 / 141000 | TPS 29.4889 | ETA 00:08:56\n",
      "Time 00:02:40 | Step 125440 / 141000 | TPS 26.9842 | ETA 00:09:36\n",
      "Time 00:02:50 | Step 125725 / 141000 | TPS 28.4641 | ETA 00:08:56\n",
      "Time 00:03:00 | Step 126029 / 141000 | TPS 30.2769 | ETA 00:08:14\n",
      "Time 00:03:10 | Step 126331 / 141000 | TPS 30.1506 | ETA 00:08:06\n",
      "Time 00:03:20 | Step 126633 / 141000 | TPS 30.0647 | ETA 00:07:57\n",
      "Time 00:03:30 | Step 126937 / 141000 | TPS 30.2785 | ETA 00:07:44\n",
      "Time 00:03:40 | Step 127235 / 141000 | TPS 29.6459 | ETA 00:07:44\n",
      "Time 00:03:50 | Step 127539 / 141000 | TPS 30.3985 | ETA 00:07:22\n",
      "Time 00:04:00 | Step 127843 / 141000 | TPS 30.3878 | ETA 00:07:12\n",
      "Time 00:04:10 | Step 128145 / 141000 | TPS 30.0359 | ETA 00:07:07\n",
      "Time 00:04:20 | Step 128445 / 141000 | TPS 29.9108 | ETA 00:06:59\n",
      "Time 00:04:30 | Step 128741 / 141000 | TPS 29.5475 | ETA 00:06:54\n",
      "Time 00:04:40 | Step 129035 / 141000 | TPS 29.3333 | ETA 00:06:47\n",
      "Time 00:04:50 | Step 129331 / 141000 | TPS 29.508 | ETA 00:06:35\n",
      "Time 00:05:00 | Step 129631 / 141000 | TPS 29.924 | ETA 00:06:19\n",
      "Time 00:05:10 | Step 129931 / 141000 | TPS 29.9123 | ETA 00:06:10\n",
      "Time 00:05:20 | Step 130233 / 141000 | TPS 30.0609 | ETA 00:05:58\n",
      "Time 00:05:30 | Step 130533 / 141000 | TPS 29.9819 | ETA 00:05:49\n",
      "Time 00:05:40 | Step 130831 / 141000 | TPS 29.6607 | ETA 00:05:42\n",
      "Time 00:05:50 | Step 131126 / 141000 | TPS 29.4779 | ETA 00:05:34\n",
      "Time 00:06:00 | Step 131416 / 141000 | TPS 28.9929 | ETA 00:05:30\n",
      "Time 00:06:10 | Step 131687 / 141000 | TPS 27.071 | ETA 00:05:44\n",
      "Time 00:06:20 | Step 131923 / 141000 | TPS 23.4876 | ETA 00:06:26\n",
      "Time 00:06:30 | Step 132180 / 141000 | TPS 25.6996 | ETA 00:05:43\n",
      "Time 00:06:41 | Step 132437 / 141000 | TPS 25.5701 | ETA 00:05:34\n",
      "Time 00:06:51 | Step 132678 / 141000 | TPS 24.0196 | ETA 00:05:46\n",
      "Time 00:07:01 | Step 132927 / 141000 | TPS 24.8389 | ETA 00:05:25\n",
      "Time 00:07:11 | Step 133185 / 141000 | TPS 25.787 | ETA 00:05:03\n",
      "Time 00:07:21 | Step 133463 / 141000 | TPS 27.6659 | ETA 00:04:32\n",
      "Time 00:07:31 | Step 133738 / 141000 | TPS 27.4888 | ETA 00:04:24\n",
      "Time 00:07:41 | Step 133989 / 141000 | TPS 25.0919 | ETA 00:04:39\n",
      "Time 00:07:51 | Step 134255 / 141000 | TPS 26.5185 | ETA 00:04:14\n",
      "Time 00:08:01 | Step 134497 / 141000 | TPS 24.175 | ETA 00:04:28\n",
      "Time 00:08:11 | Step 134759 / 141000 | TPS 26.101 | ETA 00:03:59\n",
      "Time 00:08:21 | Step 135020 / 141000 | TPS 26.086 | ETA 00:03:49\n",
      "Time 00:08:31 | Step 135283 / 141000 | TPS 26.1771 | ETA 00:03:38\n",
      "Time 00:08:41 | Step 135531 / 141000 | TPS 24.7236 | ETA 00:03:41\n",
      "Time 00:08:51 | Step 135783 / 141000 | TPS 25.1991 | ETA 00:03:27\n",
      "Time 00:09:01 | Step 136009 / 141000 | TPS 22.5482 | ETA 00:03:41\n",
      "Time 00:09:11 | Step 136269 / 141000 | TPS 25.9522 | ETA 00:03:02\n",
      "Time 00:09:21 | Step 136501 / 141000 | TPS 23.1518 | ETA 00:03:14\n",
      "Time 00:09:31 | Step 136701 / 141000 | TPS 19.9184 | ETA 00:03:35\n",
      "Time 00:09:41 | Step 136946 / 141000 | TPS 24.4976 | ETA 00:02:45\n",
      "Time 00:09:51 | Step 137199 / 141000 | TPS 25.1366 | ETA 00:02:31\n",
      "Time 00:10:01 | Step 137449 / 141000 | TPS 24.9653 | ETA 00:02:22\n",
      "Time 00:10:11 | Step 137713 / 141000 | TPS 26.3302 | ETA 00:02:04\n",
      "Time 00:10:21 | Step 137971 / 141000 | TPS 25.7319 | ETA 00:01:57\n",
      "Time 00:10:31 | Step 138243 / 141000 | TPS 27.0885 | ETA 00:01:41\n",
      "Time 00:10:41 | Step 138497 / 141000 | TPS 25.2464 | ETA 00:01:39\n",
      "Time 00:10:51 | Step 138755 / 141000 | TPS 25.6774 | ETA 00:01:27\n",
      "Time 00:11:01 | Step 139013 / 141000 | TPS 25.71 | ETA 00:01:17\n",
      "Time 00:11:11 | Step 139247 / 141000 | TPS 23.2984 | ETA 00:01:15\n",
      "Time 00:11:21 | Step 139487 / 141000 | TPS 23.9469 | ETA 00:01:03\n",
      "Time 00:11:31 | Step 139709 / 141000 | TPS 22.1991 | ETA 00:00:58\n",
      "Time 00:11:41 | Step 139945 / 141000 | TPS 23.5819 | ETA 00:00:44\n",
      "Time 00:11:51 | Step 140123 / 141000 | TPS 17.7316 | ETA 00:00:49\n",
      "Time 00:12:01 | Step 140373 / 141000 | TPS 24.9807 | ETA 00:00:25\n",
      "Time 00:12:11 | Step 140613 / 141000 | TPS 23.9931 | ETA 00:00:16\n",
      "Time 00:12:21 | Step 140851 / 141000 | TPS 23.7632 | ETA 00:00:06\n",
      "Time 00:12:27 | Step 141000 / 141000 | TPS 25.9818 | ETA 00:00:00\n",
      "Average TPS: 26.7532\n",
      "---------\n",
      "-- Neighborlist stats:\n",
      "9815 normal updates / 201 forced updates / 0 dangerous updates\n",
      "n_neigh_min: 0 / n_neigh_max: 101 / n_neigh_avg: 37.7114\n",
      "shortest rebuild period: 1\n",
      "notice(2): Total amount of managed memory allocated through Global[Array,Vector]: 0B\n",
      "notice(2): Actual allocation sizes may be larger by up to the OS page size due to alignment.\n",
      "notice(2): List of memory allocations and last 3 functions called at time of (re-)allocation\n",
      "** run complete **\n"
     ]
    }
   ],
   "source": [
    "#-----Run the simulation.\n",
    "\n",
    "hoomd.run(run_time)"
   ]
  },
  {
   "cell_type": "code",
   "execution_count": 11,
   "metadata": {},
   "outputs": [],
   "source": [
    "#-----Get density.\n",
    "\n",
    "meta = system.get_metadata()"
   ]
  },
  {
   "cell_type": "code",
   "execution_count": 12,
   "metadata": {},
   "outputs": [],
   "source": [
    "#-----Get volume.\n",
    "\n",
    "volume = system.box.get_volume()"
   ]
  }
 ],
 "metadata": {
  "kernelspec": {
   "display_name": "Python 3",
   "language": "python",
   "name": "python3"
  },
  "language_info": {
   "codemirror_mode": {
    "name": "ipython",
    "version": 3
   },
   "file_extension": ".py",
   "mimetype": "text/x-python",
   "name": "python",
   "nbconvert_exporter": "python",
   "pygments_lexer": "ipython3",
   "version": "3.7.3"
  }
 },
 "nbformat": 4,
 "nbformat_minor": 4
}
