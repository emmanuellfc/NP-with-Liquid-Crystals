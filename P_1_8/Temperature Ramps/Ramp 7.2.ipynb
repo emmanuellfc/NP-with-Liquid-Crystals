{
 "cells": [
  {
   "cell_type": "markdown",
   "metadata": {},
   "source": [
    "# Mesogens with NP | Temperature Ramps"
   ]
  },
  {
   "cell_type": "markdown",
   "metadata": {},
   "source": [
    "## Temperature: 7.0 -> 7.2 | CPU Run"
   ]
  },
  {
   "cell_type": "markdown",
   "metadata": {},
   "source": [
    "### Date: 12/03/2019 | System P = 1.8, Expected value of $T_c$ : 7.09 "
   ]
  },
  {
   "cell_type": "code",
   "execution_count": 2,
   "metadata": {},
   "outputs": [],
   "source": [
    "#-----Import essential packages.\n",
    "\n",
    "from __future__ import division\n",
    "import hoomd\n",
    "import hoomd.md"
   ]
  },
  {
   "cell_type": "code",
   "execution_count": 3,
   "metadata": {},
   "outputs": [],
   "source": [
    "#-----Define important variables.\n",
    "\n",
    "p_max = 1.8;\n",
    "t_0   = 7.0; \n",
    "t_1   = 7.2;\n",
    "steps_ramp = 5e4;"
   ]
  },
  {
   "cell_type": "code",
   "execution_count": 4,
   "metadata": {},
   "outputs": [],
   "source": [
    "#-----Declare the file from wich we'll extract the configuration of the system.\n",
    "\n",
    "ramp_file = \"T_CM&NP_\" + str(t_0) + \"_P_\" + str(p_max) + \"_ramp.gsd\""
   ]
  },
  {
   "cell_type": "code",
   "execution_count": 5,
   "metadata": {},
   "outputs": [
    {
     "name": "stdout",
     "output_type": "stream",
     "text": [
      "HOOMD-blue 2.7.0 DOUBLE HPMC_MIXED TBB SSE SSE2 SSE3 \n",
      "Compiled: 10/02/2019\n",
      "Copyright (c) 2009-2019 The Regents of the University of Michigan.\n",
      "-----\n",
      "You are using HOOMD-blue. Please cite the following:\n",
      "* J A Anderson, C D Lorenz, and A Travesset. \"General purpose molecular dynamics\n",
      "  simulations fully implemented on graphics processing units\", Journal of\n",
      "  Computational Physics 227 (2008) 5342--5359\n",
      "* J Glaser, T D Nguyen, J A Anderson, P Liu, F Spiga, J A Millan, D C Morse, and\n",
      "  S C Glotzer. \"Strong scaling of general-purpose molecular dynamics simulations\n",
      "  on GPUs\", Computer Physics Communications 192 (2015) 97--107\n",
      "-----\n",
      "HOOMD-blue is running on the CPU\n",
      "notice(2): Group \"all\" created containing 1004 particles\n",
      "notice(2): constrain.rigid(): Creating 1000 rigid bodies (adding 8000 particles)\n",
      "-----\n",
      "You are using tree neighbor lists. Please cite the following:\n",
      "* M P Howard, J A Anderson, A Nikoubashman, S C Glotzer, and A Z\n",
      "  Panagiotopoulos. \"Efficient neighbor list calculation for molecular simulation\n",
      "  of colloidal systems using graphics processing units\", Computer Physics\n",
      "  Communications 203 (2016) 45--52\n",
      "-----\n",
      "notice(2): Group \"Nano_Particles\" created containing 4 particles\n",
      "notice(2): Group \"rigid_center\" created containing 1000 particles\n",
      "notice(2): Group \"NP_Mes\" created containing 1004 particles\n"
     ]
    }
   ],
   "source": [
    "#-----Declare a simulation context.\n",
    "\n",
    "hoomd.context.initialize(\"--mode=cpu\", memory_traceback = True);\n",
    "\n",
    "#-----Initialize from a .gsd file.\n",
    "\n",
    "system = hoomd.init.read_gsd(ramp_file, frame = -1);\n",
    "\n",
    "#-----Define each mesogen in the local frame of reference of each rigid body.\n",
    "\n",
    "rigid = hoomd.md.constrain.rigid();\n",
    "rigid.set_param('M', \n",
    "                types = ['A']*8,\n",
    "                positions = [(-4,0,0),(-3,0,0),(-2,0,0),(-1,0,0),\n",
    "                           (1,0,0),(2,0,0),(3,0,0),(4,0,0)]);\n",
    "\n",
    "#-----Create the mesogens.\n",
    "\n",
    "rigid.create_bodies();\n",
    "\n",
    "#-----Define the potential energy.\n",
    "\n",
    "nl = hoomd.md.nlist.tree();\n",
    "\n",
    "lj = hoomd.md.pair.lj(r_cut = 3.5, nlist = nl)\n",
    "lj.set_params(mode = 'shift')\n",
    "\n",
    "#-----Declare interactions.\n",
    "\n",
    "lj.pair_coeff.set('NP','NP', epsilon = 1.0, sigma = 5.0);\n",
    "lj.pair_coeff.set('M' ,'M' , epsilon = 1.0, sigma = 1.0);\n",
    "lj.pair_coeff.set('A' ,'A' , epsilon = 1.0, sigma = 1.0);\n",
    "lj.pair_coeff.set('M' ,'A' , epsilon = 1.0, sigma = 1.0);\n",
    "lj.pair_coeff.set('NP','M' , epsilon = 1.0, sigma = 3.0);\n",
    "lj.pair_coeff.set('NP','A' , epsilon = 1.0, sigma = 3.0);\n",
    "\n",
    "#-----Select an standard integrator.\n",
    "\n",
    "hoomd.md.integrate.mode_standard(dt = 0.005);\n",
    "\n",
    "#------Define some groups and make their union.\n",
    "\n",
    "nanoparticles = hoomd.group.type(name = 'Nano_Particles', type = 'NP');\n",
    "mesogens = hoomd.group.rigid_center();\n",
    "groupNP_mes = hoomd.group.union(name = \"NP_Mes\", a = nanoparticles, b = mesogens);\n",
    "\n",
    "#----Integrate using an NPT integrator.\n",
    "\n",
    "temp = hoomd.variant.linear_interp(points = [(0,t_0), (steps_ramp, t_1)]);\n",
    "\n",
    "npt = hoomd.md.integrate.npt(group = groupNP_mes, kT = temp, tau = 4.0, tauP = 4.0, P = p_max);\n",
    "npt.randomize_velocities(seed=42)\n",
    "\n",
    "#-----Save .log y .gsd data.\n",
    "\n",
    "log_file = \"T_\" + str(t_1) + \"_P_\" + str(p_max) + \"_ramp.log\"\n",
    "gsd_file = \"T_\" + str(t_1) + \"_P_\" + str(p_max) + \"_ramp.gsd\" \n",
    "meso_gsd_file = \"T_CM&NP_\" + str(t_1) + \"_P_\" + str(p_max) + \"_ramp.gsd\"\n",
    "\n",
    "log = hoomd.analyze.log(filename = log_file,\n",
    "                         quantities = ['num_particles',\n",
    "                                     'ndof',\n",
    "                                     'translational_ndof',\n",
    "                                     'rotational_ndof',\n",
    "                                     'potential_energy',\n",
    "                                     'kinetic_energy',\n",
    "                                     'translational_kinetic_energy',\n",
    "                                     'rotational_kinetic_energy',\n",
    "                                     'temperature',\n",
    "                                     'pressure',\n",
    "                                      'volume'],\n",
    "                         period = 1e3,\n",
    "                         overwrite = True);\n",
    "gsd = hoomd.dump.gsd(gsd_file,\n",
    "               period = 1e3,\n",
    "               group = hoomd.group.all(),\n",
    "               overwrite = True); \n",
    "meso_gsd = hoomd.dump.gsd(meso_gsd_file,\n",
    "               period = 1e3,\n",
    "               group = groupNP_mes,\n",
    "               overwrite = True); "
   ]
  },
  {
   "cell_type": "code",
   "execution_count": null,
   "metadata": {
    "scrolled": true
   },
   "outputs": [
    {
     "name": "stdout",
     "output_type": "stream",
     "text": [
      "notice(2): -- Neighborlist exclusion statistics -- :\n",
      "notice(2): Particles with 0 exclusions             : 9004\n",
      "notice(2): Neighbors included by diameter          : no\n",
      "notice(2): Neighbors excluded when in the same body: yes\n",
      "** starting run **\n",
      "Time 00:00:10 | Step 688165 / 738000 | TPS 16.339 | ETA 00:50:50\n",
      "Time 00:00:20 | Step 688372 / 738000 | TPS 20.6571 | ETA 00:40:02\n",
      "Time 00:00:30 | Step 688603 / 738000 | TPS 22.9615 | ETA 00:35:51\n",
      "Time 00:00:40 | Step 688789 / 738000 | TPS 18.5801 | ETA 00:44:08\n",
      "Time 00:00:50 | Step 688916 / 738000 | TPS 12.6972 | ETA 01:04:25\n",
      "Time 00:01:00 | Step 689048 / 738000 | TPS 13.1531 | ETA 01:02:01\n",
      "Time 00:01:10 | Step 689205 / 738000 | TPS 15.6405 | ETA 00:51:59\n",
      "Time 00:01:20 | Step 689361 / 738000 | TPS 15.5548 | ETA 00:52:06\n",
      "Time 00:01:30 | Step 689547 / 738000 | TPS 18.4669 | ETA 00:43:43\n",
      "Time 00:01:40 | Step 689722 / 738000 | TPS 17.4711 | ETA 00:46:03\n",
      "Time 00:01:50 | Step 689871 / 738000 | TPS 14.8865 | ETA 00:53:53\n",
      "Time 00:02:00 | Step 690082 / 738000 | TPS 20.9384 | ETA 00:38:08\n",
      "Time 00:02:10 | Step 690252 / 738000 | TPS 16.9729 | ETA 00:46:53\n",
      "Time 00:02:20 | Step 690449 / 738000 | TPS 19.6691 | ETA 00:40:17\n",
      "Time 00:02:30 | Step 690657 / 738000 | TPS 20.7709 | ETA 00:37:59\n",
      "Time 00:02:40 | Step 690860 / 738000 | TPS 20.2799 | ETA 00:38:44\n",
      "Time 00:02:50 | Step 691074 / 738000 | TPS 21.3322 | ETA 00:36:39\n",
      "Time 00:03:00 | Step 691256 / 738000 | TPS 18.1905 | ETA 00:42:49\n",
      "Time 00:03:10 | Step 691426 / 738000 | TPS 16.9879 | ETA 00:45:41\n",
      "Time 00:03:20 | Step 691594 / 738000 | TPS 16.7185 | ETA 00:46:15\n",
      "Time 00:03:30 | Step 691773 / 738000 | TPS 17.7099 | ETA 00:43:30\n",
      "Time 00:03:40 | Step 691940 / 738000 | TPS 16.6027 | ETA 00:46:14\n",
      "Time 00:03:50 | Step 692115 / 738000 | TPS 17.3339 | ETA 00:44:07\n",
      "Time 00:04:00 | Step 692324 / 738000 | TPS 20.8768 | ETA 00:36:27\n",
      "Time 00:04:10 | Step 692525 / 738000 | TPS 20.0844 | ETA 00:37:44\n",
      "Time 00:04:20 | Step 692742 / 738000 | TPS 21.6169 | ETA 00:34:53\n",
      "Time 00:04:31 | Step 692928 / 738000 | TPS 18.5026 | ETA 00:40:35\n",
      "Time 00:04:41 | Step 693107 / 738000 | TPS 17.7785 | ETA 00:42:05\n",
      "Time 00:04:51 | Step 693323 / 738000 | TPS 21.4404 | ETA 00:34:43\n",
      "Time 00:05:01 | Step 693483 / 738000 | TPS 15.8723 | ETA 00:46:44\n",
      "Time 00:05:11 | Step 693617 / 738000 | TPS 13.3061 | ETA 00:55:35\n",
      "Time 00:05:21 | Step 693787 / 738000 | TPS 16.9181 | ETA 00:43:33\n",
      "Time 00:05:31 | Step 693942 / 738000 | TPS 15.4815 | ETA 00:47:25\n",
      "Time 00:05:41 | Step 694077 / 738000 | TPS 13.4761 | ETA 00:54:19\n",
      "Time 00:05:51 | Step 694230 / 738000 | TPS 15.2931 | ETA 00:47:42\n",
      "Time 00:06:01 | Step 694400 / 738000 | TPS 16.8701 | ETA 00:43:04\n",
      "Time 00:06:11 | Step 694599 / 738000 | TPS 19.7775 | ETA 00:36:34\n",
      "Time 00:06:21 | Step 694813 / 738000 | TPS 21.3286 | ETA 00:33:44\n",
      "Time 00:06:31 | Step 695006 / 738000 | TPS 19.2898 | ETA 00:37:08\n",
      "Time 00:06:41 | Step 695190 / 738000 | TPS 18.3042 | ETA 00:38:58\n",
      "Time 00:06:51 | Step 695368 / 738000 | TPS 17.6768 | ETA 00:40:11\n",
      "Time 00:07:01 | Step 695542 / 738000 | TPS 17.3704 | ETA 00:40:44\n",
      "Time 00:07:11 | Step 695701 / 738000 | TPS 15.7732 | ETA 00:44:41\n",
      "Time 00:07:21 | Step 695901 / 738000 | TPS 19.8378 | ETA 00:35:22\n",
      "Time 00:07:31 | Step 696096 / 738000 | TPS 19.4383 | ETA 00:35:55\n",
      "Time 00:07:41 | Step 696305 / 738000 | TPS 20.7469 | ETA 00:33:29\n",
      "Time 00:07:52 | Step 696526 / 738000 | TPS 22.0617 | ETA 00:31:19\n",
      "Time 00:08:02 | Step 696760 / 738000 | TPS 23.2531 | ETA 00:29:33\n",
      "Time 00:08:12 | Step 696980 / 738000 | TPS 21.9822 | ETA 00:31:06\n",
      "Time 00:08:22 | Step 697203 / 738000 | TPS 22.1555 | ETA 00:30:41\n",
      "Time 00:08:32 | Step 697430 / 738000 | TPS 22.6879 | ETA 00:29:48\n",
      "Time 00:08:42 | Step 697653 / 738000 | TPS 22.1677 | ETA 00:30:20\n",
      "Time 00:08:52 | Step 697878 / 738000 | TPS 22.486 | ETA 00:29:44\n",
      "Time 00:09:02 | Step 698112 / 738000 | TPS 23.2663 | ETA 00:28:34\n",
      "Time 00:09:12 | Step 698341 / 738000 | TPS 22.8898 | ETA 00:28:52\n",
      "Time 00:09:22 | Step 698567 / 738000 | TPS 22.4752 | ETA 00:29:14\n",
      "Time 00:09:32 | Step 698794 / 738000 | TPS 22.6582 | ETA 00:28:50\n",
      "Time 00:09:42 | Step 699019 / 738000 | TPS 22.497 | ETA 00:28:52\n",
      "Time 00:09:52 | Step 699249 / 738000 | TPS 22.9808 | ETA 00:28:06\n",
      "Time 00:10:02 | Step 699464 / 738000 | TPS 21.4811 | ETA 00:29:53\n",
      "Time 00:10:12 | Step 699659 / 738000 | TPS 19.3663 | ETA 00:32:59\n",
      "Time 00:10:22 | Step 699829 / 738000 | TPS 16.8917 | ETA 00:37:39\n"
     ]
    }
   ],
   "source": [
    "#-----Run the simulation.\n",
    "\n",
    "hoomd.run(steps_ramp)"
   ]
  },
  {
   "cell_type": "code",
   "execution_count": null,
   "metadata": {},
   "outputs": [],
   "source": [
    "#-----Get density.\n",
    "\n",
    "system.get_metadata()"
   ]
  },
  {
   "cell_type": "code",
   "execution_count": null,
   "metadata": {},
   "outputs": [],
   "source": [
    "#-----Get volume.\n",
    "\n",
    "system.box.get_volume()"
   ]
  }
 ],
 "metadata": {
  "kernelspec": {
   "display_name": "Python 3",
   "language": "python",
   "name": "python3"
  },
  "language_info": {
   "codemirror_mode": {
    "name": "ipython",
    "version": 3
   },
   "file_extension": ".py",
   "mimetype": "text/x-python",
   "name": "python",
   "nbconvert_exporter": "python",
   "pygments_lexer": "ipython3",
   "version": "3.7.3"
  }
 },
 "nbformat": 4,
 "nbformat_minor": 4
}
