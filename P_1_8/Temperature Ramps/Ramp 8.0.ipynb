{
 "cells": [
  {
   "cell_type": "markdown",
   "metadata": {},
   "source": [
    "# Mesogens with NP | Temperature Ramps"
   ]
  },
  {
   "cell_type": "markdown",
   "metadata": {},
   "source": [
    "## Temperature: 7.8 -> 8.0 | CPU Run"
   ]
  },
  {
   "cell_type": "markdown",
   "metadata": {},
   "source": [
    "### Date: 12/10/2019 | System P = 1.8, Expected value of $T_c$ : 7.09 "
   ]
  },
  {
   "cell_type": "code",
   "execution_count": 1,
   "metadata": {},
   "outputs": [],
   "source": [
    "#-----Import essential packages.\n",
    "\n",
    "from __future__ import division\n",
    "import hoomd\n",
    "import hoomd.md"
   ]
  },
  {
   "cell_type": "code",
   "execution_count": 2,
   "metadata": {},
   "outputs": [],
   "source": [
    "#-----Define important variables.\n",
    "\n",
    "p_max = 1.8;\n",
    "t_0   = 7.8; \n",
    "t_1   = 8.0;\n",
    "steps_ramp = 5e4;"
   ]
  },
  {
   "cell_type": "code",
   "execution_count": 3,
   "metadata": {},
   "outputs": [],
   "source": [
    "#-----Declare the file from wich we'll extract the configuration of the system.\n",
    "\n",
    "ramp_file = \"T_CM&NP_\" + str(t_0) + \"_P_\" + str(p_max) + \"_ramp.gsd\""
   ]
  },
  {
   "cell_type": "code",
   "execution_count": 4,
   "metadata": {},
   "outputs": [
    {
     "name": "stdout",
     "output_type": "stream",
     "text": [
      "HOOMD-blue 2.8.1 DOUBLE HPMC_MIXED TBB SSE SSE2 SSE3 \n",
      "Compiled: 11/26/2019\n",
      "Copyright (c) 2009-2019 The Regents of the University of Michigan.\n",
      "-----\n",
      "You are using HOOMD-blue. Please cite the following:\n",
      "* J A Anderson, C D Lorenz, and A Travesset. \"General purpose molecular dynamics\n",
      "  simulations fully implemented on graphics processing units\", Journal of\n",
      "  Computational Physics 227 (2008) 5342--5359\n",
      "* J Glaser, T D Nguyen, J A Anderson, P Lui, F Spiga, J A Millan, D C Morse, and\n",
      "  S C Glotzer. \"Strong scaling of general-purpose molecular dynamics simulations\n",
      "  on GPUs\", Computer Physics Communications 192 (2015) 97--107\n",
      "-----\n",
      "HOOMD-blue is running on the CPU\n",
      "notice(2): Group \"all\" created containing 1004 particles\n",
      "notice(2): constrain.rigid(): Creating 1000 rigid bodies (adding 8000 particles)\n",
      "-----\n",
      "You are using tree neighbor lists. Please cite the following:\n",
      "* M P Howard, J A Anderson, A Nikoubashman, S C Glotzer, and A Z\n",
      "  Panagiotopoulos. \"Efficient neighbor list calculation for molecular simulation\n",
      "  of colloidal systems using graphics processing units\", Computer Physics\n",
      "  Communications 203 (2016) 45--52\n",
      "-----\n",
      "notice(2): Group \"Nano_Particles\" created containing 4 particles\n",
      "notice(2): Group \"rigid_center\" created containing 1000 particles\n",
      "notice(2): Group \"NP_Mes\" created containing 1004 particles\n"
     ]
    }
   ],
   "source": [
    "#-----Declare a simulation context.\n",
    "\n",
    "hoomd.context.initialize(\"--mode=cpu\", memory_traceback = True);\n",
    "\n",
    "#-----Initialize from a .gsd file.\n",
    "\n",
    "system = hoomd.init.read_gsd(ramp_file, frame = -1);\n",
    "\n",
    "#-----Define each mesogen in the local frame of reference of each rigid body.\n",
    "\n",
    "rigid = hoomd.md.constrain.rigid();\n",
    "rigid.set_param('M', \n",
    "                types = ['A']*8,\n",
    "                positions = [(-4,0,0),(-3,0,0),(-2,0,0),(-1,0,0),\n",
    "                           (1,0,0),(2,0,0),(3,0,0),(4,0,0)]);\n",
    "\n",
    "#-----Create the mesogens.\n",
    "\n",
    "rigid.create_bodies();\n",
    "\n",
    "#-----Define the potential energy.\n",
    "\n",
    "nl = hoomd.md.nlist.tree();\n",
    "\n",
    "lj = hoomd.md.pair.lj(r_cut = 3.5, nlist = nl)\n",
    "lj.set_params(mode = 'shift')\n",
    "\n",
    "#-----Declare interactions.\n",
    "\n",
    "lj.pair_coeff.set('NP','NP', epsilon = 1.0, sigma = 5.0);\n",
    "lj.pair_coeff.set('M' ,'M' , epsilon = 1.0, sigma = 1.0);\n",
    "lj.pair_coeff.set('A' ,'A' , epsilon = 1.0, sigma = 1.0);\n",
    "lj.pair_coeff.set('M' ,'A' , epsilon = 1.0, sigma = 1.0);\n",
    "lj.pair_coeff.set('NP','M' , epsilon = 1.0, sigma = 3.0);\n",
    "lj.pair_coeff.set('NP','A' , epsilon = 1.0, sigma = 3.0);\n",
    "\n",
    "#-----Select an standard integrator.\n",
    "\n",
    "hoomd.md.integrate.mode_standard(dt = 0.005);\n",
    "\n",
    "#------Define some groups and make their union.\n",
    "\n",
    "nanoparticles = hoomd.group.type(name = 'Nano_Particles', type = 'NP');\n",
    "mesogens = hoomd.group.rigid_center();\n",
    "groupNP_mes = hoomd.group.union(name = \"NP_Mes\", a = nanoparticles, b = mesogens);\n",
    "\n",
    "#----Integrate using an NPT integrator.\n",
    "\n",
    "temp = hoomd.variant.linear_interp(points = [(0,t_0), (steps_ramp, t_1)]);\n",
    "\n",
    "npt = hoomd.md.integrate.npt(group = groupNP_mes, kT = temp, tau = 5.5, tauP = 5.5, P = p_max);\n",
    "npt.randomize_velocities(seed=42)\n",
    "\n",
    "#-----Save .log y .gsd data.\n",
    "\n",
    "log_file = \"T_\" + str(t_1) + \"_P_\" + str(p_max) + \"_ramp.log\"\n",
    "gsd_file = \"T_\" + str(t_1) + \"_P_\" + str(p_max) + \"_ramp.gsd\" \n",
    "meso_gsd_file = \"T_CM&NP_\" + str(t_1) + \"_P_\" + str(p_max) + \"_ramp.gsd\"\n",
    "\n",
    "log = hoomd.analyze.log(filename = log_file,\n",
    "                         quantities = ['num_particles',\n",
    "                                     'ndof',\n",
    "                                     'translational_ndof',\n",
    "                                     'rotational_ndof',\n",
    "                                     'potential_energy',\n",
    "                                     'kinetic_energy',\n",
    "                                     'translational_kinetic_energy',\n",
    "                                     'rotational_kinetic_energy',\n",
    "                                     'temperature',\n",
    "                                     'pressure',\n",
    "                                      'volume'],\n",
    "                         period = 1e3,\n",
    "                         overwrite = True);\n",
    "gsd = hoomd.dump.gsd(gsd_file,\n",
    "               period = 1e3,\n",
    "               group = hoomd.group.all(),\n",
    "               overwrite = True); \n",
    "meso_gsd = hoomd.dump.gsd(meso_gsd_file,\n",
    "               period = 1e3,\n",
    "               group = groupNP_mes,\n",
    "               overwrite = True); "
   ]
  },
  {
   "cell_type": "code",
   "execution_count": null,
   "metadata": {
    "scrolled": true
   },
   "outputs": [
    {
     "name": "stdout",
     "output_type": "stream",
     "text": [
      "notice(2): -- Neighborlist exclusion statistics -- :\n",
      "notice(2): Particles with 0 exclusions             : 9004\n",
      "notice(2): Neighbors included by diameter          : no\n",
      "notice(2): Neighbors excluded when in the same body: yes\n",
      "** starting run **\n",
      "Time 00:00:10 | Step 884155 / 934000 | TPS 15.4325 | ETA 00:53:49\n",
      "Time 00:00:20 | Step 884319 / 934000 | TPS 16.3441 | ETA 00:50:39\n",
      "Time 00:00:30 | Step 884525 / 934000 | TPS 20.5177 | ETA 00:40:11\n",
      "Time 00:00:40 | Step 884770 / 934000 | TPS 24.408 | ETA 00:33:36\n",
      "Time 00:00:50 | Step 884979 / 934000 | TPS 20.8673 | ETA 00:39:09\n",
      "Time 00:01:00 | Step 885199 / 934000 | TPS 21.9753 | ETA 00:37:00\n",
      "Time 00:01:10 | Step 885384 / 934000 | TPS 18.4464 | ETA 00:43:55\n",
      "Time 00:01:20 | Step 885587 / 934000 | TPS 20.2729 | ETA 00:39:48\n",
      "Time 00:01:30 | Step 885799 / 934000 | TPS 21.0337 | ETA 00:38:11\n",
      "Time 00:01:40 | Step 885977 / 934000 | TPS 17.4832 | ETA 00:45:46\n",
      "Time 00:01:50 | Step 886167 / 934000 | TPS 18.6635 | ETA 00:42:42\n",
      "Time 00:02:00 | Step 886321 / 934000 | TPS 15.3159 | ETA 00:51:53\n",
      "Time 00:02:10 | Step 886489 / 934000 | TPS 16.6707 | ETA 00:47:29\n",
      "Time 00:02:20 | Step 886645 / 934000 | TPS 15.5115 | ETA 00:50:52\n",
      "Time 00:02:30 | Step 886833 / 934000 | TPS 18.6703 | ETA 00:42:06\n",
      "Time 00:02:40 | Step 887052 / 934000 | TPS 21.8448 | ETA 00:35:49\n",
      "Time 00:02:51 | Step 887275 / 934000 | TPS 22.1632 | ETA 00:35:08\n",
      "Time 00:03:01 | Step 887501 / 934000 | TPS 22.563 | ETA 00:34:20\n",
      "Time 00:03:11 | Step 887713 / 934000 | TPS 21.0645 | ETA 00:36:37\n",
      "Time 00:03:21 | Step 887941 / 934000 | TPS 22.6526 | ETA 00:33:53\n",
      "Time 00:03:31 | Step 888161 / 934000 | TPS 21.9061 | ETA 00:34:52\n",
      "Time 00:03:41 | Step 888391 / 934000 | TPS 22.9516 | ETA 00:33:07\n",
      "Time 00:03:51 | Step 888621 / 934000 | TPS 22.9534 | ETA 00:32:57\n",
      "Time 00:04:01 | Step 888850 / 934000 | TPS 22.8876 | ETA 00:32:52\n",
      "Time 00:04:11 | Step 889051 / 934000 | TPS 20.0967 | ETA 00:37:16\n",
      "Time 00:04:21 | Step 889275 / 934000 | TPS 22.3749 | ETA 00:33:18\n",
      "Time 00:04:31 | Step 889491 / 934000 | TPS 21.4522 | ETA 00:34:34\n",
      "Time 00:04:41 | Step 889715 / 934000 | TPS 22.3263 | ETA 00:33:03\n",
      "Time 00:04:51 | Step 889924 / 934000 | TPS 20.8915 | ETA 00:35:09\n",
      "Time 00:05:01 | Step 890155 / 934000 | TPS 22.9595 | ETA 00:31:49\n",
      "Time 00:05:11 | Step 890378 / 934000 | TPS 22.2488 | ETA 00:32:40\n",
      "Time 00:05:21 | Step 890605 / 934000 | TPS 22.6021 | ETA 00:31:59\n",
      "Time 00:05:31 | Step 890838 / 934000 | TPS 23.2447 | ETA 00:30:56\n",
      "Time 00:05:41 | Step 891065 / 934000 | TPS 22.678 | ETA 00:31:33\n",
      "Time 00:05:51 | Step 891272 / 934000 | TPS 20.5964 | ETA 00:34:34\n",
      "Time 00:06:01 | Step 891468 / 934000 | TPS 19.5756 | ETA 00:36:12\n",
      "Time 00:06:11 | Step 891652 / 934000 | TPS 18.3439 | ETA 00:38:28\n",
      "Time 00:06:21 | Step 891867 / 934000 | TPS 21.3678 | ETA 00:32:51\n",
      "Time 00:06:31 | Step 892071 / 934000 | TPS 20.2564 | ETA 00:34:29\n",
      "Time 00:06:41 | Step 892274 / 934000 | TPS 20.1551 | ETA 00:34:30\n",
      "Time 00:06:51 | Step 892479 / 934000 | TPS 20.3719 | ETA 00:33:58\n",
      "Time 00:07:02 | Step 892665 / 934000 | TPS 18.4673 | ETA 00:37:18\n",
      "Time 00:07:12 | Step 892831 / 934000 | TPS 16.5055 | ETA 00:41:34\n",
      "Time 00:07:22 | Step 893033 / 934000 | TPS 20.0317 | ETA 00:34:05\n",
      "Time 00:07:32 | Step 893250 / 934000 | TPS 21.6932 | ETA 00:31:18\n",
      "Time 00:07:42 | Step 893439 / 934000 | TPS 18.877 | ETA 00:35:48\n",
      "Time 00:07:52 | Step 893559 / 934000 | TPS 11.966 | ETA 00:56:19\n",
      "Time 00:08:02 | Step 893739 / 934000 | TPS 17.9807 | ETA 00:37:19\n",
      "Time 00:08:12 | Step 893963 / 934000 | TPS 22.2833 | ETA 00:29:56\n",
      "Time 00:08:22 | Step 894181 / 934000 | TPS 21.6722 | ETA 00:30:37\n",
      "Time 00:08:32 | Step 894399 / 934000 | TPS 21.7947 | ETA 00:30:17\n",
      "Time 00:08:42 | Step 894623 / 934000 | TPS 22.3495 | ETA 00:29:21\n",
      "Time 00:08:52 | Step 894843 / 934000 | TPS 21.8272 | ETA 00:29:53\n",
      "Time 00:09:02 | Step 895065 / 934000 | TPS 22.1294 | ETA 00:29:19\n",
      "Time 00:09:12 | Step 895291 / 934000 | TPS 22.5308 | ETA 00:28:38\n",
      "Time 00:09:22 | Step 895517 / 934000 | TPS 22.4633 | ETA 00:28:33\n",
      "Time 00:09:32 | Step 895729 / 934000 | TPS 21.1109 | ETA 00:30:12\n",
      "Time 00:09:42 | Step 895947 / 934000 | TPS 21.7022 | ETA 00:29:13\n",
      "Time 00:09:52 | Step 896171 / 934000 | TPS 22.3045 | ETA 00:28:16\n",
      "Time 00:10:02 | Step 896389 / 934000 | TPS 21.653 | ETA 00:28:56\n",
      "Time 00:10:12 | Step 896599 / 934000 | TPS 20.9547 | ETA 00:29:44\n",
      "Time 00:10:22 | Step 896799 / 934000 | TPS 19.9547 | ETA 00:31:04\n",
      "Time 00:10:32 | Step 896992 / 934000 | TPS 19.181 | ETA 00:32:09\n",
      "Time 00:10:42 | Step 897209 / 934000 | TPS 21.6243 | ETA 00:28:21\n",
      "Time 00:10:52 | Step 897424 / 934000 | TPS 21.4974 | ETA 00:28:21\n"
     ]
    }
   ],
   "source": [
    "#-----Run the simulation.\n",
    "\n",
    "hoomd.run(steps_ramp)"
   ]
  },
  {
   "cell_type": "code",
   "execution_count": null,
   "metadata": {},
   "outputs": [],
   "source": [
    "#-----Get density.\n",
    "\n",
    "system.get_metadata()"
   ]
  },
  {
   "cell_type": "code",
   "execution_count": null,
   "metadata": {},
   "outputs": [],
   "source": [
    "#-----Get volume.\n",
    "\n",
    "system.box.get_volume()"
   ]
  }
 ],
 "metadata": {
  "kernelspec": {
   "display_name": "Python 3",
   "language": "python",
   "name": "python3"
  },
  "language_info": {
   "codemirror_mode": {
    "name": "ipython",
    "version": 3
   },
   "file_extension": ".py",
   "mimetype": "text/x-python",
   "name": "python",
   "nbconvert_exporter": "python",
   "pygments_lexer": "ipython3",
   "version": "3.7.3"
  }
 },
 "nbformat": 4,
 "nbformat_minor": 4
}
