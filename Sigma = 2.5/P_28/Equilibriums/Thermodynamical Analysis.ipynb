{
 "cells": [
  {
   "cell_type": "markdown",
   "metadata": {},
   "source": [
    "# Thermodynamical Analysis"
   ]
  },
  {
   "cell_type": "markdown",
   "metadata": {},
   "source": [
    "## Mesogens with NP | Pressure Ramps"
   ]
  },
  {
   "cell_type": "markdown",
   "metadata": {},
   "source": [
    "### System P = 2.8, Expected value of $T_c$ : "
   ]
  },
  {
   "cell_type": "markdown",
   "metadata": {},
   "source": [
    "This notebook is used for ramps and system equilibriums, that's why is convenient to define a variable in which we store the name of the file in which all the information will be saved.\n",
    "The structure of the file name is this: T + temperature value + P + pressure value + \"part of the simulation\". \n",
    "Part of the \"simulation\" could be ramp and equilibrium."
   ]
  },
  {
   "cell_type": "code",
   "execution_count": 1,
   "metadata": {},
   "outputs": [
    {
     "name": "stdout",
     "output_type": "stream",
     "text": [
      "/home/emmanuel/Simulations/NP-with-Liquid-Crystals/Cluster/P_28/Equilibirums\n"
     ]
    }
   ],
   "source": [
    "!pwd"
   ]
  },
  {
   "cell_type": "markdown",
   "metadata": {},
   "source": [
    "## Pressure Ramp"
   ]
  },
  {
   "cell_type": "code",
   "execution_count": 2,
   "metadata": {},
   "outputs": [],
   "source": [
    "#-----Import packages.\n",
    "\n",
    "import numpy\n",
    "from matplotlib import pyplot"
   ]
  },
  {
   "cell_type": "code",
   "execution_count": 3,
   "metadata": {},
   "outputs": [],
   "source": [
    "#-----Define variables.\n",
    "\n",
    "t_max = 8.0;\n",
    "p_max = 2.8;\n",
    "simulation_part = \"ramp\";"
   ]
  },
  {
   "cell_type": "code",
   "execution_count": 4,
   "metadata": {},
   "outputs": [],
   "source": [
    "#-----Declare ta file name.\n",
    "\n",
    "file_name = \"T_\" + str(t_max) + \"_P_\" + str(p_max) + \"_\" + simulation_part + \".log\""
   ]
  },
  {
   "cell_type": "code",
   "execution_count": 5,
   "metadata": {},
   "outputs": [],
   "source": [
    "#-----Declare the file on wich read all of the thermodynamical properties.\n",
    "\n",
    "data = numpy.genfromtxt(fname = file_name, skip_header=True);"
   ]
  },
  {
   "cell_type": "code",
   "execution_count": 6,
   "metadata": {},
   "outputs": [],
   "source": [
    "#-----Compute presure, temperature and its standard deviations.\n",
    "\n",
    "mean_p = numpy.mean(data[:,10]);\n",
    "std_p = numpy.std(data[:,10]);\n",
    "mean_temp = numpy.mean(data[:,9])\n",
    "std_temp = numpy.std(data[:,9])\n",
    "mean_volume = numpy.mean(data[:,11])"
   ]
  },
  {
   "cell_type": "markdown",
   "metadata": {},
   "source": [
    "## Values of Pressure and Temperature"
   ]
  },
  {
   "cell_type": "code",
   "execution_count": 7,
   "metadata": {},
   "outputs": [
    {
     "name": "stdout",
     "output_type": "stream",
     "text": [
      "P = nan +- nan\n"
     ]
    }
   ],
   "source": [
    "print(\"P =\", mean_p, \"+-\",std_p)"
   ]
  },
  {
   "cell_type": "code",
   "execution_count": 8,
   "metadata": {},
   "outputs": [
    {
     "name": "stdout",
     "output_type": "stream",
     "text": [
      "T = nan +- nan\n"
     ]
    }
   ],
   "source": [
    "print(\"T =\", mean_temp, \"+-\", std_temp)"
   ]
  },
  {
   "cell_type": "code",
   "execution_count": 9,
   "metadata": {},
   "outputs": [
    {
     "name": "stdout",
     "output_type": "stream",
     "text": [
      "Mean volume =  nan\n"
     ]
    }
   ],
   "source": [
    "print(\"Mean volume = \", mean_volume)"
   ]
  },
  {
   "cell_type": "markdown",
   "metadata": {},
   "source": [
    "## Graphics"
   ]
  },
  {
   "cell_type": "code",
   "execution_count": null,
   "metadata": {},
   "outputs": [],
   "source": [
    "plt.figure(figsize=(25,16))\n",
    "\n",
    "plt.subplot(221)\n",
    "plt.plot(data[:,0],data[:,9], 'g')\n",
    "plt.xlabel('Time Step')\n",
    "plt.ylabel('Temperature')\n",
    "plt.title('TEMPERATURE')\n",
    "plt.grid()\n",
    "\n",
    "plt.subplot(222)\n",
    "plt.plot(data[:,0],data[:,10],'r')\n",
    "plt.xlabel('Time Step')\n",
    "plt.ylabel('Pressure')\n",
    "plt.title('PRESSURE')\n",
    "plt.grid()\n",
    "\n",
    "plt.subplot(223)\n",
    "plt.plot(data[:,0],data[:,6],'b')\n",
    "plt.xlabel('Time Step')\n",
    "plt.ylabel('Kinetic Energy')\n",
    "plt.title('KINETIC ENERGY')\n",
    "plt.grid()\n",
    "\n",
    "plt.subplot(224)\n",
    "plt.plot(data[:,0],data[:,5],'k')\n",
    "plt.xlabel('Time Step')\n",
    "plt.ylabel('Potential Energy')\n",
    "plt.title('POTENTIAL ENERGY')\n",
    "plt.grid()\n",
    "\n",
    "plt.show()"
   ]
  }
 ],
 "metadata": {
  "kernelspec": {
   "display_name": "Python 3",
   "language": "python",
   "name": "python3"
  },
  "language_info": {
   "codemirror_mode": {
    "name": "ipython",
    "version": 3
   },
   "file_extension": ".py",
   "mimetype": "text/x-python",
   "name": "python",
   "nbconvert_exporter": "python",
   "pygments_lexer": "ipython3",
   "version": "3.7.3"
  }
 },
 "nbformat": 4,
 "nbformat_minor": 4
}
