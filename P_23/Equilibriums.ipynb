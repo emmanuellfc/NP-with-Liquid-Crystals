{
 "cells": [
  {
   "cell_type": "markdown",
   "metadata": {},
   "source": [
    "# Mesogens with NP | Equilibrium"
   ]
  },
  {
   "cell_type": "markdown",
   "metadata": {},
   "source": [
    "## Temperature: 9.0 | CPU Run"
   ]
  },
  {
   "cell_type": "markdown",
   "metadata": {},
   "source": [
    "### Date: 09/01/2020 | System P = 2.3, Expected value of $T_c$ : ### "
   ]
  },
  {
   "cell_type": "code",
   "execution_count": 1,
   "metadata": {},
   "outputs": [],
   "source": [
    "from hoomd import *\n",
    "from hoomd import md"
   ]
  },
  {
   "cell_type": "code",
   "execution_count": 2,
   "metadata": {},
   "outputs": [],
   "source": [
    "temp = 9.0\n",
    "press = 2.3"
   ]
  },
  {
   "cell_type": "code",
   "execution_count": 3,
   "metadata": {},
   "outputs": [],
   "source": [
    "init_file = \"T_CM&NP_\" + str(temp) + \"_P_\" + str(press) + \"_ramp.gsd\"\n",
    "log_file = \"T_\" + str(temp) + \"_P_\" + str(press) + \"_equilibrium.log\"\n",
    "gsd_file = \"T_\" + str(temp) + \"_P_\" + str(press) + \"_equilibrium.gsd\"\n",
    "meso_gsd_file = \"T_CM_\" + str(temp) + \"_P_\" + str(press) + \"_equilibrium.gsd\""
   ]
  },
  {
   "cell_type": "code",
   "execution_count": 4,
   "metadata": {
    "scrolled": true
   },
   "outputs": [
    {
     "name": "stdout",
     "output_type": "stream",
     "text": [
      "HOOMD-blue 2.7.0 DOUBLE HPMC_MIXED TBB SSE SSE2 SSE3 \n",
      "Compiled: 10/02/2019\n",
      "Copyright (c) 2009-2019 The Regents of the University of Michigan.\n",
      "-----\n",
      "You are using HOOMD-blue. Please cite the following:\n",
      "* J A Anderson, C D Lorenz, and A Travesset. \"General purpose molecular dynamics\n",
      "  simulations fully implemented on graphics processing units\", Journal of\n",
      "  Computational Physics 227 (2008) 5342--5359\n",
      "* J Glaser, T D Nguyen, J A Anderson, P Liu, F Spiga, J A Millan, D C Morse, and\n",
      "  S C Glotzer. \"Strong scaling of general-purpose molecular dynamics simulations\n",
      "  on GPUs\", Computer Physics Communications 192 (2015) 97--107\n",
      "-----\n",
      "HOOMD-blue is running on the CPU\n",
      "notice(2): Group \"all\" created containing 1010 particles\n",
      "notice(2): constrain.rigid(): Creating 1000 rigid bodies (adding 8000 particles)\n",
      "-----\n",
      "You are using tree neighbor lists. Please cite the following:\n",
      "* M P Howard, J A Anderson, A Nikoubashman, S C Glotzer, and A Z\n",
      "  Panagiotopoulos. \"Efficient neighbor list calculation for molecular simulation\n",
      "  of colloidal systems using graphics processing units\", Computer Physics\n",
      "  Communications 203 (2016) 45--52\n",
      "-----\n",
      "notice(2): Group \"NPs\" created containing 10 particles\n",
      "notice(2): Group \"rigid_center\" created containing 1000 particles\n",
      "notice(2): Group \"NP_Mes\" created containing 1010 particles\n"
     ]
    }
   ],
   "source": [
    "context.initialize(\"\")\n",
    "\n",
    "init.read_gsd(filename = init_file, frame = -1)\n",
    "\n",
    "rigid = md.constrain.rigid()\n",
    "rigid.set_param('M', types = ['A']*8, positions=[(-4,0,0),(-3,0,0),(-2,0,0),(-1,0,0),(1,0,0),(2,0,0),(3,0,0),(4,0,0)])\n",
    "rigid.create_bodies()\n",
    "\n",
    "nl = md.nlist.tree()\n",
    "lj = md.pair.lj(r_cut = 3.5, nlist = nl)\n",
    "lj.set_params(mode='shift')\n",
    "\n",
    "lj.pair_coeff.set('NP', 'NP', epsilon = 1.0, sigma = 5.0)\n",
    "lj.pair_coeff.set('M', 'M', epsilon = 1.0, sigma = 5.0)\n",
    "lj.pair_coeff.set('A', 'A', epsilon = 1.0, sigma = 5.0)\n",
    "lj.pair_coeff.set('M', 'A', epsilon = 1.0, sigma = 5.0)\n",
    "lj.pair_coeff.set('NP', 'M', epsilon = 1.0, sigma = 5.0)\n",
    "lj.pair_coeff.set('NP', 'A', epsilon = 1.0, sigma = 5.0)\n",
    "\n",
    "md.integrate.mode_standard(dt = 0.005)\n",
    "\n",
    "nanoparticles = group.type(name='NPs', type='NP')\n",
    "mesogens = group.rigid_center()\n",
    "groupNP_mes = group.union(name='NP_Mes', a = nanoparticles, b = mesogens)\n",
    "    \n",
    "npt = md.integrate.npt(group = groupNP_mes, kT = temp, tau = 12.5, tauP = 12.5, P = press)\n",
    "\n",
    "log = analyze.log(filename = log_file, \n",
    "                  quantities = ['num_particles','ndof','translational_ndof','rotational_ndof','potential_energy',\n",
    "                                'kinetic_energy','translational_kinetic_energy','rotational_kinetic_energy','temperature','pressure','volume'],\n",
    "                  period = 1e3,overwrite = True)\n",
    "\n",
    "gsd = dump.gsd(gsd_file, period = 1e3, group = group.all(), overwrite = True)\n",
    "\n",
    "meso_gsd = dump.gsd(meso_gsd_file, period = 1e3, group = mesogens, overwrite = True)"
   ]
  },
  {
   "cell_type": "code",
   "execution_count": 5,
   "metadata": {
    "scrolled": true
   },
   "outputs": [
    {
     "name": "stdout",
     "output_type": "stream",
     "text": [
      "notice(2): -- Neighborlist exclusion statistics -- :\n",
      "notice(2): Particles with 0 exclusions             : 9010\n",
      "notice(2): Neighbors included by diameter          : no\n",
      "notice(2): Neighbors excluded when in the same body: yes\n",
      "** starting run **\n",
      "Time 00:00:34 | Step 250101 / 260000 | TPS 2.93292 | ETA 00:56:15\n",
      "Time 00:01:07 | Step 250201 / 260000 | TPS 3.04568 | ETA 00:53:37\n",
      "Time 00:01:39 | Step 250301 / 260000 | TPS 3.09788 | ETA 00:52:10\n",
      "Time 00:02:12 | Step 250401 / 260000 | TPS 3.02893 | ETA 00:52:49\n",
      "Time 00:02:46 | Step 250501 / 260000 | TPS 2.98204 | ETA 00:53:05\n",
      "Time 00:03:19 | Step 250601 / 260000 | TPS 3.00081 | ETA 00:52:12\n",
      "Time 00:03:52 | Step 250701 / 260000 | TPS 3.01763 | ETA 00:51:21\n",
      "Time 00:04:25 | Step 250801 / 260000 | TPS 3.03397 | ETA 00:50:32\n",
      "Time 00:04:58 | Step 250901 / 260000 | TPS 3.02642 | ETA 00:50:06\n",
      "Time 00:05:31 | Step 251001 / 260000 | TPS 3.06613 | ETA 00:48:54\n",
      "Time 00:06:04 | Step 251101 / 260000 | TPS 3.04613 | ETA 00:48:41\n",
      "Time 00:06:36 | Step 251201 / 260000 | TPS 3.06073 | ETA 00:47:54\n",
      "Time 00:07:09 | Step 251301 / 260000 | TPS 3.05524 | ETA 00:47:27\n",
      "Time 00:07:42 | Step 251401 / 260000 | TPS 3.0555 | ETA 00:46:54\n",
      "Time 00:08:16 | Step 251501 / 260000 | TPS 2.93894 | ETA 00:48:11\n",
      "Time 00:08:46 | Step 251601 / 260000 | TPS 3.25535 | ETA 00:43:00\n",
      "Time 00:09:18 | Step 251701 / 260000 | TPS 3.1987 | ETA 00:43:14\n",
      "Time 00:09:49 | Step 251801 / 260000 | TPS 3.19979 | ETA 00:42:42\n",
      "Time 00:10:22 | Step 251901 / 260000 | TPS 3.01625 | ETA 00:44:45\n",
      "Time 00:10:55 | Step 252001 / 260000 | TPS 3.06249 | ETA 00:43:31\n",
      "Time 00:11:27 | Step 252101 / 260000 | TPS 3.08705 | ETA 00:42:38\n",
      "Time 00:11:59 | Step 252201 / 260000 | TPS 3.08914 | ETA 00:42:04\n",
      "Time 00:12:32 | Step 252301 / 260000 | TPS 3.09874 | ETA 00:41:24\n",
      "Time 00:13:03 | Step 252401 / 260000 | TPS 3.2095 | ETA 00:39:27\n",
      "Time 00:13:34 | Step 252501 / 260000 | TPS 3.26702 | ETA 00:38:15\n",
      "Time 00:14:04 | Step 252601 / 260000 | TPS 3.24562 | ETA 00:37:59\n",
      "Time 00:14:35 | Step 252701 / 260000 | TPS 3.26954 | ETA 00:37:12\n",
      "Time 00:15:06 | Step 252801 / 260000 | TPS 3.20479 | ETA 00:37:26\n",
      "Time 00:15:37 | Step 252901 / 260000 | TPS 3.25855 | ETA 00:36:18\n",
      "Time 00:16:08 | Step 253001 / 260000 | TPS 3.24868 | ETA 00:35:54\n",
      "Time 00:16:40 | Step 253101 / 260000 | TPS 3.10509 | ETA 00:37:01\n",
      "Time 00:17:12 | Step 253201 / 260000 | TPS 3.14938 | ETA 00:35:58\n",
      "Time 00:17:43 | Step 253301 / 260000 | TPS 3.13405 | ETA 00:35:37\n",
      "Time 00:18:16 | Step 253401 / 260000 | TPS 3.11848 | ETA 00:35:16\n",
      "Time 00:18:48 | Step 253501 / 260000 | TPS 3.11988 | ETA 00:34:43\n",
      "Time 00:19:19 | Step 253601 / 260000 | TPS 3.17407 | ETA 00:33:36\n",
      "Time 00:19:51 | Step 253701 / 260000 | TPS 3.15684 | ETA 00:33:15\n",
      "Time 00:20:23 | Step 253801 / 260000 | TPS 3.13325 | ETA 00:32:58\n",
      "Time 00:20:54 | Step 253901 / 260000 | TPS 3.16906 | ETA 00:32:04\n",
      "Time 00:21:26 | Step 254001 / 260000 | TPS 3.16533 | ETA 00:31:35\n",
      "Time 00:21:58 | Step 254101 / 260000 | TPS 3.15684 | ETA 00:31:08\n",
      "Time 00:22:29 | Step 254201 / 260000 | TPS 3.15791 | ETA 00:30:36\n",
      "Time 00:23:02 | Step 254301 / 260000 | TPS 3.08444 | ETA 00:30:47\n",
      "Time 00:23:33 | Step 254401 / 260000 | TPS 3.14336 | ETA 00:29:41\n",
      "Time 00:24:05 | Step 254501 / 260000 | TPS 3.13107 | ETA 00:29:16\n",
      "Time 00:24:37 | Step 254601 / 260000 | TPS 3.14891 | ETA 00:28:34\n",
      "Time 00:25:09 | Step 254701 / 260000 | TPS 3.15389 | ETA 00:28:00\n",
      "Time 00:25:40 | Step 254801 / 260000 | TPS 3.19596 | ETA 00:27:06\n",
      "Time 00:26:12 | Step 254901 / 260000 | TPS 3.15943 | ETA 00:26:53\n",
      "Time 00:26:43 | Step 255001 / 260000 | TPS 3.17532 | ETA 00:26:14\n",
      "Time 00:27:15 | Step 255101 / 260000 | TPS 3.1656 | ETA 00:25:47\n",
      "Time 00:27:46 | Step 255201 / 260000 | TPS 3.18508 | ETA 00:25:06\n",
      "Time 00:28:18 | Step 255301 / 260000 | TPS 3.15571 | ETA 00:24:49\n",
      "Time 00:28:49 | Step 255401 / 260000 | TPS 3.22924 | ETA 00:23:44\n",
      "Time 00:29:20 | Step 255501 / 260000 | TPS 3.24254 | ETA 00:23:07\n",
      "Time 00:29:52 | Step 255601 / 260000 | TPS 3.08439 | ETA 00:23:46\n",
      "Time 00:30:25 | Step 255701 / 260000 | TPS 3.07637 | ETA 00:23:17\n",
      "Time 00:30:57 | Step 255801 / 260000 | TPS 3.08281 | ETA 00:22:42\n",
      "Time 00:31:29 | Step 255901 / 260000 | TPS 3.09805 | ETA 00:22:03\n",
      "Time 00:32:02 | Step 256001 / 260000 | TPS 3.08182 | ETA 00:21:37\n",
      "Time 00:32:34 | Step 256101 / 260000 | TPS 3.0943 | ETA 00:21:00\n",
      "Time 00:33:06 | Step 256201 / 260000 | TPS 3.1603 | ETA 00:20:02\n",
      "Time 00:33:37 | Step 256301 / 260000 | TPS 3.24602 | ETA 00:18:59\n",
      "Time 00:34:08 | Step 256401 / 260000 | TPS 3.22942 | ETA 00:18:34\n",
      "Time 00:34:38 | Step 256501 / 260000 | TPS 3.25144 | ETA 00:17:56\n",
      "Time 00:35:09 | Step 256601 / 260000 | TPS 3.24122 | ETA 00:17:28\n",
      "Time 00:35:40 | Step 256701 / 260000 | TPS 3.25832 | ETA 00:16:52\n",
      "Time 00:36:11 | Step 256801 / 260000 | TPS 3.24028 | ETA 00:16:27\n",
      "Time 00:36:41 | Step 256901 / 260000 | TPS 3.25039 | ETA 00:15:53\n",
      "Time 00:37:12 | Step 257001 / 260000 | TPS 3.2547 | ETA 00:15:21\n",
      "Time 00:37:43 | Step 257101 / 260000 | TPS 3.25931 | ETA 00:14:49\n",
      "Time 00:38:14 | Step 257201 / 260000 | TPS 3.23396 | ETA 00:14:25\n",
      "Time 00:38:44 | Step 257301 / 260000 | TPS 3.26746 | ETA 00:13:46\n",
      "Time 00:39:15 | Step 257401 / 260000 | TPS 3.24274 | ETA 00:13:21\n",
      "Time 00:39:46 | Step 257501 / 260000 | TPS 3.23901 | ETA 00:12:51\n",
      "Time 00:40:17 | Step 257601 / 260000 | TPS 3.24354 | ETA 00:12:19\n",
      "Time 00:40:48 | Step 257701 / 260000 | TPS 3.26078 | ETA 00:11:45\n",
      "Time 00:41:18 | Step 257801 / 260000 | TPS 3.23964 | ETA 00:11:18\n",
      "Time 00:41:49 | Step 257901 / 260000 | TPS 3.25951 | ETA 00:10:43\n",
      "Time 00:42:20 | Step 258001 / 260000 | TPS 3.24446 | ETA 00:10:16\n",
      "Time 00:42:51 | Step 258101 / 260000 | TPS 3.25932 | ETA 00:09:42\n",
      "Time 00:43:21 | Step 258201 / 260000 | TPS 3.25369 | ETA 00:09:12\n",
      "Time 00:43:52 | Step 258301 / 260000 | TPS 3.24668 | ETA 00:08:43\n",
      "Time 00:44:23 | Step 258401 / 260000 | TPS 3.24864 | ETA 00:08:12\n",
      "Time 00:44:55 | Step 258501 / 260000 | TPS 3.17258 | ETA 00:07:52\n",
      "Time 00:45:26 | Step 258601 / 260000 | TPS 3.16531 | ETA 00:07:21\n",
      "Time 00:45:58 | Step 258701 / 260000 | TPS 3.08929 | ETA 00:07:00\n",
      "Time 00:46:32 | Step 258801 / 260000 | TPS 2.99101 | ETA 00:06:40\n",
      "Time 00:47:05 | Step 258901 / 260000 | TPS 3.01205 | ETA 00:06:04\n",
      "Time 00:47:38 | Step 259001 / 260000 | TPS 3.05312 | ETA 00:05:27\n",
      "Time 00:48:09 | Step 259101 / 260000 | TPS 3.25206 | ETA 00:04:36\n",
      "Time 00:48:39 | Step 259201 / 260000 | TPS 3.2621 | ETA 00:04:04\n",
      "Time 00:49:10 | Step 259301 / 260000 | TPS 3.2606 | ETA 00:03:34\n",
      "Time 00:49:41 | Step 259401 / 260000 | TPS 3.26177 | ETA 00:03:03\n",
      "Time 00:50:12 | Step 259501 / 260000 | TPS 3.23451 | ETA 00:02:34\n",
      "Time 00:50:42 | Step 259601 / 260000 | TPS 3.25444 | ETA 00:02:02\n",
      "Time 00:51:13 | Step 259701 / 260000 | TPS 3.25562 | ETA 00:01:31\n",
      "Time 00:51:44 | Step 259801 / 260000 | TPS 3.21374 | ETA 00:01:01\n",
      "Time 00:52:15 | Step 259901 / 260000 | TPS 3.1959 | ETA 00:00:30\n",
      "Time 00:52:15 | Step 260000 / 260000 | TPS 898.391 | ETA 00:00:00\n",
      "Average TPS: 3.18884\n",
      "---------\n",
      "-- Neighborlist stats:\n",
      "0 normal updates / 101 forced updates / 0 dangerous updates\n",
      "n_neigh_min: 0 / n_neigh_max: 0 / n_neigh_avg: 0\n",
      "shortest rebuild period: 100\n",
      "** run complete **\n"
     ]
    }
   ],
   "source": [
    "run(1e4)"
   ]
  }
 ],
 "metadata": {
  "kernelspec": {
   "display_name": "Python 3",
   "language": "python",
   "name": "python3"
  },
  "language_info": {
   "codemirror_mode": {
    "name": "ipython",
    "version": 3
   },
   "file_extension": ".py",
   "mimetype": "text/x-python",
   "name": "python",
   "nbconvert_exporter": "python",
   "pygments_lexer": "ipython3",
   "version": "3.7.3"
  }
 },
 "nbformat": 4,
 "nbformat_minor": 4
}
