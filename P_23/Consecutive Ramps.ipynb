{
 "cells": [
  {
   "cell_type": "markdown",
   "metadata": {},
   "source": [
    "# Consecutive Ramps"
   ]
  },
  {
   "cell_type": "code",
   "execution_count": 1,
   "metadata": {},
   "outputs": [
    {
     "name": "stdout",
     "output_type": "stream",
     "text": [
      "/bin/sh: 1: arithmetic expression: expecting EOF: \"1576714822 + 0.2 * 3600 - 10 * 60\"\n"
     ]
    }
   ],
   "source": [
    "!export HOOMD_WALLTIME_STOP=$((`date +%s` + 0.2 * 3600 - 10 * 60))"
   ]
  },
  {
   "cell_type": "code",
   "execution_count": 2,
   "metadata": {},
   "outputs": [
    {
     "name": "stdout",
     "output_type": "stream",
     "text": [
      "HOOMD-blue 2.7.0 DOUBLE HPMC_MIXED TBB SSE SSE2 SSE3 \n",
      "Compiled: 10/02/2019\n",
      "Copyright (c) 2009-2019 The Regents of the University of Michigan.\n",
      "-----\n",
      "You are using HOOMD-blue. Please cite the following:\n",
      "* J A Anderson, C D Lorenz, and A Travesset. \"General purpose molecular dynamics\n",
      "  simulations fully implemented on graphics processing units\", Journal of\n",
      "  Computational Physics 227 (2008) 5342--5359\n",
      "* J Glaser, T D Nguyen, J A Anderson, P Liu, F Spiga, J A Millan, D C Morse, and\n",
      "  S C Glotzer. \"Strong scaling of general-purpose molecular dynamics simulations\n",
      "  on GPUs\", Computer Physics Communications 192 (2015) 97--107\n",
      "-----\n",
      "HOOMD-blue is running on the CPU\n",
      "notice(2): Group \"all\" created containing 1010 particles\n",
      "notice(2): constrain.rigid(): Creating 1000 rigid bodies (adding 8000 particles)\n",
      "-----\n",
      "You are using tree neighbor lists. Please cite the following:\n",
      "* M P Howard, J A Anderson, A Nikoubashman, S C Glotzer, and A Z\n",
      "  Panagiotopoulos. \"Efficient neighbor list calculation for molecular simulation\n",
      "  of colloidal systems using graphics processing units\", Computer Physics\n",
      "  Communications 203 (2016) 45--52\n",
      "-----\n",
      "notice(2): Group \"Nano_Particles\" created containing 10 particles\n",
      "notice(2): Group \"rigid_center\" created containing 1000 particles\n",
      "notice(2): Group \"NP_Mes\" created containing 1010 particles\n",
      "notice(2): -- Neighborlist exclusion statistics -- :\n",
      "notice(2): Particles with 0 exclusions             : 9010\n",
      "notice(2): Neighbors included by diameter          : no\n",
      "notice(2): Neighbors excluded when in the same body: yes\n",
      "** starting run **\n",
      "Time 00:00:10 | Step 269235 / 289000 | TPS 23.3899 | ETA 00:14:05\n",
      "Time 00:00:20 | Step 269485 / 289000 | TPS 24.9239 | ETA 00:13:02\n",
      "Time 00:00:30 | Step 269731 / 289000 | TPS 24.5187 | ETA 00:13:05\n",
      "Time 00:00:40 | Step 269975 / 289000 | TPS 24.1765 | ETA 00:13:06\n",
      "Time 00:00:50 | Step 270217 / 289000 | TPS 24.1001 | ETA 00:12:59\n",
      "Time 00:01:00 | Step 270445 / 289000 | TPS 22.789 | ETA 00:13:34\n",
      "Time 00:01:10 | Step 270681 / 289000 | TPS 23.4365 | ETA 00:13:01\n",
      "Time 00:01:20 | Step 270921 / 289000 | TPS 23.9199 | ETA 00:12:35\n",
      "Time 00:01:30 | Step 271159 / 289000 | TPS 23.6401 | ETA 00:12:34\n",
      "Time 00:01:40 | Step 271401 / 289000 | TPS 24.0701 | ETA 00:12:11\n",
      "Time 00:01:50 | Step 271644 / 289000 | TPS 24.2835 | ETA 00:11:54\n",
      "Time 00:02:00 | Step 271883 / 289000 | TPS 23.8062 | ETA 00:11:59\n",
      "Time 00:02:10 | Step 272122 / 289000 | TPS 23.8901 | ETA 00:11:46\n",
      "Time 00:02:20 | Step 272364 / 289000 | TPS 24.1706 | ETA 00:11:28\n",
      "Time 00:02:30 | Step 272607 / 289000 | TPS 24.1412 | ETA 00:11:19\n",
      "Time 00:02:40 | Step 272855 / 289000 | TPS 24.7088 | ETA 00:10:53\n",
      "Time 00:02:50 | Step 273105 / 289000 | TPS 24.9522 | ETA 00:10:37\n",
      "Time 00:03:00 | Step 273361 / 289000 | TPS 25.4462 | ETA 00:10:14\n",
      "Time 00:03:10 | Step 273617 / 289000 | TPS 25.567 | ETA 00:10:01\n",
      "Time 00:03:20 | Step 273875 / 289000 | TPS 25.7967 | ETA 00:09:46\n",
      "Time 00:03:30 | Step 274135 / 289000 | TPS 25.9333 | ETA 00:09:33\n",
      "Time 00:03:40 | Step 274391 / 289000 | TPS 25.5115 | ETA 00:09:32\n"
     ]
    },
    {
     "name": "stderr",
     "output_type": "stream",
     "text": [
      "**ERROR**: nlist.tree(): Particle 542 is out of bounds (x: 14.7463, y: 21.0501, z: -5.85858, fx: 1.02702, fy: 1.25231, fz:0.29062)\n"
     ]
    },
    {
     "ename": "RuntimeError",
     "evalue": "Error updating neighborlist",
     "output_type": "error",
     "traceback": [
      "\u001b[0;31m---------------------------------------------------------------------------\u001b[0m",
      "\u001b[0;31mRuntimeError\u001b[0m                              Traceback (most recent call last)",
      "\u001b[0;32m<ipython-input-2-d68ee48b0145>\u001b[0m in \u001b[0;36m<module>\u001b[0;34m\u001b[0m\n\u001b[1;32m     73\u001b[0m \u001b[0;34m\u001b[0m\u001b[0m\n\u001b[1;32m     74\u001b[0m     \u001b[0;32mtry\u001b[0m\u001b[0;34m:\u001b[0m\u001b[0;34m\u001b[0m\u001b[0;34m\u001b[0m\u001b[0m\n\u001b[0;32m---> 75\u001b[0;31m         \u001b[0mrun\u001b[0m\u001b[0;34m(\u001b[0m\u001b[0msteps_ramp\u001b[0m\u001b[0;34m)\u001b[0m\u001b[0;34m\u001b[0m\u001b[0;34m\u001b[0m\u001b[0m\n\u001b[0m\u001b[1;32m     76\u001b[0m     \u001b[0;32mexcept\u001b[0m \u001b[0mWalltimeLimitReached\u001b[0m\u001b[0;34m:\u001b[0m\u001b[0;34m\u001b[0m\u001b[0;34m\u001b[0m\u001b[0m\n\u001b[1;32m     77\u001b[0m         \u001b[0;32mpass\u001b[0m\u001b[0;34m\u001b[0m\u001b[0;34m\u001b[0m\u001b[0m\n",
      "\u001b[0;32m~/anaconda3/lib/python3.7/site-packages/hoomd/__init__.py\u001b[0m in \u001b[0;36mrun\u001b[0;34m(tsteps, profile, limit_hours, limit_multiple, callback_period, callback, quiet)\u001b[0m\n\u001b[1;32m    199\u001b[0m     \u001b[0;32mif\u001b[0m \u001b[0;32mnot\u001b[0m \u001b[0mquiet\u001b[0m\u001b[0;34m:\u001b[0m\u001b[0;34m\u001b[0m\u001b[0;34m\u001b[0m\u001b[0m\n\u001b[1;32m    200\u001b[0m         \u001b[0mcontext\u001b[0m\u001b[0;34m.\u001b[0m\u001b[0mmsg\u001b[0m\u001b[0;34m.\u001b[0m\u001b[0mnotice\u001b[0m\u001b[0;34m(\u001b[0m\u001b[0;36m1\u001b[0m\u001b[0;34m,\u001b[0m \u001b[0;34m\"** starting run **\\n\"\u001b[0m\u001b[0;34m)\u001b[0m\u001b[0;34m;\u001b[0m\u001b[0;34m\u001b[0m\u001b[0;34m\u001b[0m\u001b[0m\n\u001b[0;32m--> 201\u001b[0;31m     \u001b[0mcontext\u001b[0m\u001b[0;34m.\u001b[0m\u001b[0mcurrent\u001b[0m\u001b[0;34m.\u001b[0m\u001b[0msystem\u001b[0m\u001b[0;34m.\u001b[0m\u001b[0mrun\u001b[0m\u001b[0;34m(\u001b[0m\u001b[0mint\u001b[0m\u001b[0;34m(\u001b[0m\u001b[0mtsteps\u001b[0m\u001b[0;34m)\u001b[0m\u001b[0;34m,\u001b[0m \u001b[0mcallback_period\u001b[0m\u001b[0;34m,\u001b[0m \u001b[0mcallback\u001b[0m\u001b[0;34m,\u001b[0m \u001b[0mlimit_hours\u001b[0m\u001b[0;34m,\u001b[0m \u001b[0mint\u001b[0m\u001b[0;34m(\u001b[0m\u001b[0mlimit_multiple\u001b[0m\u001b[0;34m)\u001b[0m\u001b[0;34m)\u001b[0m\u001b[0;34m;\u001b[0m\u001b[0;34m\u001b[0m\u001b[0;34m\u001b[0m\u001b[0m\n\u001b[0m\u001b[1;32m    202\u001b[0m     \u001b[0;32mif\u001b[0m \u001b[0;32mnot\u001b[0m \u001b[0mquiet\u001b[0m\u001b[0;34m:\u001b[0m\u001b[0;34m\u001b[0m\u001b[0;34m\u001b[0m\u001b[0m\n\u001b[1;32m    203\u001b[0m         \u001b[0mcontext\u001b[0m\u001b[0;34m.\u001b[0m\u001b[0mmsg\u001b[0m\u001b[0;34m.\u001b[0m\u001b[0mnotice\u001b[0m\u001b[0;34m(\u001b[0m\u001b[0;36m1\u001b[0m\u001b[0;34m,\u001b[0m \u001b[0;34m\"** run complete **\\n\"\u001b[0m\u001b[0;34m)\u001b[0m\u001b[0;34m;\u001b[0m\u001b[0;34m\u001b[0m\u001b[0;34m\u001b[0m\u001b[0m\n",
      "\u001b[0;31mRuntimeError\u001b[0m: Error updating neighborlist"
     ]
    }
   ],
   "source": [
    "from __future__ import division\n",
    "from hoomd import *\n",
    "from hoomd import md\n",
    "\n",
    "\n",
    "# Loop for do the ramps\n",
    "\n",
    "for i in range(1,11):\n",
    "    \n",
    "    # Define some important variables\n",
    "    p_max = 2.3\n",
    "    t1 = 9.0 + i*0.2\n",
    "    t2 = 9.0 + (i + 1)*0.2\n",
    "    steps_ramp = 2e4\n",
    "    \n",
    "    # Declare the init gsd file\n",
    "    \n",
    "    ramp_file = \"T_CM&NP_\" + str(t1) + \"_P_\" + str(p_max) + \"_ramp.gsd\"\n",
    "    \n",
    "    context.initialize(\"--mode=cpu\", memory_traceback = True)\n",
    "    system = init.read_gsd(ramp_file, frame = -1)\n",
    "    rigid = md.constrain.rigid()\n",
    "    rigid.set_param('M', \n",
    "                types = ['A']*8,\n",
    "                positions = [(-4,0,0),(-3,0,0),(-2,0,0),(-1,0,0),\n",
    "                           (1,0,0),(2,0,0),(3,0,0),(4,0,0)])\n",
    "    rigid.create_bodies()\n",
    "    \n",
    "    nl = md.nlist.tree()\n",
    "    lj = md.pair.lj(r_cut = 3.5, nlist = nl)\n",
    "    lj.set_params(mode = 'shift')\n",
    "\n",
    "    lj.pair_coeff.set('NP','NP', epsilon = 1.0, sigma = 5.0)\n",
    "    lj.pair_coeff.set('M' ,'M' , epsilon = 1.0, sigma = 1.0)\n",
    "    lj.pair_coeff.set('A' ,'A' , epsilon = 1.0, sigma = 1.0)\n",
    "    lj.pair_coeff.set('M' ,'A' , epsilon = 1.0, sigma = 1.0)\n",
    "    lj.pair_coeff.set('NP','M' , epsilon = 1.0, sigma = 3.0)\n",
    "    lj.pair_coeff.set('NP','A' , epsilon = 1.0, sigma = 3.0)\n",
    "    md.integrate.mode_standard(dt = 0.005)\n",
    "    \n",
    "    #------Define some groups and make their union.\n",
    "\n",
    "    nanoparticles = group.type(name = 'Nano_Particles', type = 'NP')\n",
    "    mesogens = group.rigid_center()\n",
    "    groupNP_mes = group.union(name = \"NP_Mes\", a = nanoparticles, b = mesogens)\n",
    "\n",
    "    #----Integrate using an NPT integrator.\n",
    "\n",
    "    temp = variant.linear_interp(points = [(0,t1), (steps_ramp, t2)])\n",
    "\n",
    "    npt = md.integrate.npt(group = groupNP_mes, kT = temp, tau = 2.5, tauP = 2.5, P = p_max)\n",
    "    npt.randomize_velocities(seed=42)\n",
    "\n",
    "    #-----Save .log y .gsd data.\n",
    "\n",
    "    log_file = \"T_\" + str(t2) + \"_P_\" + str(p_max) + \"_ramp.log\"\n",
    "    gsd_file = \"T_\" + str(t2) + \"_P_\" + str(p_max) + \"_ramp.gsd\" \n",
    "    meso_gsd_file = \"T_CM&NP_\" + str(t2) + \"_P_\" + str(p_max) + \"_ramp.gsd\"\n",
    "\n",
    "    log = analyze.log(filename = log_file, quantities = ['num_particles',\n",
    "                                     'ndof',\n",
    "                                     'translational_ndof',\n",
    "                                     'rotational_ndof',\n",
    "                                     'potential_energy',\n",
    "                                     'kinetic_energy',\n",
    "                                     'translational_kinetic_energy',\n",
    "                                     'rotational_kinetic_energy',\n",
    "                                     'temperature',\n",
    "                                     'pressure',\n",
    "                                      'volume'], period = 1e3, overwrite = True)\n",
    "    gsd = dump.gsd(gsd_file, period = 1e3, group = group.all(), overwrite = True); \n",
    "    meso_gsd = dump.gsd(meso_gsd_file, period = 1e3, group = groupNP_mes, overwrite = True); \n",
    "    \n",
    "    try:\n",
    "        run(steps_ramp)\n",
    "    except WalltimeLimitReached:\n",
    "        pass"
   ]
  },
  {
   "cell_type": "code",
   "execution_count": null,
   "metadata": {},
   "outputs": [],
   "source": []
  }
 ],
 "metadata": {
  "kernelspec": {
   "display_name": "Python 3",
   "language": "python",
   "name": "python3"
  },
  "language_info": {
   "codemirror_mode": {
    "name": "ipython",
    "version": 3
   },
   "file_extension": ".py",
   "mimetype": "text/x-python",
   "name": "python",
   "nbconvert_exporter": "python",
   "pygments_lexer": "ipython3",
   "version": "3.7.3"
  }
 },
 "nbformat": 4,
 "nbformat_minor": 4
}
