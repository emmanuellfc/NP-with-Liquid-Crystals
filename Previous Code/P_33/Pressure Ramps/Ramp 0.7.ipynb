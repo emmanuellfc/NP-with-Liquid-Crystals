{
 "cells": [
  {
   "cell_type": "markdown",
   "metadata": {},
   "source": [
    "# Mesogens with NP | Pressure Ramps"
   ]
  },
  {
   "cell_type": "markdown",
   "metadata": {},
   "source": [
    "## Pressure: 0.5 -> 0.7"
   ]
  },
  {
   "cell_type": "markdown",
   "metadata": {},
   "source": [
    "### Date: 12/1119 | System P = 3.3, Expected value of $T_c$ : 9.91"
   ]
  },
  {
   "cell_type": "code",
   "execution_count": 1,
   "metadata": {},
   "outputs": [],
   "source": [
    "#-----Importa los paquetes esenciales para correr la simulación.\n",
    "\n",
    "from __future__ import division\n",
    "import hoomd\n",
    "import hoomd.md"
   ]
  },
  {
   "cell_type": "code",
   "execution_count": 2,
   "metadata": {},
   "outputs": [],
   "source": [
    "#-----Define important variables\n",
    "\n",
    "p_prev = 0.5;\n",
    "p_new = 0.7;\n",
    "temp = 9.0;\n",
    "steps_ramp = 2.5e4;\n",
    "run_time = steps_ramp;"
   ]
  },
  {
   "cell_type": "code",
   "execution_count": 3,
   "metadata": {},
   "outputs": [],
   "source": [
    "#-----Declare the file from wich we'll extract the configuration of the system.\n",
    "\n",
    "ramp_file = \"T_CM&NP_\" + str(temp) + \"_P_\" + str(p_prev) + \"_ramp.gsd\""
   ]
  },
  {
   "cell_type": "code",
   "execution_count": 4,
   "metadata": {},
   "outputs": [
    {
     "name": "stdout",
     "output_type": "stream",
     "text": [
      "HOOMD-blue 2.8.1 DOUBLE HPMC_MIXED TBB SSE SSE2 SSE3 \n",
      "Compiled: 11/26/2019\n",
      "Copyright (c) 2009-2019 The Regents of the University of Michigan.\n",
      "-----\n",
      "You are using HOOMD-blue. Please cite the following:\n",
      "* J A Anderson, C D Lorenz, and A Travesset. \"General purpose molecular dynamics\n",
      "  simulations fully implemented on graphics processing units\", Journal of\n",
      "  Computational Physics 227 (2008) 5342--5359\n",
      "* J Glaser, T D Nguyen, J A Anderson, P Lui, F Spiga, J A Millan, D C Morse, and\n",
      "  S C Glotzer. \"Strong scaling of general-purpose molecular dynamics simulations\n",
      "  on GPUs\", Computer Physics Communications 192 (2015) 97--107\n",
      "-----\n",
      "HOOMD-blue is running on the CPU\n",
      "notice(2): Group \"all\" created containing 1010 particles\n",
      "notice(2): constrain.rigid(): Creating 1000 rigid bodies (adding 8000 particles)\n",
      "-----\n",
      "You are using tree neighbor lists. Please cite the following:\n",
      "* M P Howard, J A Anderson, A Nikoubashman, S C Glotzer, and A Z\n",
      "  Panagiotopoulos. \"Efficient neighbor list calculation for molecular simulation\n",
      "  of colloidal systems using graphics processing units\", Computer Physics\n",
      "  Communications 203 (2016) 45--52\n",
      "-----\n",
      "notice(2): Group \"Nano_Particles\" created containing 10 particles\n",
      "notice(2): Group \"rigid_center\" created containing 1000 particles\n",
      "notice(2): Group \"NP_Mes\" created containing 1010 particles\n"
     ]
    }
   ],
   "source": [
    "#-----Start from a gsd file\n",
    "\n",
    "hoomd.context.initialize(\"--mode=cpu\", memory_traceback = True);\n",
    "\n",
    "#-----Select the trayectory of the center of mass of particles\n",
    "\n",
    "system = hoomd.init.read_gsd(ramp_file,frame = -1)\n",
    "\n",
    "#-----Define each rigid body type in the local coordinate system of the body.\n",
    "\n",
    "rigid = hoomd.md.constrain.rigid();\n",
    "rigid.set_param('M', \n",
    "                types=['A']*8,\n",
    "                positions=[(-4,0,0),(-3,0,0),(-2,0,0),(-1,0,0),\n",
    "                           (1,0,0),(2,0,0),(3,0,0),(4,0,0)]);\n",
    "\n",
    "#-----Instruct the rigid constraint to create the constituent particles\n",
    "\n",
    "rigid.create_bodies();\n",
    "\n",
    "#-----Define the potential energy\n",
    "\n",
    "nl = hoomd.md.nlist.tree()\n",
    "\n",
    "lj = hoomd.md.pair.lj(r_cut = 3.5, nlist=nl)\n",
    "lj.set_params(mode='shift')\n",
    "\n",
    "#-----Define interaction with species in the binary mixture\n",
    "\n",
    "lj.pair_coeff.set('NP','NP', epsilon = 1.0, sigma = 5.0);\n",
    "lj.pair_coeff.set('M' ,'M' , epsilon = 1.0, sigma = 1.0);\n",
    "lj.pair_coeff.set('A' ,'A' , epsilon = 1.0, sigma = 1.0);\n",
    "lj.pair_coeff.set('M' ,'A' , epsilon = 1.0, sigma = 1.0);\n",
    "lj.pair_coeff.set('NP','M' , epsilon = 1.0, sigma = 3.0);\n",
    "lj.pair_coeff.set('NP','A' , epsilon = 1.0, sigma = 3.0);\n",
    "\n",
    "#-----Select an standard integrator.\n",
    "\n",
    "hoomd.md.integrate.mode_standard(dt = 0.005);\n",
    "\n",
    "#------Define some groups and make their union.\n",
    "\n",
    "nanoparticles = hoomd.group.type(name = 'Nano_Particles', type = 'NP');\n",
    "mesogens = hoomd.group.rigid_center();\n",
    "groupNP_mes = hoomd.group.union(name = \"NP_Mes\", a = nanoparticles, b = mesogens);\n",
    "\n",
    "#-----Integrate using NPT\n",
    "\n",
    "pressure = hoomd.variant.linear_interp(points = [(0,p_prev), (steps_ramp, p_new)])\n",
    "npt = hoomd.md.integrate.npt(group = groupNP_mes, kT = temp, tau = 1.0, tauP = 1.0, P = pressure);\n",
    "npt.randomize_velocities(seed = 42)\n",
    "\n",
    "#-----Define los archivos en los que se guardará la información de la simulación. \n",
    "\n",
    "log_file = \"T_\" + str(temp) + \"_P_\" + str(p_new) + \"_ramp.log\"\n",
    "gsd_file = \"T_\" + str(temp) + \"_P_\" + str(p_new) + \"_ramp.gsd\" \n",
    "meso_gsd_file = \"T_CM&NP_\" + str(temp) + \"_P_\" + str(p_new) + \"_ramp.gsd\"\n",
    "\n",
    "log = hoomd.analyze.log(filename = log_file,\n",
    "                         quantities = ['num_particles',\n",
    "                                     'ndof',\n",
    "                                     'translational_ndof',\n",
    "                                     'rotational_ndof',\n",
    "                                     'potential_energy',\n",
    "                                     'kinetic_energy',\n",
    "                                     'translational_kinetic_energy',\n",
    "                                     'rotational_kinetic_energy',\n",
    "                                     'temperature',\n",
    "                                     'pressure',\n",
    "                                      'volume'],\n",
    "                         period = 1e3,\n",
    "                         overwrite = True);\n",
    "gsd = hoomd.dump.gsd(gsd_file,\n",
    "               period = 1e3,\n",
    "               group = hoomd.group.all(),\n",
    "               overwrite = True); \n",
    "meso_gsd = hoomd.dump.gsd(meso_gsd_file,\n",
    "               period = 1e3,\n",
    "               group = groupNP_mes,\n",
    "               overwrite = True);"
   ]
  },
  {
   "cell_type": "code",
   "execution_count": 5,
   "metadata": {
    "scrolled": true
   },
   "outputs": [
    {
     "name": "stdout",
     "output_type": "stream",
     "text": [
      "notice(2): -- Neighborlist exclusion statistics -- :\n",
      "notice(2): Particles with 0 exclusions             : 9010\n",
      "notice(2): Neighbors included by diameter          : no\n",
      "notice(2): Neighbors excluded when in the same body: yes\n",
      "** starting run **\n",
      "Time 00:00:10 | Step 49341 / 74000 | TPS 33.9797 | ETA 00:12:05\n",
      "Time 00:00:20 | Step 49694 / 74000 | TPS 35.282 | ETA 00:11:28\n",
      "Time 00:00:30 | Step 50055 / 74000 | TPS 35.9928 | ETA 00:11:05\n",
      "Time 00:00:40 | Step 50463 / 74000 | TPS 40.6928 | ETA 00:09:38\n",
      "Time 00:00:50 | Step 50859 / 74000 | TPS 39.5004 | ETA 00:09:45\n",
      "Time 00:01:00 | Step 51227 / 74000 | TPS 36.6516 | ETA 00:10:21\n",
      "Time 00:01:10 | Step 51609 / 74000 | TPS 38.0576 | ETA 00:09:48\n",
      "Time 00:01:20 | Step 51990 / 74000 | TPS 38.0732 | ETA 00:09:38\n",
      "Time 00:01:30 | Step 52340 / 74000 | TPS 34.9758 | ETA 00:10:19\n",
      "Time 00:01:40 | Step 52711 / 74000 | TPS 36.9422 | ETA 00:09:36\n",
      "Time 00:01:50 | Step 53099 / 74000 | TPS 38.7572 | ETA 00:08:59\n",
      "Time 00:02:00 | Step 53465 / 74000 | TPS 36.5391 | ETA 00:09:22\n",
      "Time 00:02:10 | Step 53841 / 74000 | TPS 37.5162 | ETA 00:08:57\n",
      "Time 00:02:20 | Step 54237 / 74000 | TPS 39.4542 | ETA 00:08:20\n",
      "Time 00:02:30 | Step 54639 / 74000 | TPS 40.0601 | ETA 00:08:03\n",
      "Time 00:02:40 | Step 55011 / 74000 | TPS 37.1346 | ETA 00:08:31\n",
      "Time 00:02:50 | Step 55393 / 74000 | TPS 38.0337 | ETA 00:08:09\n",
      "Time 00:03:00 | Step 55775 / 74000 | TPS 38.1815 | ETA 00:07:57\n",
      "Time 00:03:10 | Step 56155 / 74000 | TPS 37.8749 | ETA 00:07:51\n",
      "Time 00:03:20 | Step 56522 / 74000 | TPS 36.6899 | ETA 00:07:56\n",
      "Time 00:03:30 | Step 56883 / 74000 | TPS 35.9368 | ETA 00:07:56\n",
      "Time 00:03:40 | Step 57259 / 74000 | TPS 37.5642 | ETA 00:07:25\n",
      "Time 00:03:50 | Step 57615 / 74000 | TPS 35.5139 | ETA 00:07:41\n",
      "Time 00:04:00 | Step 57957 / 74000 | TPS 34.0556 | ETA 00:07:51\n",
      "Time 00:04:10 | Step 58301 / 74000 | TPS 34.3755 | ETA 00:07:36\n",
      "Time 00:04:20 | Step 58662 / 74000 | TPS 36.0847 | ETA 00:07:05\n",
      "Time 00:04:30 | Step 59033 / 74000 | TPS 36.996 | ETA 00:06:44\n",
      "Time 00:04:40 | Step 59328 / 74000 | TPS 29.4846 | ETA 00:08:17\n",
      "Time 00:04:50 | Step 59621 / 74000 | TPS 29.1583 | ETA 00:08:13\n",
      "Time 00:05:00 | Step 59969 / 74000 | TPS 34.7614 | ETA 00:06:43\n",
      "Time 00:05:10 | Step 60325 / 74000 | TPS 35.4408 | ETA 00:06:25\n",
      "Time 00:05:20 | Step 60673 / 74000 | TPS 34.6663 | ETA 00:06:24\n",
      "Time 00:05:30 | Step 61001 / 74000 | TPS 32.578 | ETA 00:06:39\n",
      "Time 00:05:40 | Step 61317 / 74000 | TPS 31.4998 | ETA 00:06:42\n",
      "Time 00:05:50 | Step 61613 / 74000 | TPS 29.599 | ETA 00:06:58\n",
      "Time 00:06:00 | Step 61920 / 74000 | TPS 30.6985 | ETA 00:06:33\n",
      "Time 00:06:10 | Step 62220 / 74000 | TPS 29.9574 | ETA 00:06:33\n",
      "Time 00:06:20 | Step 62527 / 74000 | TPS 30.5818 | ETA 00:06:15\n",
      "Time 00:06:31 | Step 62879 / 74000 | TPS 35.1211 | ETA 00:05:16\n",
      "Time 00:06:41 | Step 63207 / 74000 | TPS 32.6672 | ETA 00:05:30\n",
      "Time 00:06:51 | Step 63577 / 74000 | TPS 36.9703 | ETA 00:04:41\n",
      "Time 00:07:01 | Step 63927 / 74000 | TPS 34.9937 | ETA 00:04:47\n",
      "Time 00:07:11 | Step 64299 / 74000 | TPS 37.0645 | ETA 00:04:21\n",
      "Time 00:07:21 | Step 64673 / 74000 | TPS 37.2867 | ETA 00:04:10\n",
      "Time 00:07:31 | Step 65047 / 74000 | TPS 37.3604 | ETA 00:03:59\n",
      "Time 00:07:41 | Step 65415 / 74000 | TPS 36.7487 | ETA 00:03:53\n",
      "Time 00:07:51 | Step 65783 / 74000 | TPS 36.6862 | ETA 00:03:43\n",
      "Time 00:08:01 | Step 66155 / 74000 | TPS 37.0833 | ETA 00:03:31\n",
      "Time 00:08:11 | Step 66495 / 74000 | TPS 33.9808 | ETA 00:03:40\n",
      "Time 00:08:21 | Step 66869 / 74000 | TPS 37.3283 | ETA 00:03:11\n",
      "Time 00:08:31 | Step 67249 / 74000 | TPS 37.9796 | ETA 00:02:57\n",
      "Time 00:08:41 | Step 67614 / 74000 | TPS 36.4999 | ETA 00:02:54\n",
      "Time 00:08:51 | Step 67980 / 74000 | TPS 36.5722 | ETA 00:02:44\n",
      "Time 00:09:01 | Step 68347 / 74000 | TPS 36.5666 | ETA 00:02:34\n",
      "Time 00:09:11 | Step 68715 / 74000 | TPS 36.6674 | ETA 00:02:24\n",
      "Time 00:09:21 | Step 69083 / 74000 | TPS 36.7136 | ETA 00:02:13\n",
      "Time 00:09:31 | Step 69427 / 74000 | TPS 34.388 | ETA 00:02:12\n",
      "Time 00:09:41 | Step 69759 / 74000 | TPS 33.1312 | ETA 00:02:08\n",
      "Time 00:09:51 | Step 70073 / 74000 | TPS 31.292 | ETA 00:02:05\n",
      "Time 00:10:01 | Step 70399 / 74000 | TPS 32.4435 | ETA 00:01:50\n",
      "Time 00:10:11 | Step 70755 / 74000 | TPS 35.5623 | ETA 00:01:31\n",
      "Time 00:10:21 | Step 71063 / 74000 | TPS 30.791 | ETA 00:01:35\n",
      "Time 00:10:31 | Step 71408 / 74000 | TPS 34.4984 | ETA 00:01:15\n",
      "Time 00:10:41 | Step 71747 / 74000 | TPS 33.866 | ETA 00:01:06\n",
      "Time 00:10:51 | Step 72059 / 74000 | TPS 31.1768 | ETA 00:01:02\n",
      "Time 00:11:01 | Step 72409 / 74000 | TPS 34.9025 | ETA 00:00:45\n",
      "Time 00:11:11 | Step 72759 / 74000 | TPS 34.8639 | ETA 00:00:35\n",
      "Time 00:11:21 | Step 73109 / 74000 | TPS 34.8938 | ETA 00:00:25\n",
      "Time 00:11:31 | Step 73456 / 74000 | TPS 34.6874 | ETA 00:00:15\n",
      "Time 00:11:41 | Step 73785 / 74000 | TPS 32.8081 | ETA 00:00:06\n",
      "Time 00:11:48 | Step 74000 / 74000 | TPS 31.5893 | ETA 00:00:00\n",
      "Average TPS: 35.2919\n",
      "---------\n",
      "-- Neighborlist stats:\n",
      "12280 normal updates / 251 forced updates / 0 dangerous updates\n",
      "n_neigh_min: 0 / n_neigh_max: 81 / n_neigh_avg: 28.8516\n",
      "shortest rebuild period: 1\n",
      "notice(2): Total amount of managed memory allocated through Global[Array,Vector]: 0B\n",
      "notice(2): Actual allocation sizes may be larger by up to the OS page size due to alignment.\n",
      "notice(2): List of memory allocations and last 3 functions called at time of (re-)allocation\n",
      "** run complete **\n"
     ]
    }
   ],
   "source": [
    "#-----Run the simulation.\n",
    "\n",
    "hoomd.run(run_time)"
   ]
  },
  {
   "cell_type": "code",
   "execution_count": 6,
   "metadata": {},
   "outputs": [],
   "source": [
    "#-----Get density.\n",
    "\n",
    "meta = system.get_metadata()"
   ]
  },
  {
   "cell_type": "code",
   "execution_count": 7,
   "metadata": {},
   "outputs": [],
   "source": [
    "#-----Get volume.\n",
    "\n",
    "volume = system.box.get_volume()"
   ]
  }
 ],
 "metadata": {
  "kernelspec": {
   "display_name": "Python 3",
   "language": "python",
   "name": "python3"
  },
  "language_info": {
   "codemirror_mode": {
    "name": "ipython",
    "version": 3
   },
   "file_extension": ".py",
   "mimetype": "text/x-python",
   "name": "python",
   "nbconvert_exporter": "python",
   "pygments_lexer": "ipython3",
   "version": "3.7.3"
  }
 },
 "nbformat": 4,
 "nbformat_minor": 4
}
