{
 "cells": [
  {
   "cell_type": "markdown",
   "metadata": {},
   "source": [
    "# Mesogens with NP | Pressure Ramps"
   ]
  },
  {
   "cell_type": "markdown",
   "metadata": {},
   "source": [
    "## Pressure: 2.5 -> 2.7"
   ]
  },
  {
   "cell_type": "markdown",
   "metadata": {},
   "source": [
    "### Date: 12/17/19 | System P = 3.3, Expected value of $T_c$ : 9.91"
   ]
  },
  {
   "cell_type": "code",
   "execution_count": 1,
   "metadata": {},
   "outputs": [],
   "source": [
    "#-----Importa los paquetes esenciales para correr la simulación.\n",
    "\n",
    "from __future__ import division\n",
    "import hoomd\n",
    "import hoomd.md"
   ]
  },
  {
   "cell_type": "code",
   "execution_count": 2,
   "metadata": {},
   "outputs": [],
   "source": [
    "#-----Define important variables\n",
    "\n",
    "p_prev = 2.5;\n",
    "p_new = 2.7;\n",
    "temp = 9.0;\n",
    "steps_ramp = 1e4;\n",
    "run_time = steps_ramp;"
   ]
  },
  {
   "cell_type": "code",
   "execution_count": 3,
   "metadata": {},
   "outputs": [],
   "source": [
    "#-----Declare the file from wich we'll extract the configuration of the system.\n",
    "\n",
    "ramp_file = \"T_CM&NP_\" + str(temp) + \"_P_\" + str(p_prev) + \"_ramp.gsd\""
   ]
  },
  {
   "cell_type": "code",
   "execution_count": 4,
   "metadata": {},
   "outputs": [
    {
     "name": "stdout",
     "output_type": "stream",
     "text": [
      "HOOMD-blue 2.7.0 DOUBLE HPMC_MIXED TBB SSE SSE2 SSE3 \n",
      "Compiled: 10/02/2019\n",
      "Copyright (c) 2009-2019 The Regents of the University of Michigan.\n",
      "-----\n",
      "You are using HOOMD-blue. Please cite the following:\n",
      "* J A Anderson, C D Lorenz, and A Travesset. \"General purpose molecular dynamics\n",
      "  simulations fully implemented on graphics processing units\", Journal of\n",
      "  Computational Physics 227 (2008) 5342--5359\n",
      "* J Glaser, T D Nguyen, J A Anderson, P Liu, F Spiga, J A Millan, D C Morse, and\n",
      "  S C Glotzer. \"Strong scaling of general-purpose molecular dynamics simulations\n",
      "  on GPUs\", Computer Physics Communications 192 (2015) 97--107\n",
      "-----\n",
      "HOOMD-blue is running on the CPU\n",
      "notice(2): Group \"all\" created containing 1010 particles\n",
      "notice(2): constrain.rigid(): Creating 1000 rigid bodies (adding 8000 particles)\n",
      "-----\n",
      "You are using tree neighbor lists. Please cite the following:\n",
      "* M P Howard, J A Anderson, A Nikoubashman, S C Glotzer, and A Z\n",
      "  Panagiotopoulos. \"Efficient neighbor list calculation for molecular simulation\n",
      "  of colloidal systems using graphics processing units\", Computer Physics\n",
      "  Communications 203 (2016) 45--52\n",
      "-----\n",
      "notice(2): Group \"Nano_Particles\" created containing 10 particles\n",
      "notice(2): Group \"rigid_center\" created containing 1000 particles\n",
      "notice(2): Group \"NP_Mes\" created containing 1010 particles\n"
     ]
    }
   ],
   "source": [
    "#-----Start from a gsd file\n",
    "\n",
    "hoomd.context.initialize(\"--mode=cpu\", memory_traceback = True);\n",
    "\n",
    "#-----Select the trayectory of the center of mass of particles\n",
    "\n",
    "system = hoomd.init.read_gsd(ramp_file,frame = -1)\n",
    "\n",
    "#-----Define each rigid body type in the local coordinate system of the body.\n",
    "\n",
    "rigid = hoomd.md.constrain.rigid();\n",
    "rigid.set_param('M', \n",
    "                types=['A']*8,\n",
    "                positions=[(-4,0,0),(-3,0,0),(-2,0,0),(-1,0,0),\n",
    "                           (1,0,0),(2,0,0),(3,0,0),(4,0,0)]);\n",
    "\n",
    "#-----Instruct the rigid constraint to create the constituent particles\n",
    "\n",
    "rigid.create_bodies();\n",
    "\n",
    "#-----Define the potential energy\n",
    "\n",
    "nl = hoomd.md.nlist.tree()\n",
    "\n",
    "lj = hoomd.md.pair.lj(r_cut = 3.5, nlist=nl)\n",
    "lj.set_params(mode='shift')\n",
    "\n",
    "#-----Define interaction with species in the binary mixture\n",
    "\n",
    "lj.pair_coeff.set('NP','NP', epsilon = 1.0, sigma = 5.0);\n",
    "lj.pair_coeff.set('M' ,'M' , epsilon = 1.0, sigma = 1.0);\n",
    "lj.pair_coeff.set('A' ,'A' , epsilon = 1.0, sigma = 1.0);\n",
    "lj.pair_coeff.set('M' ,'A' , epsilon = 1.0, sigma = 1.0);\n",
    "lj.pair_coeff.set('NP','M' , epsilon = 1.0, sigma = 3.0);\n",
    "lj.pair_coeff.set('NP','A' , epsilon = 1.0, sigma = 3.0);\n",
    "\n",
    "#-----Select an standard integrator.\n",
    "\n",
    "hoomd.md.integrate.mode_standard(dt = 0.005);\n",
    "\n",
    "#------Define some groups and make their union.\n",
    "\n",
    "nanoparticles = hoomd.group.type(name = 'Nano_Particles', type = 'NP');\n",
    "mesogens = hoomd.group.rigid_center();\n",
    "groupNP_mes = hoomd.group.union(name = \"NP_Mes\", a = nanoparticles, b = mesogens);\n",
    "\n",
    "#-----Integrate using NPT\n",
    "\n",
    "pressure = hoomd.variant.linear_interp(points = [(0,p_prev), (steps_ramp, p_new)])\n",
    "npt = hoomd.md.integrate.npt(group = groupNP_mes, kT = temp, tau = 1.0, tauP = 1.5, P = pressure);\n",
    "npt.randomize_velocities(23)\n",
    "\n",
    "#-----Define los archivos en los que se guardará la información de la simulación. \n",
    "\n",
    "log_file = \"T_\" + str(temp) + \"_P_\" + str(p_new) + \"_ramp.log\"\n",
    "gsd_file = \"T_\" + str(temp) + \"_P_\" + str(p_new) + \"_ramp.gsd\" \n",
    "meso_gsd_file = \"T_CM&NP_\" + str(temp) + \"_P_\" + str(p_new) + \"_ramp.gsd\"\n",
    "\n",
    "log = hoomd.analyze.log(filename = log_file,\n",
    "                         quantities = ['num_particles',\n",
    "                                     'ndof',\n",
    "                                     'translational_ndof',\n",
    "                                     'rotational_ndof',\n",
    "                                     'potential_energy',\n",
    "                                     'kinetic_energy',\n",
    "                                     'translational_kinetic_energy',\n",
    "                                     'rotational_kinetic_energy',\n",
    "                                     'temperature',\n",
    "                                     'pressure',\n",
    "                                      'volume'],\n",
    "                         period = 1e3,\n",
    "                         overwrite = True);\n",
    "gsd = hoomd.dump.gsd(gsd_file,\n",
    "               period = 1e3,\n",
    "               group = hoomd.group.all(),\n",
    "               overwrite = True); \n",
    "meso_gsd = hoomd.dump.gsd(meso_gsd_file,\n",
    "               period = 1e3,\n",
    "               group = groupNP_mes,\n",
    "               overwrite = True);"
   ]
  },
  {
   "cell_type": "code",
   "execution_count": 5,
   "metadata": {
    "scrolled": true
   },
   "outputs": [
    {
     "name": "stdout",
     "output_type": "stream",
     "text": [
      "notice(2): -- Neighborlist exclusion statistics -- :\n",
      "notice(2): Particles with 0 exclusions             : 9010\n",
      "notice(2): Neighbors included by diameter          : no\n",
      "notice(2): Neighbors excluded when in the same body: yes\n",
      "** starting run **\n",
      "Time 00:00:10 | Step 264195 / 274000 | TPS 19.3647 | ETA 00:08:26\n",
      "Time 00:00:20 | Step 264385 / 274000 | TPS 18.933 | ETA 00:08:27\n",
      "Time 00:00:30 | Step 264568 / 274000 | TPS 18.2966 | ETA 00:08:35\n",
      "Time 00:00:40 | Step 264748 / 274000 | TPS 17.9882 | ETA 00:08:34\n",
      "Time 00:00:50 | Step 264927 / 274000 | TPS 17.7617 | ETA 00:08:30\n",
      "Time 00:01:00 | Step 265117 / 274000 | TPS 18.9864 | ETA 00:07:47\n",
      "Time 00:01:10 | Step 265303 / 274000 | TPS 18.5658 | ETA 00:07:48\n",
      "Time 00:01:20 | Step 265488 / 274000 | TPS 18.4994 | ETA 00:07:40\n",
      "Time 00:01:30 | Step 265653 / 274000 | TPS 16.401 | ETA 00:08:28\n",
      "Time 00:01:40 | Step 265837 / 274000 | TPS 18.2872 | ETA 00:07:26\n",
      "Time 00:01:50 | Step 266030 / 274000 | TPS 19.2955 | ETA 00:06:53\n",
      "Time 00:02:00 | Step 266206 / 274000 | TPS 17.5992 | ETA 00:07:22\n",
      "Time 00:02:10 | Step 266383 / 274000 | TPS 17.5749 | ETA 00:07:13\n",
      "Time 00:02:20 | Step 266558 / 274000 | TPS 17.4768 | ETA 00:07:05\n",
      "Time 00:02:30 | Step 266739 / 274000 | TPS 17.9943 | ETA 00:06:43\n",
      "Time 00:02:40 | Step 266921 / 274000 | TPS 18.1895 | ETA 00:06:29\n",
      "Time 00:02:50 | Step 267111 / 274000 | TPS 18.903 | ETA 00:06:04\n",
      "Time 00:03:00 | Step 267298 / 274000 | TPS 18.576 | ETA 00:06:00\n",
      "Time 00:03:10 | Step 267497 / 274000 | TPS 19.8974 | ETA 00:05:26\n",
      "Time 00:03:20 | Step 267679 / 274000 | TPS 18.1555 | ETA 00:05:48\n",
      "Time 00:03:30 | Step 267861 / 274000 | TPS 18.1481 | ETA 00:05:38\n",
      "Time 00:03:40 | Step 268047 / 274000 | TPS 18.4776 | ETA 00:05:22\n",
      "Time 00:03:50 | Step 268221 / 274000 | TPS 17.3917 | ETA 00:05:32\n",
      "Time 00:04:00 | Step 268405 / 274000 | TPS 18.3849 | ETA 00:05:04\n",
      "Time 00:04:10 | Step 268589 / 274000 | TPS 18.2977 | ETA 00:04:55\n",
      "Time 00:04:20 | Step 268777 / 274000 | TPS 18.7297 | ETA 00:04:38\n",
      "Time 00:04:30 | Step 268961 / 274000 | TPS 18.2513 | ETA 00:04:36\n",
      "Time 00:04:41 | Step 269137 / 274000 | TPS 17.526 | ETA 00:04:37\n",
      "Time 00:04:51 | Step 269317 / 274000 | TPS 17.8945 | ETA 00:04:21\n",
      "Time 00:05:01 | Step 269502 / 274000 | TPS 18.4875 | ETA 00:04:03\n",
      "Time 00:05:11 | Step 269689 / 274000 | TPS 18.6813 | ETA 00:03:50\n",
      "Time 00:05:21 | Step 269875 / 274000 | TPS 18.4463 | ETA 00:03:43\n",
      "Time 00:05:31 | Step 270062 / 274000 | TPS 18.6706 | ETA 00:03:30\n",
      "Time 00:05:41 | Step 270247 / 274000 | TPS 18.4747 | ETA 00:03:23\n",
      "Time 00:05:51 | Step 270441 / 274000 | TPS 19.3354 | ETA 00:03:04\n",
      "Time 00:06:01 | Step 270619 / 274000 | TPS 17.6992 | ETA 00:03:11\n",
      "Time 00:06:11 | Step 270795 / 274000 | TPS 17.5739 | ETA 00:03:02\n",
      "Time 00:06:21 | Step 270970 / 274000 | TPS 17.4974 | ETA 00:02:53\n",
      "Time 00:06:31 | Step 271139 / 274000 | TPS 16.8379 | ETA 00:02:49\n",
      "Time 00:06:41 | Step 271309 / 274000 | TPS 16.8843 | ETA 00:02:39\n",
      "Time 00:06:51 | Step 271491 / 274000 | TPS 18.049 | ETA 00:02:19\n",
      "Time 00:07:01 | Step 271657 / 274000 | TPS 16.5065 | ETA 00:02:21\n",
      "Time 00:07:11 | Step 271837 / 274000 | TPS 17.8505 | ETA 00:02:01\n",
      "Time 00:07:21 | Step 272021 / 274000 | TPS 18.3199 | ETA 00:01:48\n",
      "Time 00:07:31 | Step 272207 / 274000 | TPS 18.4404 | ETA 00:01:37\n",
      "Time 00:07:41 | Step 272392 / 274000 | TPS 18.4739 | ETA 00:01:27\n",
      "Time 00:07:51 | Step 272587 / 274000 | TPS 19.4545 | ETA 00:01:12\n",
      "Time 00:08:01 | Step 272775 / 274000 | TPS 18.7745 | ETA 00:01:05\n",
      "Time 00:08:11 | Step 272947 / 274000 | TPS 17.1986 | ETA 00:01:01\n",
      "Time 00:08:21 | Step 273123 / 274000 | TPS 17.5126 | ETA 00:00:50\n",
      "Time 00:08:31 | Step 273313 / 274000 | TPS 18.9377 | ETA 00:00:36\n",
      "Time 00:08:41 | Step 273499 / 274000 | TPS 18.4319 | ETA 00:00:27\n",
      "Time 00:08:52 | Step 273697 / 274000 | TPS 19.7487 | ETA 00:00:15\n",
      "Time 00:09:02 | Step 273895 / 274000 | TPS 19.6387 | ETA 00:00:05\n",
      "Time 00:09:07 | Step 274000 / 274000 | TPS 20.1676 | ETA 00:00:00\n",
      "Average TPS: 18.273\n",
      "---------\n",
      "-- Neighborlist stats:\n",
      "4916 normal updates / 101 forced updates / 0 dangerous updates\n",
      "n_neigh_min: 0 / n_neigh_max: 126 / n_neigh_avg: 55.7677\n",
      "shortest rebuild period: 1\n",
      "notice(2): Total amount of managed memory allocated through Global[Array,Vector]: 0B\n",
      "notice(2): Actual allocation sizes may be larger by up to the OS page size due to alignment.\n",
      "notice(2): List of memory allocations and last 3 functions called at time of (re-)allocation\n",
      "** run complete **\n"
     ]
    }
   ],
   "source": [
    "#-----Run the simulation.\n",
    "\n",
    "hoomd.run(run_time)"
   ]
  },
  {
   "cell_type": "code",
   "execution_count": 6,
   "metadata": {},
   "outputs": [],
   "source": [
    "#-----Get density.\n",
    "\n",
    "meta = system.get_metadata()"
   ]
  },
  {
   "cell_type": "code",
   "execution_count": 7,
   "metadata": {},
   "outputs": [],
   "source": [
    "#-----Get volume.\n",
    "\n",
    "volume = system.box.get_volume()"
   ]
  }
 ],
 "metadata": {
  "kernelspec": {
   "display_name": "Python 3",
   "language": "python",
   "name": "python3"
  },
  "language_info": {
   "codemirror_mode": {
    "name": "ipython",
    "version": 3
   },
   "file_extension": ".py",
   "mimetype": "text/x-python",
   "name": "python",
   "nbconvert_exporter": "python",
   "pygments_lexer": "ipython3",
   "version": "3.7.3"
  }
 },
 "nbformat": 4,
 "nbformat_minor": 4
}
