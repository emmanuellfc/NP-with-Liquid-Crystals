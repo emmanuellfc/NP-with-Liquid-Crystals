{
 "cells": [
  {
   "cell_type": "markdown",
   "metadata": {},
   "source": [
    "# Mesogens with NP | Pressure Ramps"
   ]
  },
  {
   "cell_type": "markdown",
   "metadata": {},
   "source": [
    "## Pressure: 1.5 -> 1.7"
   ]
  },
  {
   "cell_type": "markdown",
   "metadata": {},
   "source": [
    "### Date: 12/12/19 | System P = 3.3, Expected value of $T_c$ : 9.91"
   ]
  },
  {
   "cell_type": "code",
   "execution_count": 1,
   "metadata": {},
   "outputs": [],
   "source": [
    "#-----Importa los paquetes esenciales para correr la simulación.\n",
    "\n",
    "from __future__ import division\n",
    "import hoomd\n",
    "import hoomd.md"
   ]
  },
  {
   "cell_type": "code",
   "execution_count": 2,
   "metadata": {},
   "outputs": [],
   "source": [
    "#-----Define important variables\n",
    "\n",
    "p_prev = 1.5;\n",
    "p_new = 1.7;\n",
    "temp = 9.0;\n",
    "steps_ramp = 2e4;\n",
    "run_time = steps_ramp;"
   ]
  },
  {
   "cell_type": "code",
   "execution_count": 3,
   "metadata": {},
   "outputs": [],
   "source": [
    "#-----Declare the file from wich we'll extract the configuration of the system.\n",
    "\n",
    "ramp_file = \"T_CM&NP_\" + str(temp) + \"_P_\" + str(p_prev) + \"_ramp.gsd\""
   ]
  },
  {
   "cell_type": "code",
   "execution_count": 4,
   "metadata": {},
   "outputs": [
    {
     "name": "stdout",
     "output_type": "stream",
     "text": [
      "HOOMD-blue 2.7.0 DOUBLE HPMC_MIXED TBB SSE SSE2 SSE3 \n",
      "Compiled: 10/02/2019\n",
      "Copyright (c) 2009-2019 The Regents of the University of Michigan.\n",
      "-----\n",
      "You are using HOOMD-blue. Please cite the following:\n",
      "* J A Anderson, C D Lorenz, and A Travesset. \"General purpose molecular dynamics\n",
      "  simulations fully implemented on graphics processing units\", Journal of\n",
      "  Computational Physics 227 (2008) 5342--5359\n",
      "* J Glaser, T D Nguyen, J A Anderson, P Liu, F Spiga, J A Millan, D C Morse, and\n",
      "  S C Glotzer. \"Strong scaling of general-purpose molecular dynamics simulations\n",
      "  on GPUs\", Computer Physics Communications 192 (2015) 97--107\n",
      "-----\n",
      "HOOMD-blue is running on the CPU\n",
      "notice(2): Group \"all\" created containing 1010 particles\n",
      "notice(2): constrain.rigid(): Creating 1000 rigid bodies (adding 8000 particles)\n",
      "-----\n",
      "You are using tree neighbor lists. Please cite the following:\n",
      "* M P Howard, J A Anderson, A Nikoubashman, S C Glotzer, and A Z\n",
      "  Panagiotopoulos. \"Efficient neighbor list calculation for molecular simulation\n",
      "  of colloidal systems using graphics processing units\", Computer Physics\n",
      "  Communications 203 (2016) 45--52\n",
      "-----\n",
      "notice(2): Group \"Nano_Particles\" created containing 10 particles\n",
      "notice(2): Group \"rigid_center\" created containing 1000 particles\n",
      "notice(2): Group \"NP_Mes\" created containing 1010 particles\n"
     ]
    }
   ],
   "source": [
    "#-----Start from a gsd file\n",
    "\n",
    "hoomd.context.initialize(\"--mode=cpu\", memory_traceback = True);\n",
    "\n",
    "#-----Select the trayectory of the center of mass of particles\n",
    "\n",
    "system = hoomd.init.read_gsd(ramp_file,frame = -1)\n",
    "\n",
    "#-----Define each rigid body type in the local coordinate system of the body.\n",
    "\n",
    "rigid = hoomd.md.constrain.rigid();\n",
    "rigid.set_param('M', \n",
    "                types=['A']*8,\n",
    "                positions=[(-4,0,0),(-3,0,0),(-2,0,0),(-1,0,0),\n",
    "                           (1,0,0),(2,0,0),(3,0,0),(4,0,0)]);\n",
    "\n",
    "#-----Instruct the rigid constraint to create the constituent particles\n",
    "\n",
    "rigid.create_bodies();\n",
    "\n",
    "#-----Define the potential energy\n",
    "\n",
    "nl = hoomd.md.nlist.tree()\n",
    "\n",
    "lj = hoomd.md.pair.lj(r_cut = 3.5, nlist=nl)\n",
    "lj.set_params(mode='shift')\n",
    "\n",
    "#-----Define interaction with species in the binary mixture\n",
    "\n",
    "lj.pair_coeff.set('NP','NP', epsilon = 1.0, sigma = 5.0);\n",
    "lj.pair_coeff.set('M' ,'M' , epsilon = 1.0, sigma = 1.0);\n",
    "lj.pair_coeff.set('A' ,'A' , epsilon = 1.0, sigma = 1.0);\n",
    "lj.pair_coeff.set('M' ,'A' , epsilon = 1.0, sigma = 1.0);\n",
    "lj.pair_coeff.set('NP','M' , epsilon = 1.0, sigma = 3.0);\n",
    "lj.pair_coeff.set('NP','A' , epsilon = 1.0, sigma = 3.0);\n",
    "\n",
    "#-----Select an standard integrator.\n",
    "\n",
    "hoomd.md.integrate.mode_standard(dt = 0.005);\n",
    "\n",
    "#------Define some groups and make their union.\n",
    "\n",
    "nanoparticles = hoomd.group.type(name = 'Nano_Particles', type = 'NP');\n",
    "mesogens = hoomd.group.rigid_center();\n",
    "groupNP_mes = hoomd.group.union(name = \"NP_Mes\", a = nanoparticles, b = mesogens);\n",
    "\n",
    "#-----Integrate using NPT\n",
    "\n",
    "pressure = hoomd.variant.linear_interp(points = [(0,p_prev), (steps_ramp, p_new)])\n",
    "npt = hoomd.md.integrate.npt(group = groupNP_mes, kT = temp, tau = 2.0, tauP = 2.0, P = pressure);\n",
    "npt.randomize_velocities(seed = 42)\n",
    "\n",
    "#-----Define los archivos en los que se guardará la información de la simulación. \n",
    "\n",
    "log_file = \"T_\" + str(temp) + \"_P_\" + str(p_new) + \"_ramp.log\"\n",
    "gsd_file = \"T_\" + str(temp) + \"_P_\" + str(p_new) + \"_ramp.gsd\" \n",
    "meso_gsd_file = \"T_CM&NP_\" + str(temp) + \"_P_\" + str(p_new) + \"_ramp.gsd\"\n",
    "\n",
    "log = hoomd.analyze.log(filename = log_file,\n",
    "                         quantities = ['num_particles',\n",
    "                                     'ndof',\n",
    "                                     'translational_ndof',\n",
    "                                     'rotational_ndof',\n",
    "                                     'potential_energy',\n",
    "                                     'kinetic_energy',\n",
    "                                     'translational_kinetic_energy',\n",
    "                                     'rotational_kinetic_energy',\n",
    "                                     'temperature',\n",
    "                                     'pressure',\n",
    "                                      'volume'],\n",
    "                         period = 1e3,\n",
    "                         overwrite = True);\n",
    "gsd = hoomd.dump.gsd(gsd_file,\n",
    "               period = 1e3,\n",
    "               group = hoomd.group.all(),\n",
    "               overwrite = True); \n",
    "meso_gsd = hoomd.dump.gsd(meso_gsd_file,\n",
    "               period = 1e3,\n",
    "               group = groupNP_mes,\n",
    "               overwrite = True);"
   ]
  },
  {
   "cell_type": "code",
   "execution_count": 5,
   "metadata": {
    "scrolled": true
   },
   "outputs": [
    {
     "name": "stdout",
     "output_type": "stream",
     "text": [
      "notice(2): -- Neighborlist exclusion statistics -- :\n",
      "notice(2): Particles with 0 exclusions             : 9010\n",
      "notice(2): Neighbors included by diameter          : no\n",
      "notice(2): Neighbors excluded when in the same body: yes\n",
      "** starting run **\n",
      "Time 00:00:10 | Step 159250 / 179000 | TPS 24.943 | ETA 00:13:11\n",
      "Time 00:00:20 | Step 159541 / 179000 | TPS 29.0595 | ETA 00:11:09\n",
      "Time 00:00:30 | Step 159833 / 179000 | TPS 29.0516 | ETA 00:10:59\n",
      "Time 00:00:40 | Step 160121 / 179000 | TPS 28.6657 | ETA 00:10:58\n",
      "Time 00:00:50 | Step 160411 / 179000 | TPS 28.8858 | ETA 00:10:43\n",
      "Time 00:01:00 | Step 160699 / 179000 | TPS 28.6924 | ETA 00:10:37\n",
      "Time 00:01:10 | Step 160988 / 179000 | TPS 28.8841 | ETA 00:10:23\n",
      "Time 00:01:20 | Step 161278 / 179000 | TPS 28.9731 | ETA 00:10:11\n",
      "Time 00:01:30 | Step 161567 / 179000 | TPS 28.8238 | ETA 00:10:04\n",
      "Time 00:01:40 | Step 161859 / 179000 | TPS 29.0976 | ETA 00:09:49\n",
      "Time 00:01:50 | Step 162149 / 179000 | TPS 28.9884 | ETA 00:09:41\n",
      "Time 00:02:00 | Step 162439 / 179000 | TPS 28.8464 | ETA 00:09:34\n",
      "Time 00:02:10 | Step 162727 / 179000 | TPS 28.7618 | ETA 00:09:25\n",
      "Time 00:02:20 | Step 163013 / 179000 | TPS 28.5771 | ETA 00:09:19\n",
      "Time 00:02:30 | Step 163299 / 179000 | TPS 28.479 | ETA 00:09:11\n",
      "Time 00:02:40 | Step 163583 / 179000 | TPS 28.3671 | ETA 00:09:03\n",
      "Time 00:02:50 | Step 163861 / 179000 | TPS 27.6836 | ETA 00:09:06\n",
      "Time 00:03:00 | Step 164134 / 179000 | TPS 27.2769 | ETA 00:09:05\n",
      "Time 00:03:10 | Step 164410 / 179000 | TPS 27.5358 | ETA 00:08:49\n",
      "Time 00:03:20 | Step 164673 / 179000 | TPS 26.2586 | ETA 00:09:05\n",
      "Time 00:03:30 | Step 164949 / 179000 | TPS 27.4408 | ETA 00:08:32\n",
      "Time 00:03:40 | Step 165227 / 179000 | TPS 27.7955 | ETA 00:08:15\n",
      "Time 00:03:50 | Step 165499 / 179000 | TPS 27.0791 | ETA 00:08:18\n",
      "Time 00:04:00 | Step 165767 / 179000 | TPS 26.7621 | ETA 00:08:14\n",
      "Time 00:04:10 | Step 166037 / 179000 | TPS 26.8854 | ETA 00:08:02\n",
      "Time 00:04:20 | Step 166299 / 179000 | TPS 26.0553 | ETA 00:08:07\n",
      "Time 00:04:30 | Step 166559 / 179000 | TPS 25.9606 | ETA 00:07:59\n",
      "Time 00:04:40 | Step 166833 / 179000 | TPS 27.2689 | ETA 00:07:26\n",
      "Time 00:04:50 | Step 167111 / 179000 | TPS 27.7401 | ETA 00:07:08\n",
      "Time 00:05:00 | Step 167391 / 179000 | TPS 27.8692 | ETA 00:06:56\n",
      "Time 00:05:10 | Step 167663 / 179000 | TPS 27.1686 | ETA 00:06:57\n",
      "Time 00:05:20 | Step 167927 / 179000 | TPS 26.3873 | ETA 00:06:59\n",
      "Time 00:05:30 | Step 168189 / 179000 | TPS 26.0607 | ETA 00:06:54\n",
      "Time 00:05:40 | Step 168455 / 179000 | TPS 26.5921 | ETA 00:06:36\n",
      "Time 00:05:51 | Step 168725 / 179000 | TPS 26.852 | ETA 00:06:22\n",
      "Time 00:06:01 | Step 168979 / 179000 | TPS 25.3703 | ETA 00:06:34\n",
      "Time 00:06:11 | Step 169191 / 179000 | TPS 21.049 | ETA 00:07:46\n",
      "Time 00:06:21 | Step 169423 / 179000 | TPS 23.012 | ETA 00:06:56\n",
      "Time 00:06:31 | Step 169675 / 179000 | TPS 25.1382 | ETA 00:06:10\n",
      "Time 00:06:41 | Step 169951 / 179000 | TPS 27.481 | ETA 00:05:29\n",
      "Time 00:06:51 | Step 170233 / 179000 | TPS 28.1657 | ETA 00:05:11\n",
      "Time 00:07:01 | Step 170515 / 179000 | TPS 28.0498 | ETA 00:05:02\n",
      "Time 00:07:11 | Step 170795 / 179000 | TPS 27.9336 | ETA 00:04:53\n",
      "Time 00:07:21 | Step 171075 / 179000 | TPS 27.9291 | ETA 00:04:43\n",
      "Time 00:07:31 | Step 171355 / 179000 | TPS 27.8526 | ETA 00:04:34\n",
      "Time 00:07:41 | Step 171627 / 179000 | TPS 27.1768 | ETA 00:04:31\n",
      "Time 00:07:51 | Step 171903 / 179000 | TPS 27.4762 | ETA 00:04:18\n",
      "Time 00:08:01 | Step 172181 / 179000 | TPS 27.7908 | ETA 00:04:05\n",
      "Time 00:08:11 | Step 172443 / 179000 | TPS 26.1679 | ETA 00:04:10\n",
      "Time 00:08:21 | Step 172709 / 179000 | TPS 26.5479 | ETA 00:03:56\n",
      "Time 00:08:31 | Step 172967 / 179000 | TPS 25.7488 | ETA 00:03:54\n",
      "Time 00:08:41 | Step 173230 / 179000 | TPS 26.2841 | ETA 00:03:39\n",
      "Time 00:08:51 | Step 173497 / 179000 | TPS 26.6286 | ETA 00:03:26\n",
      "Time 00:09:01 | Step 173757 / 179000 | TPS 25.8392 | ETA 00:03:22\n",
      "Time 00:09:11 | Step 174024 / 179000 | TPS 26.6916 | ETA 00:03:06\n",
      "Time 00:09:21 | Step 174289 / 179000 | TPS 26.4028 | ETA 00:02:58\n",
      "Time 00:09:31 | Step 174545 / 179000 | TPS 25.5947 | ETA 00:02:54\n",
      "Time 00:09:41 | Step 174801 / 179000 | TPS 25.5213 | ETA 00:02:44\n",
      "Time 00:09:51 | Step 175057 / 179000 | TPS 25.415 | ETA 00:02:35\n",
      "Time 00:10:01 | Step 175319 / 179000 | TPS 26.0469 | ETA 00:02:21\n",
      "Time 00:10:11 | Step 175577 / 179000 | TPS 25.7362 | ETA 00:02:13\n",
      "Time 00:10:21 | Step 175831 / 179000 | TPS 25.3241 | ETA 00:02:05\n",
      "Time 00:10:31 | Step 176087 / 179000 | TPS 25.5198 | ETA 00:01:54\n",
      "Time 00:10:41 | Step 176341 / 179000 | TPS 25.34 | ETA 00:01:44\n",
      "Time 00:10:51 | Step 176597 / 179000 | TPS 25.538 | ETA 00:01:34\n",
      "Time 00:11:02 | Step 176857 / 179000 | TPS 25.9018 | ETA 00:01:22\n",
      "Time 00:11:12 | Step 177115 / 179000 | TPS 25.7644 | ETA 00:01:13\n",
      "Time 00:11:22 | Step 177375 / 179000 | TPS 25.973 | ETA 00:01:02\n",
      "Time 00:11:32 | Step 177637 / 179000 | TPS 25.9967 | ETA 00:00:52\n",
      "Time 00:11:42 | Step 177897 / 179000 | TPS 25.8774 | ETA 00:00:42\n",
      "Time 00:11:52 | Step 178169 / 179000 | TPS 27.0466 | ETA 00:00:30\n",
      "Time 00:12:02 | Step 178441 / 179000 | TPS 27.1781 | ETA 00:00:20\n",
      "Time 00:12:12 | Step 178712 / 179000 | TPS 27.0714 | ETA 00:00:10\n",
      "Time 00:12:22 | Step 178979 / 179000 | TPS 26.6784 | ETA 00:00:00\n",
      "Time 00:12:23 | Step 179000 / 179000 | TPS 27.4429 | ETA 00:00:00\n",
      "Average TPS: 26.9191\n",
      "---------\n",
      "-- Neighborlist stats:\n",
      "9815 normal updates / 201 forced updates / 0 dangerous updates\n",
      "n_neigh_min: 0 / n_neigh_max: 110 / n_neigh_avg: 45.4372\n",
      "shortest rebuild period: 1\n",
      "notice(2): Total amount of managed memory allocated through Global[Array,Vector]: 0B\n",
      "notice(2): Actual allocation sizes may be larger by up to the OS page size due to alignment.\n",
      "notice(2): List of memory allocations and last 3 functions called at time of (re-)allocation\n",
      "** run complete **\n"
     ]
    }
   ],
   "source": [
    "#-----Run the simulation.\n",
    "\n",
    "hoomd.run(run_time)"
   ]
  },
  {
   "cell_type": "code",
   "execution_count": 6,
   "metadata": {},
   "outputs": [],
   "source": [
    "#-----Get density.\n",
    "\n",
    "meta = system.get_metadata()"
   ]
  },
  {
   "cell_type": "code",
   "execution_count": 7,
   "metadata": {},
   "outputs": [],
   "source": [
    "#-----Get volume.\n",
    "\n",
    "volume = system.box.get_volume()"
   ]
  }
 ],
 "metadata": {
  "kernelspec": {
   "display_name": "Python 3",
   "language": "python",
   "name": "python3"
  },
  "language_info": {
   "codemirror_mode": {
    "name": "ipython",
    "version": 3
   },
   "file_extension": ".py",
   "mimetype": "text/x-python",
   "name": "python",
   "nbconvert_exporter": "python",
   "pygments_lexer": "ipython3",
   "version": "3.7.3"
  }
 },
 "nbformat": 4,
 "nbformat_minor": 4
}
