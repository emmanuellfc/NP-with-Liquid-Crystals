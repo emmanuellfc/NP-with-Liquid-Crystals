{
 "cells": [
  {
   "cell_type": "code",
   "execution_count": null,
   "metadata": {},
   "outputs": [],
   "source": []
  },
  {
   "cell_type": "code",
   "execution_count": null,
   "metadata": {},
   "outputs": [],
   "source": []
  },
  {
   "cell_type": "code",
   "execution_count": null,
   "metadata": {},
   "outputs": [],
   "source": []
  },
  {
   "cell_type": "code",
   "execution_count": null,
   "metadata": {},
   "outputs": [],
   "source": []
  },
  {
   "cell_type": "code",
   "execution_count": 1,
   "metadata": {},
   "outputs": [],
   "source": [
    "import numpy as np\n",
    "import matplotlib.pyplot as plt\n",
    "import seaborn as sns; sns.set_style('whitegrid')"
   ]
  },
  {
   "cell_type": "code",
   "execution_count": 2,
   "metadata": {},
   "outputs": [],
   "source": [
    "# Temperature Data\n",
    "\n",
    "temp = np.array([6.0, 6.2, \n",
    "                 6.4, 6.6, \n",
    "                 6.8, 7.0, \n",
    "                 7.2\n",
    "                ]);\n",
    "\n",
    "# Order Parameters\n",
    "p2_np_data = np.array([0.9271709162479053, 0.9109425066481746, \n",
    "                       0.8879805954091952, 0.8593640107791749, \n",
    "                       0.8354747438752427, 0.7256010071796918, \n",
    "                       0.4827319485233413]);\n",
    "\n",
    "p2_error_NP  = 0.1 * np.array([1,1,1,1,1,1,1]);"
   ]
  },
  {
   "cell_type": "code",
   "execution_count": 3,
   "metadata": {},
   "outputs": [
    {
     "data": {
      "image/png": "[encoded data removed]",
      "text/plain": [
       "<Figure size 720x432 with 1 Axes>"
      ]
     },
     "metadata": {
      "needs_background": "light"
     },
     "output_type": "display_data"
    }
   ],
   "source": [
    "# Defining the figure and figure size\n",
    "fig, ax = plt.subplots(figsize = (10, 6))\n",
    "\n",
    "# Plotting the error bars\n",
    "ax.errorbar(temp, p2_np_data, yerr = p2_error_NP, label = 'Datos',fmt='o', ecolor='red',\n",
    "            color='steelblue', capsize=2)\n",
    "\n",
    "# Adding a Plot\n",
    "#ax.plot(t, p_2_pure, label='Ajuste', color = 'green');\n",
    "\n",
    "# Adding plotting parameters\n",
    "ax.set_title('System, P = 1.8', fontsize=14)\n",
    "ax.set_xlabel('Temperature', fontsize=12);\n",
    "ax.set_ylabel('Order Parameter', fontsize=12);\n",
    "ax.legend();\n",
    "fig.savefig(\"P_18_system.png\",dpi = 200, format = \"png\")"
   ]
  },
  {
   "cell_type": "code",
   "execution_count": null,
   "metadata": {},
   "outputs": [],
   "source": []
  }
 ],
 "metadata": {
  "kernelspec": {
   "display_name": "Python 3",
   "language": "python",
   "name": "python3"
  },
  "language_info": {
   "codemirror_mode": {
    "name": "ipython",
    "version": 3
   },
   "file_extension": ".py",
   "mimetype": "text/x-python",
   "name": "python",
   "nbconvert_exporter": "python",
   "pygments_lexer": "ipython3",
   "version": "3.7.3"
  }
 },
 "nbformat": 4,
 "nbformat_minor": 4
}
