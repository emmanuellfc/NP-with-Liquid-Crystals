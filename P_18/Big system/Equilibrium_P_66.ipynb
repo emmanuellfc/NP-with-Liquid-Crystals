{
 "cells": [
  {
   "cell_type": "markdown",
   "metadata": {},
   "source": [
    "# Mesogens with NP | Equilibrium"
   ]
  },
  {
   "cell_type": "markdown",
   "metadata": {},
   "source": [
    "## Temperature 6.6| GPU Run"
   ]
  },
  {
   "cell_type": "markdown",
   "metadata": {},
   "source": [
    "### Date: 12/10/2019 | System P = 1.8, Expected value of $T_c$ : 7.09 |"
   ]
  },
  {
   "cell_type": "code",
   "execution_count": null,
   "metadata": {},
   "outputs": [],
   "source": [
    "from __future__ import division\n",
    "import hoomd\n",
    "import hoomd.md"
   ]
  },
  {
   "cell_type": "code",
   "execution_count": null,
   "metadata": {},
   "outputs": [],
   "source": [
    "#-----Define relevant variables\n",
    "p_max = 1.8;\n",
    "t_max = 6.6;\n",
    "copies = 3;\n",
    "steps_run = 1e5;\n",
    "init_file = \"T_CM&NP_\" + str(t_max) + \"_P_\" + str(p_max) + \"_ramp.gsd\""
   ]
  },
  {
   "cell_type": "code",
   "execution_count": null,
   "metadata": {},
   "outputs": [],
   "source": [
    "#-----Define a simulation context\n",
    "\n",
    "hoomd.context.initialize(\"--mode=gpu\");"
   ]
  },
  {
   "cell_type": "code",
   "execution_count": null,
   "metadata": {},
   "outputs": [],
   "source": [
    "#-----Extract the configuration of the system and expand the system\n",
    "\n",
    "snap = hoomd.data.gsd_snapshot(init_file, frame = -1);\n",
    "snap.replicate(copies,copies,copies);\n",
    "system = hoomd.init.read_snapshot(snap);"
   ]
  },
  {
   "cell_type": "code",
   "execution_count": null,
   "metadata": {},
   "outputs": [],
   "source": [
    "#-----Define each mesogen in the local reference frame of each center of mass\n",
    "rigid = hoomd.md.constrain.rigid();\n",
    "rigid.set_param('M', \n",
    "               types = ['A']*8,\n",
    "               positions = [(-4,0,0),(-3,0,0),(-2,0,0),(-1,0,0),\n",
    "                            (1,0,0),(2,0,0),(3,0,0),(4,0,0)]);"
   ]
  },
  {
   "cell_type": "code",
   "execution_count": null,
   "metadata": {},
   "outputs": [],
   "source": [
    "#-----Declare molecules as rigid bodies\n",
    "rigid.create_bodies();"
   ]
  },
  {
   "cell_type": "code",
   "execution_count": null,
   "metadata": {},
   "outputs": [],
   "source": [
    "#-----Define the potential energy\n",
    "nl = hoomd.md.nlist.tree();\n",
    "lj = hoomd.md.pair.lj(r_cut = 3.5, nlist = nl);\n",
    "lj.set_params(mode = 'shift')"
   ]
  },
  {
   "cell_type": "code",
   "execution_count": null,
   "metadata": {},
   "outputs": [],
   "source": [
    "#------Define the interaction\n",
    "lj.pair_coeff.set('NP','NP', epsilon = 1.0, sigma = 5.0);\n",
    "lj.pair_coeff.set('M', 'M', epsilon = 1.0, sigma = 1.0);\n",
    "lj.pair_coeff.set('A', 'A', epsilon = 1.0, sigma = 1.0);\n",
    "lj.pair_coeff.set('M', 'A', epsilon = 1.0, sigma = 1.0);\n",
    "lj.pair_coeff.set('NP', 'M', epsilon = 1.0, sigma = 3.0);\n",
    "lj.pair_coeff.set('NP', 'A', epsilon = 1.0, sigma = 3.0);"
   ]
  },
  {
   "cell_type": "code",
   "execution_count": null,
   "metadata": {},
   "outputs": [],
   "source": [
    "#------Select an standar integrator\n",
    "hoomd.md.integrate.mode_standard(dt = 0.005);\n",
    "\n",
    "#-----Define some groups and make their union\n",
    "\n",
    "nanoparticles = hoomd.group.type(name = 'NPs', type = 'NP');\n",
    "mesogens = hoomd.group.rigid_center();\n",
    "groupNP_mes = hoomd.group.union(name = 'NP_Mes', a = nanoparticles, b = mesogens);"
   ]
  },
  {
   "cell_type": "code",
   "execution_count": null,
   "metadata": {},
   "outputs": [],
   "source": [
    "#-----Integrate using NPT\n",
    "\n",
    "npt = hoomd.md. integrate.npt(group = groupNP_mes, kT = t_max, tau = 10.0, tauP = 10.0, P = p_max);"
   ]
  },
  {
   "cell_type": "code",
   "execution_count": null,
   "metadata": {},
   "outputs": [],
   "source": [
    "#-----Save data\n",
    "\n",
    "log_file = \"T_\" + str(t_max) + \"_P_\" + str(p_max) + \"_equilibrium.log\"\n",
    "gsd_file = \"T_\" + str(t_max) + \"_P_\" + str(p_max) + \"_equilibrium.gsd\"\n",
    "meso_gsd_file = \"T_CM_\" + str(t_max) + \"_P_\" + str(p_max) + \"_equilibrium.log\"\n",
    "\n",
    "log = hoomd.analyze.log(filename = log_file,\n",
    "                       quantities = ['num_particles', \n",
    "                                    'ndof',\n",
    "                                    'translational_ndof',\n",
    "                                    'rotational_ndof',\n",
    "                                    'potential_energy',\n",
    "                                    'kinetic_energy',\n",
    "                                    'translational_kinetic_energy',\n",
    "                                    'rotational_kinetic_energy',\n",
    "                                    'temperature',\n",
    "                                    'pressure',\n",
    "                                    'volume'],\n",
    "                       period = 1e3,\n",
    "                       overwrite = True);\n",
    "gsd = hoomd.dump.gsd(gsd_file, period = 1e3, group = hoomd.group.all(), overwrite = True);\n",
    "meso_gsd = hoomd.dump.gsd(meso_gsd_file, period=1e3, group = mesogens, overwrite = True);"
   ]
  },
  {
   "cell_type": "code",
   "execution_count": null,
   "metadata": {},
   "outputs": [],
   "source": [
    "#-----Run the simulation\n",
    "\n",
    "hoomd.run(steps_run)"
   ]
  },
  {
   "cell_type": "code",
   "execution_count": null,
   "metadata": {},
   "outputs": [],
   "source": [
    "#-----Get volume and density information.\n",
    "system.box.get_volume()"
   ]
  },
  {
   "cell_type": "code",
   "execution_count": null,
   "metadata": {},
   "outputs": [],
   "source": [
    "system.get_metadata()"
   ]
  }
 ],
 "metadata": {
  "kernelspec": {
   "display_name": "Python 3",
   "language": "python",
   "name": "python3"
  },
  "language_info": {
   "codemirror_mode": {
    "name": "ipython",
    "version": 3
   },
   "file_extension": ".py",
   "mimetype": "text/x-python",
   "name": "python",
   "nbconvert_exporter": "python",
   "pygments_lexer": "ipython3",
   "version": "3.7.3"
  }
 },
 "nbformat": 4,
 "nbformat_minor": 4
}
